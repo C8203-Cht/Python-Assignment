{
  "nbformat": 4,
  "nbformat_minor": 0,
  "metadata": {
    "colab": {
      "name": "PYTHON BASİC GENERAL REPEAT",
      "provenance": [],
      "collapsed_sections": [],
      "authorship_tag": "ABX9TyOSctaqDfWP/y7G39y3TIbO",
      "include_colab_link": true
    },
    "kernelspec": {
      "name": "python3",
      "display_name": "Python 3"
    },
    "language_info": {
      "name": "python"
    }
  },
  "cells": [
    {
      "cell_type": "markdown",
      "metadata": {
        "id": "view-in-github",
        "colab_type": "text"
      },
      "source": [
        "<a href=\"https://colab.research.google.com/github/C8203-Cht/Python-Assignment/blob/main/PYTHON_BAS%C4%B0C_GENERAL_REPEAT.ipynb\" target=\"_parent\"><img src=\"https://colab.research.google.com/assets/colab-badge.svg\" alt=\"Open In Colab\"/></a>"
      ]
    },
    {
      "cell_type": "code",
      "metadata": {
        "colab": {
          "base_uri": "https://localhost:8080/"
        },
        "id": "6w3FqOmlb52f",
        "outputId": "ee184671-9dd0-4996-8a20-c1778150482a"
      },
      "source": [
        "print(\"hello\")"
      ],
      "execution_count": 1,
      "outputs": [
        {
          "output_type": "stream",
          "text": [
            "hello\n"
          ],
          "name": "stdout"
        }
      ]
    },
    {
      "cell_type": "code",
      "metadata": {
        "colab": {
          "base_uri": "https://localhost:8080/"
        },
        "id": "zSa3hED6iuoN",
        "outputId": "d78b0f80-5863-462b-a0df-eddc17ce3a53"
      },
      "source": [
        "print('Hello World!')"
      ],
      "execution_count": 2,
      "outputs": [
        {
          "output_type": "stream",
          "text": [
            "Hello World!\n"
          ],
          "name": "stdout"
        }
      ]
    },
    {
      "cell_type": "code",
      "metadata": {
        "colab": {
          "base_uri": "https://localhost:8080/"
        },
        "id": "OQeUZpE-jlb-",
        "outputId": "f007ab51-995a-45f3-c055-f4754b4b05d4"
      },
      "source": [
        "print('Being a good person')"
      ],
      "execution_count": 3,
      "outputs": [
        {
          "output_type": "stream",
          "text": [
            "Being a good person\n"
          ],
          "name": "stdout"
        }
      ]
    },
    {
      "cell_type": "code",
      "metadata": {
        "colab": {
          "base_uri": "https://localhost:8080/"
        },
        "id": "uzyBfJX2kSvw",
        "outputId": "7bbae80e-915f-488d-ec30-99e9404a5e8e"
      },
      "source": [
        "print(\"   .   \") # tırnak içerisinde yazılan her şey string veri tipidir. Boşluklar da dahil...\n",
        "# tek tırnakla başlayan tekle, çiftle başlayan çiftle bitecek"
      ],
      "execution_count": 4,
      "outputs": [
        {
          "output_type": "stream",
          "text": [
            "   .   \n"
          ],
          "name": "stdout"
        }
      ]
    },
    {
      "cell_type": "code",
      "metadata": {
        "colab": {
          "base_uri": "https://localhost:8080/"
        },
        "id": "1i-FbZeCkpSi",
        "outputId": "b84ef8af-4a09-4411-f270-4958d0869809"
      },
      "source": [
        "print(\"I'm happy to learn...\")"
      ],
      "execution_count": 5,
      "outputs": [
        {
          "output_type": "stream",
          "text": [
            "I'm happy to learn...\n"
          ],
          "name": "stdout"
        }
      ]
    },
    {
      "cell_type": "code",
      "metadata": {
        "colab": {
          "base_uri": "https://localhost:8080/"
        },
        "id": "5VL9LnxdkjJ5",
        "outputId": "ef96a27b-528a-45b0-8563-2a25a814e888"
      },
      "source": [
        "print('Arkadaşım \"merhaba\" dedi...')"
      ],
      "execution_count": 6,
      "outputs": [
        {
          "output_type": "stream",
          "text": [
            "Arkadaşım \"merhaba\" dedi...\n"
          ],
          "name": "stdout"
        }
      ]
    },
    {
      "cell_type": "markdown",
      "metadata": {
        "id": "VMUNH9Tal9VS"
      },
      "source": [
        "''' Üç tırnak kullanmak uzun metinlerde her zaman daha mantıklı olabilir.\n",
        "Dörtlü tırnak yoktur. Çalışmaz..."
      ]
    },
    {
      "cell_type": "code",
      "metadata": {
        "colab": {
          "base_uri": "https://localhost:8080/"
        },
        "id": "pE5zOGRe6dZ-",
        "outputId": "810a5ef3-be67-4196-94c0-ac6785d56ef6"
      },
      "source": [
        "print('''tekrar yapıyorum''')"
      ],
      "execution_count": 7,
      "outputs": [
        {
          "output_type": "stream",
          "text": [
            "tekrar yapıyorum\n"
          ],
          "name": "stdout"
        }
      ]
    },
    {
      "cell_type": "code",
      "metadata": {
        "colab": {
          "base_uri": "https://localhost:8080/"
        },
        "id": "rfzququmkn8B",
        "outputId": "26f39db8-3641-4bcf-b847-7609d4aeba6a"
      },
      "source": [
        "print(\"\"\"Bana \"topçu\" diye bağırdı. I'm happy to see you\"\"\")"
      ],
      "execution_count": null,
      "outputs": [
        {
          "output_type": "stream",
          "text": [
            "Bana \"topçu\" diye bağırdı. I'm happy to see you\n"
          ],
          "name": "stdout"
        }
      ]
    },
    {
      "cell_type": "code",
      "metadata": {
        "colab": {
          "base_uri": "https://localhost:8080/"
        },
        "id": "7M6FAb_Olj7e",
        "outputId": "d791fe7f-9cde-46d5-8678-64ddc10b4222"
      },
      "source": [
        "print('''Bana \"topçu\" diye bağırdı. I'm happy to see you''')#Tekli üçlü tırnak da çıktı alır."
      ],
      "execution_count": null,
      "outputs": [
        {
          "output_type": "stream",
          "text": [
            "Bana \"topçu\" diye bağırdı. I'm happy to see you\n"
          ],
          "name": "stdout"
        }
      ]
    },
    {
      "cell_type": "code",
      "metadata": {
        "colab": {
          "base_uri": "https://localhost:8080/"
        },
        "id": "Py4nGFI2mgx0",
        "outputId": "dd3cb813-1417-41b7-9918-7e8ea5d98462"
      },
      "source": [
        "print(\"3.14\")\n",
        "print(3.14)"
      ],
      "execution_count": null,
      "outputs": [
        {
          "output_type": "stream",
          "text": [
            "3.14\n",
            "3.14\n"
          ],
          "name": "stdout"
        }
      ]
    },
    {
      "cell_type": "code",
      "metadata": {
        "colab": {
          "base_uri": "https://localhost:8080/"
        },
        "id": "XIux1WU-nXXK",
        "outputId": "6e1f25eb-67de-41e2-b664-672fb715dc98"
      },
      "source": [
        "print(\"print(3.14)\")"
      ],
      "execution_count": null,
      "outputs": [
        {
          "output_type": "stream",
          "text": [
            "print(3.14)\n"
          ],
          "name": "stdout"
        }
      ]
    },
    {
      "cell_type": "code",
      "metadata": {
        "colab": {
          "base_uri": "https://localhost:8080/"
        },
        "id": "7Rvufcm_oDkN",
        "outputId": "5cc7107f-a8ea-4af6-97d3-d507620b3969"
      },
      "source": [
        "print(''''We should have enough time for our family\"''')"
      ],
      "execution_count": null,
      "outputs": [
        {
          "output_type": "stream",
          "text": [
            "'We should have enough time for our family\"\n"
          ],
          "name": "stdout"
        }
      ]
    },
    {
      "cell_type": "code",
      "metadata": {
        "colab": {
          "base_uri": "https://localhost:8080/"
        },
        "id": "H3cbi4NsoNNI",
        "outputId": "7a9c594f-0eaa-44a4-ec09-3ca017053759"
      },
      "source": [
        "print('''''''''''')# tırnaklar birbirini karşıladığı için boş string aldı..."
      ],
      "execution_count": 8,
      "outputs": [
        {
          "output_type": "stream",
          "text": [
            "\n"
          ],
          "name": "stdout"
        }
      ]
    },
    {
      "cell_type": "code",
      "metadata": {
        "id": "tq5o4DURonTz",
        "colab": {
          "base_uri": "https://localhost:8080/",
          "height": 131
        },
        "outputId": "0eff3a20-5ea0-4d21-b40d-659cdf9a00cb"
      },
      "source": [
        "print('We should have enough time for our family\") \n",
        "# tek tırnakla başlayıp çiftle bittiği için hata verir"
      ],
      "execution_count": 9,
      "outputs": [
        {
          "output_type": "error",
          "ename": "SyntaxError",
          "evalue": "ignored",
          "traceback": [
            "\u001b[0;36m  File \u001b[0;32m\"<ipython-input-9-081fb611eea8>\"\u001b[0;36m, line \u001b[0;32m1\u001b[0m\n\u001b[0;31m    print('We should have enough time for our family\")\u001b[0m\n\u001b[0m                                                       ^\u001b[0m\n\u001b[0;31mSyntaxError\u001b[0m\u001b[0;31m:\u001b[0m EOL while scanning string literal\n"
          ]
        }
      ]
    },
    {
      "cell_type": "code",
      "metadata": {
        "colab": {
          "base_uri": "https://localhost:8080/"
        },
        "id": "Sm556DktpFGT",
        "outputId": "85172e85-19c1-4eaa-bbba-c9be08500ca9"
      },
      "source": [
        "print('first line')\n",
        "print()\n",
        "print('third line')"
      ],
      "execution_count": null,
      "outputs": [
        {
          "output_type": "stream",
          "text": [
            "first line\n",
            "\n",
            "third line\n"
          ],
          "name": "stdout"
        }
      ]
    },
    {
      "cell_type": "code",
      "metadata": {
        "colab": {
          "base_uri": "https://localhost:8080/"
        },
        "id": "n1VWBorJppVt",
        "outputId": "f1324fa1-e226-42f7-b16a-74e1e7646d77"
      },
      "source": [
        "print()\n",
        "print('') # iki boş satır çıktı verir..."
      ],
      "execution_count": null,
      "outputs": [
        {
          "output_type": "stream",
          "text": [
            "\n",
            "\n"
          ],
          "name": "stdout"
        }
      ]
    },
    {
      "cell_type": "code",
      "metadata": {
        "id": "gQfJVaf5pxHW",
        "colab": {
          "base_uri": "https://localhost:8080/",
          "height": 149
        },
        "outputId": "7000020f-4447-48bf-fb63-e692974df44b"
      },
      "source": [
        "print()\n",
        "print('''') \n",
        "# hata verir"
      ],
      "execution_count": 12,
      "outputs": [
        {
          "output_type": "error",
          "ename": "SyntaxError",
          "evalue": "ignored",
          "traceback": [
            "\u001b[0;36m  File \u001b[0;32m\"<ipython-input-12-c9633cd47afe>\"\u001b[0;36m, line \u001b[0;32m3\u001b[0m\n\u001b[0;31m    # hata verir\u001b[0m\n\u001b[0m                \n^\u001b[0m\n\u001b[0;31mSyntaxError\u001b[0m\u001b[0;31m:\u001b[0m EOF while scanning triple-quoted string literal\n"
          ]
        }
      ]
    },
    {
      "cell_type": "markdown",
      "metadata": {
        "id": "MXLI6eRdrB_W"
      },
      "source": [
        "PEP 8 RULES (PYTHON ENHANCEMENT PROPOSAL)\n"
      ]
    },
    {
      "cell_type": "code",
      "metadata": {
        "colab": {
          "base_uri": "https://localhost:8080/"
        },
        "id": "vJ1LleWUqTFX",
        "outputId": "272643fb-dba8-41d7-ad34-f73e9de9f8c8"
      },
      "source": [
        "print('Being a good person') #bir satırda 79 karakteri geçmesek iyi olur.\n"
      ],
      "execution_count": null,
      "outputs": [
        {
          "output_type": "stream",
          "text": [
            "Being a good person\n"
          ],
          "name": "stdout"
        }
      ]
    },
    {
      "cell_type": "markdown",
      "metadata": {
        "id": "k4O3RLYQsHqM"
      },
      "source": [
        "*** Fazladan boşluk bırakmaktan kaçının:\n",
        "1- [] parantez veya () parantez veya {} içine bir şey yazacağımız zaman gereksiz boşlıktan kaçın\n",
        "2-(2,) parantez içindeki virgülden sonra boşluk bırakmayın\n",
        "3- :  ; ve  , den önce boşluk bırakmıyoruz\n",
        "4- () açmadan önce boşluk bırakmamalıyız. print  () gibi..."
      ]
    },
    {
      "cell_type": "code",
      "metadata": {
        "colab": {
          "base_uri": "https://localhost:8080/"
        },
        "id": "EeASZGye0HFs",
        "outputId": "ec10834d-52b0-48c0-84d2-e9c986448742"
      },
      "source": [
        "print(\"hello world\")  # Bu benim code ile aynı satırda olan ilk comment'im Bu\n",
        "                      # inline comment\n",
        "# Single comment: satırda hiçbir code yoksa olur... Like this\n",
        "# print(\"hello\") burada ctl / (slash) yaparak satırın tamamını commente çevirdim.\n",
        "# ctrl / tekrar çalıştırılırsa commenti tekrar eski haline çevirir.\n",
        "# Bir satırda hem cod hem de commentler varsa buna multi-line comment denir.\n",
        "# comment: neccesary, sufficient and updated olmalı\n"
      ],
      "execution_count": null,
      "outputs": [
        {
          "output_type": "stream",
          "text": [
            "hello world\n"
          ],
          "name": "stdout"
        }
      ]
    },
    {
      "cell_type": "code",
      "metadata": {
        "id": "bmKJzp-vUjif"
      },
      "source": [
        ""
      ],
      "execution_count": null,
      "outputs": []
    },
    {
      "cell_type": "markdown",
      "metadata": {
        "id": "m_d1nUqnWG9S"
      },
      "source": [
        "Docstring: ._doc_ comment2ten farklı olarak daha çok metin ve açıklamanın yer aldığı açıklama bölümüne benzer metinlerdir. fonksiyonun dokümantasyonu anlamına gelir. print.__doc__ yazdığımız zaman print fonksiyonunun açıklamasına ulaşabiliriz."
      ]
    },
    {
      "cell_type": "code",
      "metadata": {
        "colab": {
          "base_uri": "https://localhost:8080/",
          "height": 70
        },
        "id": "wjo9pdbGX3nH",
        "outputId": "eb8642b5-8ada-4beb-9808-869aeb0d5366"
      },
      "source": [
        "print.__doc__"
      ],
      "execution_count": null,
      "outputs": [
        {
          "output_type": "execute_result",
          "data": {
            "application/vnd.google.colaboratory.intrinsic+json": {
              "type": "string"
            },
            "text/plain": [
              "\"print(value, ..., sep=' ', end='\\\\n', file=sys.stdout, flush=False)\\n\\nPrints the values to a stream, or to sys.stdout by default.\\nOptional keyword arguments:\\nfile:  a file-like object (stream); defaults to the current sys.stdout.\\nsep:   string inserted between values, default a space.\\nend:   string appended after the last value, default a newline.\\nflush: whether to forcibly flush the stream.\""
            ]
          },
          "metadata": {
            "tags": []
          },
          "execution_count": 2
        }
      ]
    },
    {
      "cell_type": "code",
      "metadata": {
        "colab": {
          "base_uri": "https://localhost:8080/"
        },
        "id": "2POhfKwCX9OO",
        "outputId": "9e318460-6e63-4233-e021-d11aa7b10f60"
      },
      "source": [
        "print(print.__doc__) # bu şekilde de görebiliriz."
      ],
      "execution_count": null,
      "outputs": [
        {
          "output_type": "stream",
          "text": [
            "print(value, ..., sep=' ', end='\\n', file=sys.stdout, flush=False)\n",
            "\n",
            "Prints the values to a stream, or to sys.stdout by default.\n",
            "Optional keyword arguments:\n",
            "file:  a file-like object (stream); defaults to the current sys.stdout.\n",
            "sep:   string inserted between values, default a space.\n",
            "end:   string appended after the last value, default a newline.\n",
            "flush: whether to forcibly flush the stream.\n"
          ],
          "name": "stdout"
        }
      ]
    },
    {
      "cell_type": "code",
      "metadata": {
        "colab": {
          "base_uri": "https://localhost:8080/"
        },
        "id": "U9AnX88HYLmg",
        "outputId": "57bdbedb-1c30-4a07-ff83-f39fdc8dbd1a"
      },
      "source": [
        "print(map.__doc__)"
      ],
      "execution_count": null,
      "outputs": [
        {
          "output_type": "stream",
          "text": [
            "map(func, *iterables) --> map object\n",
            "\n",
            "Make an iterator that computes the function using arguments from\n",
            "each of the iterables.  Stops when the shortest iterable is exhausted.\n"
          ],
          "name": "stdout"
        }
      ]
    },
    {
      "cell_type": "code",
      "metadata": {
        "colab": {
          "base_uri": "https://localhost:8080/"
        },
        "id": "e29mk0b1Y0IT",
        "outputId": "d5ab97f0-7750-45c2-a5b3-d4d9532a89e0"
      },
      "source": [
        "print(sum.__doc__)"
      ],
      "execution_count": null,
      "outputs": [
        {
          "output_type": "stream",
          "text": [
            "Return the sum of a 'start' value (default: 0) plus an iterable of numbers\n",
            "\n",
            "When the iterable is empty, return the start value.\n",
            "This function is intended specifically for use with numeric values and may\n",
            "reject non-numeric types.\n"
          ],
          "name": "stdout"
        }
      ]
    },
    {
      "cell_type": "code",
      "metadata": {
        "colab": {
          "base_uri": "https://localhost:8080/"
        },
        "id": "uHjDzCM1Y9xi",
        "outputId": "9cb93bb2-b997-443e-ce89-7eea1709016e"
      },
      "source": [
        "print(input.__doc__)"
      ],
      "execution_count": null,
      "outputs": [
        {
          "output_type": "stream",
          "text": [
            "Forward raw_input to frontends\n",
            "\n",
            "        Raises\n",
            "        ------\n",
            "        StdinNotImplentedError if active frontend doesn't support stdin.\n",
            "        \n"
          ],
          "name": "stdout"
        }
      ]
    },
    {
      "cell_type": "markdown",
      "metadata": {
        "id": "HkAdWE1JZqLj"
      },
      "source": [
        "NAMİNG VARİABLE\n",
        "****küçük harfler kullanılır, büyük harf tercih edilmez, sözcükler arasında _ kullanılır, küçük L kullanılmaz, büyük \"O\" 0 ile karışabilir, bunların hepsi çalışır ama kafa karıştırır. Python a ait belli keywordleri kullanmamalıyız. keyword lerin rengi farklı oluyor zaten.\n",
        "**** Python case sensitive dir. Yani büyük harf küçük harf duyarlıdır. Büyük harf ve küçük harf birbirinden farklıdır.\n",
        "****İsimler rakamla başlayamaz, arada rakam olabilir, aralarında boşluk olmaz, özel karakterler kullanılmaz\n"
      ]
    },
    {
      "cell_type": "code",
      "metadata": {
        "colab": {
          "base_uri": "https://localhost:8080/"
        },
        "id": "UAwuAipjZDDa",
        "outputId": "b67e8d62-f7b8-4010-a881-3e4a40ccec1a"
      },
      "source": [
        "# variable_name = value\n",
        "x = 11\n",
        "print(x)\n",
        "y = 22.5\n",
        "print(y)\n",
        "z = \"otuz üç\"\n",
        "print(z)"
      ],
      "execution_count": null,
      "outputs": [
        {
          "output_type": "stream",
          "text": [
            "11\n",
            "22.5\n",
            "otuz üç\n"
          ],
          "name": "stdout"
        }
      ]
    },
    {
      "cell_type": "code",
      "metadata": {
        "colab": {
          "base_uri": "https://localhost:8080/"
        },
        "id": "ElkEWtbva2KY",
        "outputId": "36b9b9f5-1750-45ca-a222-5f8581b2ffcc"
      },
      "source": [
        "my_age = 33\n",
        "your_age = 30\n",
        "my_age = your_age # son atanan değişken değeri güncel olur. Sağdaki değeri eşittirin soluna atar.\n",
        "print(my_age)\n"
      ],
      "execution_count": null,
      "outputs": [
        {
          "output_type": "stream",
          "text": [
            "30\n"
          ],
          "name": "stdout"
        }
      ]
    },
    {
      "cell_type": "code",
      "metadata": {
        "colab": {
          "base_uri": "https://localhost:8080/"
        },
        "id": "XIYLM-bEbxhD",
        "outputId": "9014b87b-bf57-45b3-b74a-153cec0bb3c1"
      },
      "source": [
        "x = 10\n",
        "x = 12 \n",
        "x = 13\n",
        "x = 14\n",
        "print(x) # x e atanan en son değeri çıktı alır."
      ],
      "execution_count": null,
      "outputs": [
        {
          "output_type": "stream",
          "text": [
            "14\n"
          ],
          "name": "stdout"
        }
      ]
    },
    {
      "cell_type": "code",
      "metadata": {
        "colab": {
          "base_uri": "https://localhost:8080/"
        },
        "id": "IZyk_JWqfUsX",
        "outputId": "04106942-261d-4d35-c0bd-bfce387025e7"
      },
      "source": [
        "xx = 11\n",
        "yy = 21 \n",
        "zz = 15\n",
        "xx = yy\n",
        "zz = xx\n",
        "print(xx,yy,zz)"
      ],
      "execution_count": null,
      "outputs": [
        {
          "output_type": "stream",
          "text": [
            "21 21 21\n"
          ],
          "name": "stdout"
        }
      ]
    },
    {
      "cell_type": "markdown",
      "metadata": {
        "id": "TkMddSgugjQc"
      },
      "source": [
        ""
      ]
    },
    {
      "cell_type": "code",
      "metadata": {
        "colab": {
          "base_uri": "https://localhost:8080/",
          "height": 131
        },
        "id": "gXP-70IpgIcO",
        "outputId": "553f8d4f-db90-4406-d80e-3f454ef00544"
      },
      "source": [
        "$cht = 14"
      ],
      "execution_count": null,
      "outputs": [
        {
          "output_type": "error",
          "ename": "SyntaxError",
          "evalue": "ignored",
          "traceback": [
            "\u001b[0;36m  File \u001b[0;32m\"<ipython-input-21-af48293a6a80>\"\u001b[0;36m, line \u001b[0;32m1\u001b[0m\n\u001b[0;31m    $cht = 14\u001b[0m\n\u001b[0m    ^\u001b[0m\n\u001b[0;31mSyntaxError\u001b[0m\u001b[0;31m:\u001b[0m invalid syntax\n"
          ]
        }
      ]
    },
    {
      "cell_type": "code",
      "metadata": {
        "colab": {
          "base_uri": "https://localhost:8080/",
          "height": 131
        },
        "id": "9alWQ6lii1wk",
        "outputId": "9c407c8c-4550-4692-b35d-b4a340e7e80b"
      },
      "source": [
        "cht%/&%tsc = 15"
      ],
      "execution_count": null,
      "outputs": [
        {
          "output_type": "error",
          "ename": "SyntaxError",
          "evalue": "ignored",
          "traceback": [
            "\u001b[0;36m  File \u001b[0;32m\"<ipython-input-22-a2a2148d38df>\"\u001b[0;36m, line \u001b[0;32m1\u001b[0m\n\u001b[0;31m    cht%/&%tsc = 15\u001b[0m\n\u001b[0m        ^\u001b[0m\n\u001b[0;31mSyntaxError\u001b[0m\u001b[0;31m:\u001b[0m invalid syntax\n"
          ]
        }
      ]
    },
    {
      "cell_type": "code",
      "metadata": {
        "id": "hdAGFy-xi8oZ"
      },
      "source": [
        "yağmur = \"sağanak\" # ğ gibi Türkçe karakterlerde problem çıkarmadığını görüyoruz."
      ],
      "execution_count": null,
      "outputs": []
    },
    {
      "cell_type": "code",
      "metadata": {
        "id": "jbL2HKbQjDdt"
      },
      "source": [
        "# Name okunabilir, anlamlı ve değerle uyumlu olarak verilmelidir."
      ],
      "execution_count": null,
      "outputs": []
    },
    {
      "cell_type": "code",
      "metadata": {
        "id": "jydhmzyIjpva"
      },
      "source": [
        "# Average incom of February\n",
        "avg_income_feb = \"....\""
      ],
      "execution_count": null,
      "outputs": []
    },
    {
      "cell_type": "markdown",
      "metadata": {
        "id": "vWN6d_fsr_8p"
      },
      "source": [
        "BASİC DATA TYPES"
      ]
    },
    {
      "cell_type": "markdown",
      "metadata": {
        "id": "n1c6hYzis5Sa"
      },
      "source": [
        "İnteger"
      ]
    },
    {
      "cell_type": "markdown",
      "metadata": {
        "id": "Zb1D3sZ1sMl9"
      },
      "source": [
        "String "
      ]
    },
    {
      "cell_type": "markdown",
      "metadata": {
        "id": "LWkjm13gsbx8"
      },
      "source": [
        "Numeric:"
      ]
    },
    {
      "cell_type": "markdown",
      "metadata": {
        "id": "qz8BUKqNs45O"
      },
      "source": [
        "Float"
      ]
    },
    {
      "cell_type": "markdown",
      "metadata": {
        "id": "sowW9jPqsdlr"
      },
      "source": [
        "Boolean"
      ]
    },
    {
      "cell_type": "code",
      "metadata": {
        "colab": {
          "base_uri": "https://localhost:8080/"
        },
        "id": "6g7Sutc_j6Am",
        "outputId": "fe87bb22-f75a-4bf1-ec20-bca280df0940"
      },
      "source": [
        "january = march = may = july = august = october = december = 31\n",
        "april = june = september = november = 30\n",
        "february = 28\n",
        "print(january, february, march, april, may, june, july, august, september, october, november, december)"
      ],
      "execution_count": null,
      "outputs": [
        {
          "output_type": "stream",
          "text": [
            "31 28 31 30 31 30 31 31 30 31 30 31\n"
          ],
          "name": "stdout"
        }
      ]
    },
    {
      "cell_type": "code",
      "metadata": {
        "colab": {
          "base_uri": "https://localhost:8080/",
          "height": 131
        },
        "id": "94KsVu_VuTYH",
        "outputId": "6246ec11-149b-4fde-e280-cc68df9a9591"
      },
      "source": [
        "11 = 12\n",
        "print(11)"
      ],
      "execution_count": null,
      "outputs": [
        {
          "output_type": "error",
          "ename": "SyntaxError",
          "evalue": "ignored",
          "traceback": [
            "\u001b[0;36m  File \u001b[0;32m\"<ipython-input-32-61a5fa70b51f>\"\u001b[0;36m, line \u001b[0;32m1\u001b[0m\n\u001b[0;31m    11 = 12\u001b[0m\n\u001b[0m           ^\u001b[0m\n\u001b[0;31mSyntaxError\u001b[0m\u001b[0;31m:\u001b[0m can't assign to literal\n"
          ]
        }
      ]
    },
    {
      "cell_type": "code",
      "metadata": {
        "id": "SMotxZu1vJY-"
      },
      "source": [
        "thomas = 33\n",
        "marry = 28\n",
        "walter = None # Bir değişkeni boş bırakıp daha sonra kullanmak istiyorsam \n",
        "              #  None değeri atarım...\n",
        "isabella = 46"
      ],
      "execution_count": 13,
      "outputs": []
    },
    {
      "cell_type": "code",
      "metadata": {
        "colab": {
          "base_uri": "https://localhost:8080/"
        },
        "id": "jzQ4yL0gvrq6",
        "outputId": "80edcba5-9f61-4928-de75-41f655eaeee4"
      },
      "source": [
        "website =\"apple.com\"\n",
        "print(website)\n",
        "website = \"clarusway.com\"\n",
        "print(website) # Bir değişkene sonradan burada olduğu gibi yeni bir değer atayabiliriz."
      ],
      "execution_count": null,
      "outputs": [
        {
          "output_type": "stream",
          "text": [
            "apple.com\n",
            "clarusway.com\n"
          ],
          "name": "stdout"
        }
      ]
    },
    {
      "cell_type": "code",
      "metadata": {
        "colab": {
          "base_uri": "https://localhost:8080/"
        },
        "id": "RITUCxEWxTUW",
        "outputId": "d873e9a6-3d87-4f6c-eb09-72f2fbf034a7"
      },
      "source": [
        "x = 11\n",
        "y = 12\n",
        "z = 13\n",
        "x = 14 \n",
        "z = 15 \n",
        "x = 16\n",
        "print(x,y,z)"
      ],
      "execution_count": null,
      "outputs": [
        {
          "output_type": "stream",
          "text": [
            "16 12 15\n"
          ],
          "name": "stdout"
        }
      ]
    },
    {
      "cell_type": "code",
      "metadata": {
        "colab": {
          "base_uri": "https://localhost:8080/"
        },
        "id": "qMkRIZa8x8C1",
        "outputId": "7c87be73-bce6-4916-93ff-b850ebdce873"
      },
      "source": [
        "a, b , c = 5, 3.2, \"Hello\" # eşitliğin iki tarafındaki değişken ve değer sayısı eşit olacak.\n",
        "print(a)\n",
        "print(b)\n",
        "print(c)"
      ],
      "execution_count": null,
      "outputs": [
        {
          "output_type": "stream",
          "text": [
            "5\n",
            "3.2\n",
            "Hello\n"
          ],
          "name": "stdout"
        }
      ]
    },
    {
      "cell_type": "code",
      "metadata": {
        "colab": {
          "base_uri": "https://localhost:8080/"
        },
        "id": "jSOuapqdybhE",
        "outputId": "8ca70e47-7b8c-4d0d-9cae-f17215887b5d"
      },
      "source": [
        "my_text = \"Being a good person\"\n",
        "my_text = 'Being a good person'\n",
        "my_text = '''Being a good person''' # string iterable dır. yani elemanlarına teker teker ayrılabilir.\n",
        "# string veri tırnaklarla yapılır\n",
        "type(my_text) # bir değikenin type'ını yandaki type fonksiyonuyla öğrenebiliriz.\n",
        "# str: string değerlerin type ıdır."
      ],
      "execution_count": null,
      "outputs": [
        {
          "output_type": "execute_result",
          "data": {
            "text/plain": [
              "str"
            ]
          },
          "metadata": {
            "tags": []
          },
          "execution_count": 41
        }
      ]
    },
    {
      "cell_type": "code",
      "metadata": {
        "colab": {
          "base_uri": "https://localhost:8080/"
        },
        "id": "y5w91xLF1LYP",
        "outputId": "4e67c281-b8dc-4f83-de02-f036d17e78c5"
      },
      "source": [
        "x = 632\n",
        "print(x)"
      ],
      "execution_count": null,
      "outputs": [
        {
          "output_type": "stream",
          "text": [
            "632\n"
          ],
          "name": "stdout"
        }
      ]
    },
    {
      "cell_type": "code",
      "metadata": {
        "colab": {
          "base_uri": "https://localhost:8080/"
        },
        "id": "vWwTdq_P1y36",
        "outputId": "34907ac5-0c1b-485f-af9d-ac4e3f7ed120"
      },
      "source": [
        "print(type(x))"
      ],
      "execution_count": null,
      "outputs": [
        {
          "output_type": "stream",
          "text": [
            "<class 'int'>\n"
          ],
          "name": "stdout"
        }
      ]
    },
    {
      "cell_type": "code",
      "metadata": {
        "colab": {
          "base_uri": "https://localhost:8080/"
        },
        "id": "FkQ7DRxj2DHq",
        "outputId": "058743c3-07af-41dd-9d82-1601746d8444"
      },
      "source": [
        "# integer tamsayılardır. int\n",
        "\n",
        "my_integer = 40\n",
        "negative_integer = -18\n",
        "print(my_integer,negative_integer)"
      ],
      "execution_count": null,
      "outputs": [
        {
          "output_type": "stream",
          "text": [
            "40 -18\n"
          ],
          "name": "stdout"
        }
      ]
    },
    {
      "cell_type": "code",
      "metadata": {
        "colab": {
          "base_uri": "https://localhost:8080/"
        },
        "id": "ggPZwdCf2ycR",
        "outputId": "42c5edff-2772-48e3-ac23-0d65b49b70af"
      },
      "source": [
        "# float ondalık sayılardır. float\n",
        "my_float = 40.0\n",
        "negative_float = -18.66\n",
        "print(my_float,negative_float)"
      ],
      "execution_count": null,
      "outputs": [
        {
          "output_type": "stream",
          "text": [
            "40.0 -18.66\n"
          ],
          "name": "stdout"
        }
      ]
    },
    {
      "cell_type": "code",
      "metadata": {
        "id": "FvBi45ig3LJo"
      },
      "source": [
        "# Herhangi bir değişkenin değeri True veya False ise o bir bloolean'dır.\n"
      ],
      "execution_count": null,
      "outputs": []
    },
    {
      "cell_type": "markdown",
      "metadata": {
        "id": "CgLWjJUQ5S4a"
      },
      "source": [
        "TYPE CONVERSİON YANİ VERİ TÜRLERİNİN BİRBİRİNE DÖNDÜRÜLMESİ\n"
      ]
    },
    {
      "cell_type": "code",
      "metadata": {
        "colab": {
          "base_uri": "https://localhost:8080/"
        },
        "id": "wHwHU_As5XFw",
        "outputId": "801b019c-f0ec-4dfb-8553-42d6f1e1e14c"
      },
      "source": [
        "my_data = \"I am string\"\n",
        "# str() bu şekilde her türlü veriyi stringe çevirebiliriz.\n",
        "# int()\n",
        "# float()\n",
        "print(str(True))\n",
        "pi = 3.14\n",
        "print(type(pi))\n",
        "converted_str = str(pi)\n",
        "print(converted_str)\n",
        "print(type(converted_str))"
      ],
      "execution_count": null,
      "outputs": [
        {
          "output_type": "stream",
          "text": [
            "True\n",
            "<class 'float'>\n",
            "3.14\n",
            "<class 'str'>\n"
          ],
          "name": "stdout"
        }
      ]
    },
    {
      "cell_type": "code",
      "metadata": {
        "colab": {
          "base_uri": "https://localhost:8080/"
        },
        "id": "XOnAcJEO6TW5",
        "outputId": "0b8f4de3-a451-4f5a-e497-cc0762378fdd"
      },
      "source": [
        "# from float to integer' a dönüştürürken ondalık kısmı yuvarlar yani\n",
        "# virgülden sonrasını tamamen atar.\n",
        "pi = 3.14\n",
        "print(type(pi))\n",
        "converted_pi = int(pi)\n",
        "print(converted_pi) \n",
        "print(type(converted_pi))"
      ],
      "execution_count": null,
      "outputs": [
        {
          "output_type": "stream",
          "text": [
            "<class 'float'>\n",
            "3\n",
            "<class 'int'>\n"
          ],
          "name": "stdout"
        }
      ]
    },
    {
      "cell_type": "code",
      "metadata": {
        "colab": {
          "base_uri": "https://localhost:8080/"
        },
        "id": "4bSKk06k70rn",
        "outputId": "d1d86b6c-ce68-439a-af5e-6294034ee115"
      },
      "source": [
        "# from integer to float and string: String'in içindeki tam sayı rakamla olursa döndürür, diğer durumlarda döndürmez.\n",
        "a = \"10\"\n",
        "print(int(a))\n",
        "x = 3\n",
        "print(type(x))\n",
        "converted_x = float(x)\n",
        "print(converted_x)\n",
        "print(type(converted_x))"
      ],
      "execution_count": null,
      "outputs": [
        {
          "output_type": "stream",
          "text": [
            "10\n",
            "<class 'int'>\n",
            "3.0\n",
            "<class 'float'>\n"
          ],
          "name": "stdout"
        }
      ]
    },
    {
      "cell_type": "code",
      "metadata": {
        "colab": {
          "base_uri": "https://localhost:8080/"
        },
        "id": "y1pgI6C49VMB",
        "outputId": "cca5db71-24fb-41c4-da27-12a31589f3be"
      },
      "source": [
        "b = \"11\" # String değeri başka bir değişkene atamazsak type yine string olur\n",
        "         # Ancak döndürmek istediğimiz veri tipinin sonucunu çıkrı alabiliriz.\n",
        "print(int(b))\n",
        "print(type(b))\n",
        "c = int(b)\n",
        "print(type(c))"
      ],
      "execution_count": null,
      "outputs": [
        {
          "output_type": "stream",
          "text": [
            "11\n",
            "<class 'str'>\n",
            "<class 'int'>\n"
          ],
          "name": "stdout"
        }
      ]
    },
    {
      "cell_type": "code",
      "metadata": {
        "colab": {
          "base_uri": "https://localhost:8080/"
        },
        "id": "wTE2KeWqwz7M",
        "outputId": "19859d74-71cb-4cf3-992c-542dc180c7f1"
      },
      "source": [
        "alfa = \"2.5\"\n",
        "print(float(alfa))\n",
        "print(type(alfa))\n",
        "beta = float(alfa)\n",
        "print(type(beta))"
      ],
      "execution_count": null,
      "outputs": [
        {
          "output_type": "stream",
          "text": [
            "2.5\n",
            "<class 'str'>\n",
            "<class 'float'>\n"
          ],
          "name": "stdout"
        }
      ]
    },
    {
      "cell_type": "code",
      "metadata": {
        "colab": {
          "base_uri": "https://localhost:8080/",
          "height": 183
        },
        "id": "VY68kA2lxlc7",
        "outputId": "acaa3608-f073-4e58-df46-d773274cf61e"
      },
      "source": [
        "3 + \"3\""
      ],
      "execution_count": null,
      "outputs": [
        {
          "output_type": "error",
          "ename": "TypeError",
          "evalue": "ignored",
          "traceback": [
            "\u001b[0;31m---------------------------------------------------------------------------\u001b[0m",
            "\u001b[0;31mTypeError\u001b[0m                                 Traceback (most recent call last)",
            "\u001b[0;32m<ipython-input-14-b75643417535>\u001b[0m in \u001b[0;36m<module>\u001b[0;34m()\u001b[0m\n\u001b[0;32m----> 1\u001b[0;31m \u001b[0;36m3\u001b[0m \u001b[0;34m+\u001b[0m \u001b[0;34m\"3\"\u001b[0m\u001b[0;34m\u001b[0m\u001b[0;34m\u001b[0m\u001b[0m\n\u001b[0m\u001b[1;32m      2\u001b[0m \u001b[0;36m3\u001b[0m \u001b[0;34m+\u001b[0m \u001b[0mint\u001b[0m\u001b[0;34m(\u001b[0m\u001b[0;34m\"3\"\u001b[0m\u001b[0;34m)\u001b[0m\u001b[0;34m\u001b[0m\u001b[0;34m\u001b[0m\u001b[0m\n",
            "\u001b[0;31mTypeError\u001b[0m: unsupported operand type(s) for +: 'int' and 'str'"
          ]
        }
      ]
    },
    {
      "cell_type": "code",
      "metadata": {
        "colab": {
          "base_uri": "https://localhost:8080/"
        },
        "id": "6N1YrydvzKWX",
        "outputId": "712ecc78-063f-43ce-b655-d77394923013"
      },
      "source": [
        "3 + int(\"3\")"
      ],
      "execution_count": null,
      "outputs": [
        {
          "output_type": "execute_result",
          "data": {
            "text/plain": [
              "6"
            ]
          },
          "metadata": {
            "tags": []
          },
          "execution_count": 15
        }
      ]
    },
    {
      "cell_type": "code",
      "metadata": {
        "colab": {
          "base_uri": "https://localhost:8080/",
          "height": 35
        },
        "id": "vYubbQOvzW3K",
        "outputId": "aaee1cd9-e657-4861-ee2d-c04d72261100"
      },
      "source": [
        "str(3) + \"3\""
      ],
      "execution_count": null,
      "outputs": [
        {
          "output_type": "execute_result",
          "data": {
            "application/vnd.google.colaboratory.intrinsic+json": {
              "type": "string"
            },
            "text/plain": [
              "'33'"
            ]
          },
          "metadata": {
            "tags": []
          },
          "execution_count": 16
        }
      ]
    },
    {
      "cell_type": "code",
      "metadata": {
        "colab": {
          "base_uri": "https://localhost:8080/"
        },
        "id": "cx5PuqCgzbwx",
        "outputId": "91c0662b-6b45-48ea-9353-1a8442923cfd"
      },
      "source": [
        "3 + float(\"3\") # Float bir değerle işlem yapıldığında sonucu her zaman float olacaktır."
      ],
      "execution_count": null,
      "outputs": [
        {
          "output_type": "execute_result",
          "data": {
            "text/plain": [
              "6.0"
            ]
          },
          "metadata": {
            "tags": []
          },
          "execution_count": 17
        }
      ]
    },
    {
      "cell_type": "markdown",
      "metadata": {
        "id": "FrIjNGHikkwm"
      },
      "source": [
        "SIMPLE OPERATION\n"
      ]
    },
    {
      "cell_type": "markdown",
      "metadata": {
        "id": "LJkgYEp-lcsB"
      },
      "source": [
        "Aritmetic Operators"
      ]
    },
    {
      "cell_type": "code",
      "metadata": {
        "id": "OaA6NXOUlhLz"
      },
      "source": [
        "# / Bölme işlemidir ve sonucu Float olarak verir.\n",
        "# // Bölme işlemidir ve tam sayı olarak bölümü verir\n",
        "#  % Bölme işlemidir. Mod alma denir. Bölmede kalanı verir.\n",
        "# modulus 2 de kalan 1 ise tektir, kalan 0 ise çiftttir."
      ],
      "execution_count": null,
      "outputs": []
    },
    {
      "cell_type": "code",
      "metadata": {
        "colab": {
          "base_uri": "https://localhost:8080/"
        },
        "id": "9tOdW5gGm84R",
        "outputId": "ae2e7257-530e-4690-b921-1dbef1e957c3"
      },
      "source": [
        "20  / 2"
      ],
      "execution_count": null,
      "outputs": [
        {
          "output_type": "execute_result",
          "data": {
            "text/plain": [
              "10.0"
            ]
          },
          "metadata": {
            "tags": []
          },
          "execution_count": 2
        }
      ]
    },
    {
      "cell_type": "code",
      "metadata": {
        "colab": {
          "base_uri": "https://localhost:8080/"
        },
        "id": "zwmWBGmlmvOn",
        "outputId": "ce6b6fea-191c-42c8-dd3e-9d5e6a2421ad"
      },
      "source": [
        "29 // 3 \n"
      ],
      "execution_count": 14,
      "outputs": [
        {
          "output_type": "execute_result",
          "data": {
            "text/plain": [
              "9"
            ]
          },
          "metadata": {
            "tags": []
          },
          "execution_count": 14
        }
      ]
    },
    {
      "cell_type": "code",
      "metadata": {
        "colab": {
          "base_uri": "https://localhost:8080/"
        },
        "id": "tpexLrN_-u96",
        "outputId": "a516eaca-d68c-4e96-ccf7-fb659773cfab"
      },
      "source": [
        "31 // 3"
      ],
      "execution_count": 15,
      "outputs": [
        {
          "output_type": "execute_result",
          "data": {
            "text/plain": [
              "10"
            ]
          },
          "metadata": {
            "tags": []
          },
          "execution_count": 15
        }
      ]
    },
    {
      "cell_type": "code",
      "metadata": {
        "colab": {
          "base_uri": "https://localhost:8080/"
        },
        "id": "f6H0uTogm3VB",
        "outputId": "c06608ab-7512-45c9-b9e7-038b60520445"
      },
      "source": [
        "21 % 2\n"
      ],
      "execution_count": null,
      "outputs": [
        {
          "output_type": "execute_result",
          "data": {
            "text/plain": [
              "1"
            ]
          },
          "metadata": {
            "tags": []
          },
          "execution_count": 3
        }
      ]
    },
    {
      "cell_type": "code",
      "metadata": {
        "colab": {
          "base_uri": "https://localhost:8080/"
        },
        "id": "5A3kJm60nFDJ",
        "outputId": "18f7aa43-8a17-46a4-9732-c116729f02c7"
      },
      "source": [
        "29 % 3"
      ],
      "execution_count": null,
      "outputs": [
        {
          "output_type": "execute_result",
          "data": {
            "text/plain": [
              "2"
            ]
          },
          "metadata": {
            "tags": []
          },
          "execution_count": 4
        }
      ]
    },
    {
      "cell_type": "code",
      "metadata": {
        "colab": {
          "base_uri": "https://localhost:8080/"
        },
        "id": "WRZKl7UgnJv5",
        "outputId": "02b625ca-d1b3-40b4-bcc6-a0bde15d53f0"
      },
      "source": [
        "print(11-7)"
      ],
      "execution_count": null,
      "outputs": [
        {
          "output_type": "stream",
          "text": [
            "4\n"
          ],
          "name": "stdout"
        }
      ]
    },
    {
      "cell_type": "code",
      "metadata": {
        "colab": {
          "base_uri": "https://localhost:8080/"
        },
        "id": "SfxKhSKpoAiE",
        "outputId": "0290cc31-0cc7-4218-ae79-2f8e229c0afc"
      },
      "source": [
        "print(4+11.0)"
      ],
      "execution_count": null,
      "outputs": [
        {
          "output_type": "stream",
          "text": [
            "15.0\n"
          ],
          "name": "stdout"
        }
      ]
    },
    {
      "cell_type": "code",
      "metadata": {
        "colab": {
          "base_uri": "https://localhost:8080/"
        },
        "id": "wQjAB_i0oC3a",
        "outputId": "5bc1a288-728f-4c87-a24a-c25b283a13e6"
      },
      "source": [
        "print('11-7')"
      ],
      "execution_count": null,
      "outputs": [
        {
          "output_type": "stream",
          "text": [
            "11-7\n"
          ],
          "name": "stdout"
        }
      ]
    },
    {
      "cell_type": "code",
      "metadata": {
        "colab": {
          "base_uri": "https://localhost:8080/",
          "height": 162
        },
        "id": "VizzeObgoGlQ",
        "outputId": "6c1f571a-0108-4e24-d57b-ba6d700025ed"
      },
      "source": [
        "print('4' + 4) # hata verir çünkü bir str ile int toplanamaz. İkisinin de aynı cinsten olması gerekir."
      ],
      "execution_count": null,
      "outputs": [
        {
          "output_type": "error",
          "ename": "TypeError",
          "evalue": "ignored",
          "traceback": [
            "\u001b[0;31m---------------------------------------------------------------------------\u001b[0m",
            "\u001b[0;31mTypeError\u001b[0m                                 Traceback (most recent call last)",
            "\u001b[0;32m<ipython-input-9-ae658c22d83d>\u001b[0m in \u001b[0;36m<module>\u001b[0;34m()\u001b[0m\n\u001b[0;32m----> 1\u001b[0;31m \u001b[0mprint\u001b[0m\u001b[0;34m(\u001b[0m\u001b[0;34m'4'\u001b[0m \u001b[0;34m+\u001b[0m \u001b[0;36m4\u001b[0m\u001b[0;34m)\u001b[0m\u001b[0;34m\u001b[0m\u001b[0;34m\u001b[0m\u001b[0m\n\u001b[0m",
            "\u001b[0;31mTypeError\u001b[0m: can only concatenate str (not \"int\") to str"
          ]
        }
      ]
    },
    {
      "cell_type": "code",
      "metadata": {
        "colab": {
          "base_uri": "https://localhost:8080/"
        },
        "id": "rjbiu_3AoIVp",
        "outputId": "63e9bd4a-5427-4c32-a44a-894621ae9331"
      },
      "source": [
        "pi = 3.14 # dairenin alanını hesaplayalım.\n",
        "r = 5\n",
        "area = pi * r**2\n",
        "print(area)"
      ],
      "execution_count": null,
      "outputs": [
        {
          "output_type": "stream",
          "text": [
            "78.5\n"
          ],
          "name": "stdout"
        }
      ]
    },
    {
      "cell_type": "code",
      "metadata": {
        "colab": {
          "base_uri": "https://localhost:8080/"
        },
        "id": "FHQSzGBWphFi",
        "outputId": "879d0193-0ff8-4031-8e05-4e6b0c056f79"
      },
      "source": [
        "print(11%2)\n",
        "print(4*5/2)"
      ],
      "execution_count": null,
      "outputs": [
        {
          "output_type": "stream",
          "text": [
            "1\n",
            "10.0\n"
          ],
          "name": "stdout"
        }
      ]
    },
    {
      "cell_type": "code",
      "metadata": {
        "colab": {
          "base_uri": "https://localhost:8080/"
        },
        "id": "8LAGPzHyq25o",
        "outputId": "cdd3895b-32de-46ae-db90-1d6957626cac"
      },
      "source": [
        "print(1**3)\n",
        "print(3**2)\n",
        "a = 2\n",
        "b = 8\n",
        "print((a*b)**0.5)"
      ],
      "execution_count": null,
      "outputs": [
        {
          "output_type": "stream",
          "text": [
            "1\n",
            "9\n",
            "4.0\n"
          ],
          "name": "stdout"
        }
      ]
    },
    {
      "cell_type": "code",
      "metadata": {
        "colab": {
          "base_uri": "https://localhost:8080/"
        },
        "id": "NCD6X_z4rV7D",
        "outputId": "e166148e-eae7-4498-d7dc-3872cd76c369"
      },
      "source": [
        "a = 0\n",
        "a"
      ],
      "execution_count": null,
      "outputs": [
        {
          "output_type": "execute_result",
          "data": {
            "text/plain": [
              "0"
            ]
          },
          "metadata": {
            "tags": []
          },
          "execution_count": 13
        }
      ]
    },
    {
      "cell_type": "code",
      "metadata": {
        "colab": {
          "base_uri": "https://localhost:8080/"
        },
        "id": "PJYTbO5usdWe",
        "outputId": "2dc16b80-abe9-4ea9-d0c5-13816aa801d9"
      },
      "source": [
        "a = a + 1\n",
        "a"
      ],
      "execution_count": null,
      "outputs": [
        {
          "output_type": "execute_result",
          "data": {
            "text/plain": [
              "2"
            ]
          },
          "metadata": {
            "tags": []
          },
          "execution_count": 15
        }
      ]
    },
    {
      "cell_type": "code",
      "metadata": {
        "colab": {
          "base_uri": "https://localhost:8080/"
        },
        "id": "HSzQ5A0Hsf46",
        "outputId": "3e2834f6-ae58-4bbe-a303-4feab31da241"
      },
      "source": [
        "a = a +1\n",
        "a"
      ],
      "execution_count": null,
      "outputs": [
        {
          "output_type": "execute_result",
          "data": {
            "text/plain": [
              "3"
            ]
          },
          "metadata": {
            "tags": []
          },
          "execution_count": 16
        }
      ]
    },
    {
      "cell_type": "code",
      "metadata": {
        "colab": {
          "base_uri": "https://localhost:8080/"
        },
        "id": "4HouMarUslky",
        "outputId": "0eac413b-75d4-4228-b77f-d6ffb108596d"
      },
      "source": [
        "b = 4\n",
        "b"
      ],
      "execution_count": null,
      "outputs": [
        {
          "output_type": "execute_result",
          "data": {
            "text/plain": [
              "4"
            ]
          },
          "metadata": {
            "tags": []
          },
          "execution_count": 17
        }
      ]
    },
    {
      "cell_type": "code",
      "metadata": {
        "colab": {
          "base_uri": "https://localhost:8080/"
        },
        "id": "yva6YXE9s2tm",
        "outputId": "f4888870-0e03-4d92-ed0f-1535eedb9af9"
      },
      "source": [
        "b = b - 1\n",
        "b"
      ],
      "execution_count": null,
      "outputs": [
        {
          "output_type": "execute_result",
          "data": {
            "text/plain": [
              "3"
            ]
          },
          "metadata": {
            "tags": []
          },
          "execution_count": 18
        }
      ]
    },
    {
      "cell_type": "code",
      "metadata": {
        "colab": {
          "base_uri": "https://localhost:8080/"
        },
        "id": "YvJ8gM6Qs72O",
        "outputId": "a98b97f3-1161-441b-c881-b78cb209d333"
      },
      "source": [
        "b = b -1\n",
        "b"
      ],
      "execution_count": null,
      "outputs": [
        {
          "output_type": "execute_result",
          "data": {
            "text/plain": [
              "2"
            ]
          },
          "metadata": {
            "tags": []
          },
          "execution_count": 19
        }
      ]
    },
    {
      "cell_type": "code",
      "metadata": {
        "colab": {
          "base_uri": "https://localhost:8080/"
        },
        "id": "1RmnFFGus-ki",
        "outputId": "dcca6aec-5057-47d7-a7fb-1bc3bbefb234"
      },
      "source": [
        "b = b - 1\n",
        "b"
      ],
      "execution_count": null,
      "outputs": [
        {
          "output_type": "execute_result",
          "data": {
            "text/plain": [
              "1"
            ]
          },
          "metadata": {
            "tags": []
          },
          "execution_count": 20
        }
      ]
    },
    {
      "cell_type": "code",
      "metadata": {
        "colab": {
          "base_uri": "https://localhost:8080/"
        },
        "id": "sJ8lK1X0tB9i",
        "outputId": "1590feea-ad2e-4877-d20a-69dc4c338955"
      },
      "source": [
        "c = 2\n",
        "c"
      ],
      "execution_count": null,
      "outputs": [
        {
          "output_type": "execute_result",
          "data": {
            "text/plain": [
              "2"
            ]
          },
          "metadata": {
            "tags": []
          },
          "execution_count": 21
        }
      ]
    },
    {
      "cell_type": "code",
      "metadata": {
        "colab": {
          "base_uri": "https://localhost:8080/"
        },
        "id": "YeeLsF3ath4a",
        "outputId": "63bafe5a-30db-4a4b-ff30-66717de9cc65"
      },
      "source": [
        "c = c * 2\n",
        "c"
      ],
      "execution_count": null,
      "outputs": [
        {
          "output_type": "execute_result",
          "data": {
            "text/plain": [
              "4"
            ]
          },
          "metadata": {
            "tags": []
          },
          "execution_count": 22
        }
      ]
    },
    {
      "cell_type": "code",
      "metadata": {
        "colab": {
          "base_uri": "https://localhost:8080/"
        },
        "id": "2TZn8XMZtlsS",
        "outputId": "5b26363e-8abb-46c8-f7c5-a5266c31e881"
      },
      "source": [
        "c = c*2\n",
        "c"
      ],
      "execution_count": null,
      "outputs": [
        {
          "output_type": "execute_result",
          "data": {
            "text/plain": [
              "8"
            ]
          },
          "metadata": {
            "tags": []
          },
          "execution_count": 23
        }
      ]
    },
    {
      "cell_type": "code",
      "metadata": {
        "id": "T_kMphsCtolG"
      },
      "source": [
        "# n = n + 1   ==  n += 1 bu diğer bütün aritmetic operatorlerimizde geçerlidir\n",
        "# İşlem öncelik sırası: önce parantez, son power ** yani üslere bakar, \n",
        "# sonra negatif sayıları parantez içinde gibi algılar, sonra çarpma * ve bölme /,\n",
        "# daha sonra toplama ve çıkarma işlemlerini yapar. "
      ],
      "execution_count": null,
      "outputs": []
    },
    {
      "cell_type": "code",
      "metadata": {
        "colab": {
          "base_uri": "https://localhost:8080/"
        },
        "id": "hhJCwwwpwU2H",
        "outputId": "29fe86af-93ce-41f9-9331-51b15bfe2520"
      },
      "source": [
        "a = 3\n",
        "b = 4 \n",
        "c = (a ** 2 + b ** 2) ** 0.5\n",
        "print(c)"
      ],
      "execution_count": null,
      "outputs": [
        {
          "output_type": "stream",
          "text": [
            "5.0\n"
          ],
          "name": "stdout"
        }
      ]
    },
    {
      "cell_type": "markdown",
      "metadata": {
        "id": "SNWHRElGxqT8"
      },
      "source": [
        "OPERATİON WİTH PRİNT FUNCTİON"
      ]
    },
    {
      "cell_type": "code",
      "metadata": {
        "id": "7wy7TAMdxutv"
      },
      "source": [
        "# print() in içine hem değişkeni hem de değeri yazarak çıktı alabiliriz.\n",
        "# print(value, ..., sep=' ', end='\\n', file=sys.stdout, flush=False) value: içine yazılmasını istediğimiz şeylerdir.\n",
        "# sep='' default u space tir. tanımlama yapılırsa sep='+++' şeklindeki gibi boşluk değil value arasına +++ koyar.\n",
        "# end='\\n' default u new line dır. yani kabaca enter tuşuna basmaktır.\n"
      ],
      "execution_count": null,
      "outputs": []
    },
    {
      "cell_type": "code",
      "metadata": {
        "colab": {
          "base_uri": "https://localhost:8080/"
        },
        "id": "DnP14rJZ4emy",
        "outputId": "9628094b-bcc7-4342-bc3e-a871ee227403"
      },
      "source": [
        "print(\"ahmet\", \"mehmet\", \"sevilay\")\n",
        "print(\"ahmet\", \"mehmet\", \"sevilay\", sep='-')\n",
        "print(\"ahmet\", \"mehmet\", \"sevilay\", sep='+++')"
      ],
      "execution_count": 16,
      "outputs": [
        {
          "output_type": "stream",
          "text": [
            "ahmet mehmet sevilay\n",
            "ahmet-mehmet-sevilay\n",
            "ahmet+++mehmet+++sevilay\n"
          ],
          "name": "stdout"
        }
      ]
    },
    {
      "cell_type": "code",
      "metadata": {
        "colab": {
          "base_uri": "https://localhost:8080/"
        },
        "id": "g0_G7vxq5EMe",
        "outputId": "758482c8-da9b-4eb7-ab81-21373fefa022"
      },
      "source": [
        "print(\"ahmet\", \"mehmet\", \"sevilay\", sep='\\n')"
      ],
      "execution_count": null,
      "outputs": [
        {
          "output_type": "stream",
          "text": [
            "ahmet\n",
            "mehmet\n",
            "sevilay\n"
          ],
          "name": "stdout"
        }
      ]
    },
    {
      "cell_type": "code",
      "metadata": {
        "colab": {
          "base_uri": "https://localhost:8080/"
        },
        "id": "iwtBDG7Q56YG",
        "outputId": "fba03a53-927d-4683-f4c9-426b7778f252"
      },
      "source": [
        "print(\"ahmet\", end='-')\n",
        "print(\"mehmet\", end=' ')\n",
        "print(\"sevilay\")"
      ],
      "execution_count": null,
      "outputs": [
        {
          "output_type": "stream",
          "text": [
            "ahmet-mehmet sevilay\n"
          ],
          "name": "stdout"
        }
      ]
    },
    {
      "cell_type": "code",
      "metadata": {
        "colab": {
          "base_uri": "https://localhost:8080/"
        },
        "id": "4qA_x6vv6zeX",
        "outputId": "b4f8d60d-63e4-493b-b562-7c372c93173a"
      },
      "source": [
        "print(\"clarusway\", end='\\n\\n')\n",
        "print('istanbul')"
      ],
      "execution_count": null,
      "outputs": [
        {
          "output_type": "stream",
          "text": [
            "clarusway\n",
            "\n",
            "istanbul\n"
          ],
          "name": "stdout"
        }
      ]
    },
    {
      "cell_type": "markdown",
      "metadata": {
        "id": "cpI_FCI0Ku7J"
      },
      "source": [
        "ESCAPE SEQUENCES\n"
      ]
    },
    {
      "cell_type": "code",
      "metadata": {
        "colab": {
          "base_uri": "https://localhost:8080/"
        },
        "id": "izAruIUpJEDK",
        "outputId": "298d66d8-2aaa-4bdb-d295-9b477d37e69d"
      },
      "source": [
        "# \\n means newline\n",
        "# \\t means tab mark\n",
        "# \\b means backspace. It moves the cursor one charecter to the left\n",
        "print(\"\\\"\")\n",
        "print('C:\\\\north pole\\noise_penguins.txt') # \\\\ çift backslash olunca normal str olmuş oluyor.\n",
        "print(\"_ _ _ _ _ _ _ _ _\")\n",
        "print('first', 'second', 'third', sep='\\t')"
      ],
      "execution_count": 19,
      "outputs": [
        {
          "output_type": "stream",
          "text": [
            "\"\n",
            "C:\\north pole\n",
            "oise_penguins.txt\n",
            "_ _ _ _ _ _ _ _ _\n",
            "first\tsecond\tthird\n"
          ],
          "name": "stdout"
        }
      ]
    },
    {
      "cell_type": "code",
      "metadata": {
        "id": "Uer4l8N9QYoe"
      },
      "source": [
        ""
      ],
      "execution_count": null,
      "outputs": []
    },
    {
      "cell_type": "markdown",
      "metadata": {
        "id": "409LN0R2MoQV"
      },
      "source": [
        "BOOLEAN OPERATİON"
      ]
    },
    {
      "cell_type": "code",
      "metadata": {
        "id": "18rQcs7DMsgH"
      },
      "source": [
        "# True veya False value alır.\n",
        "# and operatörü: Bir satırda hepsi True ise and en sondaki(sağdaki) değeri verir. Aksi halde ilk False' döndürür.\n",
        "# Yani bir tane bile False varsa False'a çevirir. Birden fazla False varsa o zaman ilk False döndürür.\n",
        "\n",
        "# or operatörü eğer hepsi False ise en sondakini verir. Eğer bir tane bile True varsa ilk True yu verir.\n",
        "\n",
        "# not operatörü önüne geldiği ifadeyi tersine döndürür. yani True'nun önüne gelirse False yapar; False'ın önüne gelirse True yapar\n",
        "\n",
        "#  Order of priority: 1- not 2- and 3-or ama eğer parantez varsa öncelik tabiki parantezindir."
      ],
      "execution_count": null,
      "outputs": []
    },
    {
      "cell_type": "markdown",
      "metadata": {
        "id": "pUvZ7UBrQVdp"
      },
      "source": [
        "Falsy Values in Python"
      ]
    },
    {
      "cell_type": "code",
      "metadata": {
        "id": "9mYmFeFCQYqU"
      },
      "source": [
        "# Python'da her değerin bir truty veya falsy değeri vardır.\n",
        "# None\n",
        "# Zero: 0, 0.0, 0j\n",
        "# ''(Boş str), [] (Boş list), {} (Boş dictionary) falsy'dir.\n",
        "\n",
        "# Geri kalan her şey Truety dir."
      ],
      "execution_count": null,
      "outputs": []
    },
    {
      "cell_type": "code",
      "metadata": {
        "colab": {
          "base_uri": "https://localhost:8080/"
        },
        "id": "NPrILihATlYO",
        "outputId": "53d5a484-481d-49c3-8501-d31cb82bfa96"
      },
      "source": [
        "2 and 3"
      ],
      "execution_count": null,
      "outputs": [
        {
          "output_type": "execute_result",
          "data": {
            "text/plain": [
              "3"
            ]
          },
          "metadata": {
            "tags": []
          },
          "execution_count": 4
        }
      ]
    },
    {
      "cell_type": "code",
      "metadata": {
        "colab": {
          "base_uri": "https://localhost:8080/"
        },
        "id": "_ljYF_U9T1x3",
        "outputId": "ab08638e-ddae-43e6-e0c2-72a70347f35e"
      },
      "source": [
        "0 and 1"
      ],
      "execution_count": null,
      "outputs": [
        {
          "output_type": "execute_result",
          "data": {
            "text/plain": [
              "0"
            ]
          },
          "metadata": {
            "tags": []
          },
          "execution_count": 7
        }
      ]
    },
    {
      "cell_type": "code",
      "metadata": {
        "colab": {
          "base_uri": "https://localhost:8080/"
        },
        "id": "paBVuscZT42Q",
        "outputId": "a116b7d1-f10e-4030-e003-da98dff0329d"
      },
      "source": [
        "3 and 2 and 1"
      ],
      "execution_count": null,
      "outputs": [
        {
          "output_type": "execute_result",
          "data": {
            "text/plain": [
              "1"
            ]
          },
          "metadata": {
            "tags": []
          },
          "execution_count": 6
        }
      ]
    },
    {
      "cell_type": "code",
      "metadata": {
        "colab": {
          "base_uri": "https://localhost:8080/"
        },
        "id": "FY9Ph4gET8I4",
        "outputId": "d7c7f4df-0360-455f-adf8-c34115a77bb0"
      },
      "source": [
        "bool(\"\")"
      ],
      "execution_count": null,
      "outputs": [
        {
          "output_type": "execute_result",
          "data": {
            "text/plain": [
              "False"
            ]
          },
          "metadata": {
            "tags": []
          },
          "execution_count": 8
        }
      ]
    },
    {
      "cell_type": "code",
      "metadata": {
        "colab": {
          "base_uri": "https://localhost:8080/"
        },
        "id": "gzHqpyr_UKw6",
        "outputId": "f318f98d-bf11-4196-ee4b-d350e51b046e"
      },
      "source": [
        "bool(\" \") # burada stringin içinde space değeri olduğu için boş değil. Bu nedenle True verdi."
      ],
      "execution_count": null,
      "outputs": [
        {
          "output_type": "execute_result",
          "data": {
            "text/plain": [
              "True"
            ]
          },
          "metadata": {
            "tags": []
          },
          "execution_count": 9
        }
      ]
    },
    {
      "cell_type": "code",
      "metadata": {
        "colab": {
          "base_uri": "https://localhost:8080/"
        },
        "id": "EO-EtHCOUfnt",
        "outputId": "00a0b42d-656c-4602-9583-82c6b49e7cad"
      },
      "source": [
        "bool(0.0)"
      ],
      "execution_count": null,
      "outputs": [
        {
          "output_type": "execute_result",
          "data": {
            "text/plain": [
              "False"
            ]
          },
          "metadata": {
            "tags": []
          },
          "execution_count": 10
        }
      ]
    },
    {
      "cell_type": "code",
      "metadata": {
        "colab": {
          "base_uri": "https://localhost:8080/"
        },
        "id": "XWaTb7uOUi0B",
        "outputId": "ded05fb8-ce80-4aea-fbc3-0fc8d6884836"
      },
      "source": [
        "bool(0j)"
      ],
      "execution_count": null,
      "outputs": [
        {
          "output_type": "execute_result",
          "data": {
            "text/plain": [
              "False"
            ]
          },
          "metadata": {
            "tags": []
          },
          "execution_count": 12
        }
      ]
    },
    {
      "cell_type": "code",
      "metadata": {
        "colab": {
          "base_uri": "https://localhost:8080/"
        },
        "id": "2e0p2PANUoUl",
        "outputId": "9416dccc-89ae-4538-9b59-5fbb21557d02"
      },
      "source": [
        "bool(0)"
      ],
      "execution_count": null,
      "outputs": [
        {
          "output_type": "execute_result",
          "data": {
            "text/plain": [
              "False"
            ]
          },
          "metadata": {
            "tags": []
          },
          "execution_count": 13
        }
      ]
    },
    {
      "cell_type": "code",
      "metadata": {
        "colab": {
          "base_uri": "https://localhost:8080/"
        },
        "id": "40DpJfM9UyFx",
        "outputId": "08a21595-06ec-4c02-b718-89490ec3f9e1"
      },
      "source": [
        "print(2 and \"hello world\")\n",
        "print([] and \"be happy\")\n",
        "print(None and ())"
      ],
      "execution_count": null,
      "outputs": [
        {
          "output_type": "stream",
          "text": [
            "hello world\n",
            "[]\n",
            "None\n"
          ],
          "name": "stdout"
        }
      ]
    },
    {
      "cell_type": "code",
      "metadata": {
        "colab": {
          "base_uri": "https://localhost:8080/"
        },
        "id": "-INi3MgKVQrV",
        "outputId": "f3af5256-173a-4b67-c46d-139aaa420e85"
      },
      "source": [
        "bool(()) # boş tupple da False"
      ],
      "execution_count": null,
      "outputs": [
        {
          "output_type": "execute_result",
          "data": {
            "text/plain": [
              "False"
            ]
          },
          "metadata": {
            "tags": []
          },
          "execution_count": 15
        }
      ]
    },
    {
      "cell_type": "code",
      "metadata": {
        "colab": {
          "base_uri": "https://localhost:8080/"
        },
        "id": "9ySpO90SVZvM",
        "outputId": "84b3c6eb-ccfb-4ab9-c2da-1ff59815e79c"
      },
      "source": [
        "2 or 3"
      ],
      "execution_count": null,
      "outputs": [
        {
          "output_type": "execute_result",
          "data": {
            "text/plain": [
              "2"
            ]
          },
          "metadata": {
            "tags": []
          },
          "execution_count": 16
        }
      ]
    },
    {
      "cell_type": "code",
      "metadata": {
        "colab": {
          "base_uri": "https://localhost:8080/"
        },
        "id": "PUfpaUmzWUYd",
        "outputId": "db0c7a49-905f-49d0-f458-45c367efe516"
      },
      "source": [
        "None or 1"
      ],
      "execution_count": null,
      "outputs": [
        {
          "output_type": "execute_result",
          "data": {
            "text/plain": [
              "1"
            ]
          },
          "metadata": {
            "tags": []
          },
          "execution_count": 17
        }
      ]
    },
    {
      "cell_type": "code",
      "metadata": {
        "colab": {
          "base_uri": "https://localhost:8080/",
          "height": 167
        },
        "id": "evhfUbqwWeza",
        "outputId": "4d98798c-9a46-45d9-bfd7-d8abbc11faa7"
      },
      "source": [
        "none or 1"
      ],
      "execution_count": null,
      "outputs": [
        {
          "output_type": "error",
          "ename": "NameError",
          "evalue": "ignored",
          "traceback": [
            "\u001b[0;31m---------------------------------------------------------------------------\u001b[0m",
            "\u001b[0;31mNameError\u001b[0m                                 Traceback (most recent call last)",
            "\u001b[0;32m<ipython-input-20-5e05900e59f1>\u001b[0m in \u001b[0;36m<module>\u001b[0;34m()\u001b[0m\n\u001b[0;32m----> 1\u001b[0;31m \u001b[0mnone\u001b[0m \u001b[0;32mor\u001b[0m \u001b[0;36m1\u001b[0m\u001b[0;34m\u001b[0m\u001b[0;34m\u001b[0m\u001b[0m\n\u001b[0m",
            "\u001b[0;31mNameError\u001b[0m: name 'none' is not defined"
          ]
        }
      ]
    },
    {
      "cell_type": "code",
      "metadata": {
        "colab": {
          "base_uri": "https://localhost:8080/",
          "height": 35
        },
        "id": "wf9FkF1IWrKu",
        "outputId": "5796ae9a-1aad-4946-958f-44ed67070f9e"
      },
      "source": [
        "\"none\" or 1"
      ],
      "execution_count": null,
      "outputs": [
        {
          "output_type": "execute_result",
          "data": {
            "application/vnd.google.colaboratory.intrinsic+json": {
              "type": "string"
            },
            "text/plain": [
              "'none'"
            ]
          },
          "metadata": {
            "tags": []
          },
          "execution_count": 21
        }
      ]
    },
    {
      "cell_type": "code",
      "metadata": {
        "colab": {
          "base_uri": "https://localhost:8080/"
        },
        "id": "9ndltO0gXKLf",
        "outputId": "0ea97730-e8d4-4573-a30a-30ce3668457d"
      },
      "source": [
        "print(2 or \"hello world\")\n",
        "print([] or \"be happy\")\n",
        "print({} or 0)\n",
        "print({0} or False)\n",
        "print(bool({0}))"
      ],
      "execution_count": 20,
      "outputs": [
        {
          "output_type": "stream",
          "text": [
            "2\n",
            "be happy\n",
            "0\n",
            "{0}\n",
            "True\n"
          ],
          "name": "stdout"
        }
      ]
    },
    {
      "cell_type": "code",
      "metadata": {
        "colab": {
          "base_uri": "https://localhost:8080/"
        },
        "id": "uIYk7d1jXhBI",
        "outputId": "7a4a9bbe-864f-46e1-a319-1060e2a64d9a"
      },
      "source": [
        "True or False and \"False\"and not \"False\" and 0"
      ],
      "execution_count": null,
      "outputs": [
        {
          "output_type": "execute_result",
          "data": {
            "text/plain": [
              "True"
            ]
          },
          "metadata": {
            "tags": []
          },
          "execution_count": 23
        }
      ]
    },
    {
      "cell_type": "code",
      "metadata": {
        "colab": {
          "base_uri": "https://localhost:8080/"
        },
        "id": "3xDn0HIEYZwO",
        "outputId": "491860b1-0ded-43e6-bb75-a5598dbdabce"
      },
      "source": [
        "not (\"None\" or None) and False or (\"and\" and not ()) # örneği atomlarına parçalayalım"
      ],
      "execution_count": null,
      "outputs": [
        {
          "output_type": "execute_result",
          "data": {
            "text/plain": [
              "True"
            ]
          },
          "metadata": {
            "tags": []
          },
          "execution_count": 24
        }
      ]
    },
    {
      "cell_type": "code",
      "metadata": {
        "colab": {
          "base_uri": "https://localhost:8080/"
        },
        "id": "jdozjJ2uZeiC",
        "outputId": "e487807d-b482-48a6-ae68-dbc05dee2d6c"
      },
      "source": [
        "not \"None\" and False or True"
      ],
      "execution_count": null,
      "outputs": [
        {
          "output_type": "execute_result",
          "data": {
            "text/plain": [
              "True"
            ]
          },
          "metadata": {
            "tags": []
          },
          "execution_count": 27
        }
      ]
    },
    {
      "cell_type": "code",
      "metadata": {
        "colab": {
          "base_uri": "https://localhost:8080/"
        },
        "id": "mWDPJWDqZrNo",
        "outputId": "26cceafe-fc96-4308-ed3d-22e9d06c2926"
      },
      "source": [
        "False and False or True "
      ],
      "execution_count": null,
      "outputs": [
        {
          "output_type": "execute_result",
          "data": {
            "text/plain": [
              "True"
            ]
          },
          "metadata": {
            "tags": []
          },
          "execution_count": 26
        }
      ]
    },
    {
      "cell_type": "code",
      "metadata": {
        "colab": {
          "base_uri": "https://localhost:8080/"
        },
        "id": "N2g7tYL8ZyHd",
        "outputId": "4f3ff596-25c9-460b-afee-2a9938028d69"
      },
      "source": [
        "False or True"
      ],
      "execution_count": null,
      "outputs": [
        {
          "output_type": "execute_result",
          "data": {
            "text/plain": [
              "True"
            ]
          },
          "metadata": {
            "tags": []
          },
          "execution_count": 28
        }
      ]
    },
    {
      "cell_type": "code",
      "metadata": {
        "id": "OPH-_QURbnnV",
        "colab": {
          "base_uri": "https://localhost:8080/"
        },
        "outputId": "09270b94-4a1a-4773-f8f4-1228ce430684"
      },
      "source": [
        "print(False or {0} and [])"
      ],
      "execution_count": 21,
      "outputs": [
        {
          "output_type": "stream",
          "text": [
            "[]\n"
          ],
          "name": "stdout"
        }
      ]
    },
    {
      "cell_type": "code",
      "metadata": {
        "colab": {
          "base_uri": "https://localhost:8080/"
        },
        "id": "PTk4X6D6bsA8",
        "outputId": "154348be-a1af-40bd-91e5-8574e6923c48"
      },
      "source": [
        "{0} and []"
      ],
      "execution_count": null,
      "outputs": [
        {
          "output_type": "execute_result",
          "data": {
            "text/plain": [
              "[]"
            ]
          },
          "metadata": {
            "tags": []
          },
          "execution_count": 29
        }
      ]
    },
    {
      "cell_type": "code",
      "metadata": {
        "colab": {
          "base_uri": "https://localhost:8080/"
        },
        "id": "w23C9Hldbz4t",
        "outputId": "5a5e8e88-a84b-4405-8b09-09aaaae8cbae"
      },
      "source": [
        "False or []"
      ],
      "execution_count": null,
      "outputs": [
        {
          "output_type": "execute_result",
          "data": {
            "text/plain": [
              "[]"
            ]
          },
          "metadata": {
            "tags": []
          },
          "execution_count": 30
        }
      ]
    },
    {
      "cell_type": "code",
      "metadata": {
        "id": "vebfH-y0cEuH"
      },
      "source": [
        ""
      ],
      "execution_count": null,
      "outputs": []
    },
    {
      "cell_type": "markdown",
      "metadata": {
        "id": "QGkG53TCcP7T"
      },
      "source": [
        "THE STRENGTH OF THE STRİNG"
      ]
    },
    {
      "cell_type": "code",
      "metadata": {
        "colab": {
          "base_uri": "https://localhost:8080/"
        },
        "id": "yTDz05wMcVda",
        "outputId": "d50c4577-9ba8-4226-aef9-b6b1f1e73aa0"
      },
      "source": [
        "# İNDEXİNG :\n",
        "# Stringler iterable dır. (Yani elemanlarına ayrılabilir.) Bu nedenle elemanlarını değerin içinden seçip çıkarabiliriz.\n",
        "print(\"ALI\"[0]) # index no 0 dan başlar.\n",
        "print(\"ALI\"[1]) \n",
        "print(\"ALI\"[2])"
      ],
      "execution_count": null,
      "outputs": [
        {
          "output_type": "stream",
          "text": [
            "A\n",
            "L\n",
            "I\n"
          ],
          "name": "stdout"
        }
      ]
    },
    {
      "cell_type": "code",
      "metadata": {
        "colab": {
          "base_uri": "https://localhost:8080/"
        },
        "id": "03MQvchSeALv",
        "outputId": "b8c277b7-bbd5-4c83-caf9-959265bcc7b7"
      },
      "source": [
        "isim = \"cihat\" #Değişkene bir değer atandıktan sonra değişken adıyla da indexleme yapılabilir.\n",
        "print(isim[2])"
      ],
      "execution_count": null,
      "outputs": [
        {
          "output_type": "stream",
          "text": [
            "h\n"
          ],
          "name": "stdout"
        }
      ]
    },
    {
      "cell_type": "code",
      "metadata": {
        "colab": {
          "base_uri": "https://localhost:8080/",
          "height": 35
        },
        "id": "8az1iKz1eisV",
        "outputId": "56205200-578a-4ea7-9ec2-c8f88fff8c3f"
      },
      "source": [
        "# SLİCİNG:\n",
        "# [start:stop:step] Start slice'lamaya dahildir ancak stop numarası dahil değildir. Step kaçarlı olarak ilerleneceğini gösterir.\n",
        "\"clarus-way\"[6:8]\n"
      ],
      "execution_count": null,
      "outputs": [
        {
          "output_type": "execute_result",
          "data": {
            "application/vnd.google.colaboratory.intrinsic+json": {
              "type": "string"
            },
            "text/plain": [
              "'-w'"
            ]
          },
          "metadata": {
            "tags": []
          },
          "execution_count": 37
        }
      ]
    },
    {
      "cell_type": "code",
      "metadata": {
        "colab": {
          "base_uri": "https://localhost:8080/"
        },
        "id": "OrKfrmr9f2c_",
        "outputId": "196bd85e-73cb-44d3-8659-4fe08ef8acde"
      },
      "source": [
        "fruit = \"Orange\"\n",
        "print(\"Word                 : \", fruit)\n",
        "print(\"First letter         : \", fruit[0])\n",
        "print(\"Second letter        : \", fruit[1])\n",
        "print(\"3rd to 5th letters   : \", fruit[2:5])\n",
        "print(\"Letter all after 3rd : \", fruit[2:])"
      ],
      "execution_count": null,
      "outputs": [
        {
          "output_type": "stream",
          "text": [
            "Word                 :  Orange\n",
            "First letter         :  O\n",
            "Second letter        :  r\n",
            "3rd to 5th letters   :  ang\n",
            "Letter all after 3rd :  ange\n"
          ],
          "name": "stdout"
        }
      ]
    },
    {
      "cell_type": "code",
      "metadata": {
        "id": "bRmFHCE1hkjg"
      },
      "source": [
        "# [:] Baştan en sona git. 1 er 1 er.\n",
        "# [2:5] 2 den başla 5-1'e kadar 1'er 1'er git.\n",
        "# [2:10:2] 2'den başla 10-1'e kadar 2'şer e'şer git."
      ],
      "execution_count": null,
      "outputs": []
    },
    {
      "cell_type": "markdown",
      "metadata": {
        "id": "jvjWsCn_icD8"
      },
      "source": [
        "input() FUNCTİON"
      ]
    },
    {
      "cell_type": "code",
      "metadata": {
        "colab": {
          "base_uri": "https://localhost:8080/"
        },
        "id": "557vanYYiZAK",
        "outputId": "a212763d-28bb-4aef-dcbb-527da8d6b792"
      },
      "source": [
        "sayı = input(\"bir sayı giriniz :\")"
      ],
      "execution_count": 22,
      "outputs": [
        {
          "output_type": "stream",
          "text": [
            "bir sayı giriniz :44\n"
          ],
          "name": "stdout"
        }
      ]
    },
    {
      "cell_type": "code",
      "metadata": {
        "colab": {
          "base_uri": "https://localhost:8080/"
        },
        "id": "X38nZ3YbioTq",
        "outputId": "4b1e2483-22ac-490e-a9ed-fd1222881a2b"
      },
      "source": [
        "print(sayı)"
      ],
      "execution_count": 23,
      "outputs": [
        {
          "output_type": "stream",
          "text": [
            "44\n"
          ],
          "name": "stdout"
        }
      ]
    },
    {
      "cell_type": "code",
      "metadata": {
        "colab": {
          "base_uri": "https://localhost:8080/"
        },
        "id": "4Qeb2vnAisVL",
        "outputId": "e8a2e4b7-9551-424b-9987-37673529c3c8"
      },
      "source": [
        "type(sayı) # input() fonksiyonu; eğer değerin type'ını belirtmezsek str olarak algılar."
      ],
      "execution_count": null,
      "outputs": [
        {
          "output_type": "execute_result",
          "data": {
            "text/plain": [
              "str"
            ]
          },
          "metadata": {
            "tags": []
          },
          "execution_count": 42
        }
      ]
    },
    {
      "cell_type": "code",
      "metadata": {
        "colab": {
          "base_uri": "https://localhost:8080/"
        },
        "id": "QkX4AdJRi881",
        "outputId": "4584775f-0025-4735-f800-b7c7bfbe627d"
      },
      "source": [
        "rakam = int(input(\"Bir rakam giriniz :\"))"
      ],
      "execution_count": null,
      "outputs": [
        {
          "output_type": "stream",
          "text": [
            "Bir rakam giriniz :9\n"
          ],
          "name": "stdout"
        }
      ]
    },
    {
      "cell_type": "code",
      "metadata": {
        "id": "U45iPCcDjG2m",
        "colab": {
          "base_uri": "https://localhost:8080/"
        },
        "outputId": "774d396d-de2d-4a61-f1d4-3c3120af0cd8"
      },
      "source": [
        "print(rakam)"
      ],
      "execution_count": null,
      "outputs": [
        {
          "output_type": "stream",
          "text": [
            "9\n"
          ],
          "name": "stdout"
        }
      ]
    },
    {
      "cell_type": "code",
      "metadata": {
        "id": "woEqPfA3jIz8",
        "colab": {
          "base_uri": "https://localhost:8080/"
        },
        "outputId": "b59590f9-a0cd-483f-c61d-734b170018bf"
      },
      "source": [
        "type(rakam)"
      ],
      "execution_count": null,
      "outputs": [
        {
          "output_type": "execute_result",
          "data": {
            "text/plain": [
              "int"
            ]
          },
          "metadata": {
            "tags": []
          },
          "execution_count": 45
        }
      ]
    },
    {
      "cell_type": "code",
      "metadata": {
        "id": "kYSJIlsOjLu7",
        "colab": {
          "base_uri": "https://localhost:8080/"
        },
        "outputId": "5f424bb3-2933-4aaf-d689-8dfb043cd1c0"
      },
      "source": [
        "city = 'Phoenix'\n",
        "print(city[1:]) # 1 Den başla sonuna kadar git\n",
        "print(city[:6]) # baştan başla 5 e kadar git\n",
        "print(city[::2]) # baştan başla, sonuna kadar 2'şerli olarak git\n",
        "print(city[1::2]) # 1'den başla sonuna kadar 2'şerli olarak git\n",
        "print(city[-3:]) # -3 ten başla sonuna kadar git. negative indexing\n",
        "print(city[::-1]) # negativ olarak en sağdan başla ve en başa gel"
      ],
      "execution_count": null,
      "outputs": [
        {
          "output_type": "stream",
          "text": [
            "hoenix\n",
            "Phoeni\n",
            "Ponx\n",
            "hei\n",
            "nix\n",
            "xineohP\n"
          ],
          "name": "stdout"
        }
      ]
    },
    {
      "cell_type": "markdown",
      "metadata": {
        "id": "AriB5U1vLk9C"
      },
      "source": [
        "Negative İndexing"
      ]
    },
    {
      "cell_type": "code",
      "metadata": {
        "colab": {
          "base_uri": "https://localhost:8080/"
        },
        "id": "rgvBqvSoLIvG",
        "outputId": "9683375f-4e0e-4193-cfd9-caddf31806f9"
      },
      "source": [
        "fruit = \"Orange\"\n",
        "print(fruit[-6])\n",
        "print(fruit[-1])\n",
        "print(fruit[-5:-2])\n",
        "print(fruit[::-1])\n",
        "print(fruit[-1])\n",
        "print(fruit[::-2])\n",
        "print(fruit[-2:-5:-1])\n",
        "print(fruit[-4:-1:])\n",
        "print(fruit[4:1:-1])\n",
        "print(fruit[-3:-6]) # boş string değeri verir. Çünkü step negatif oloarak belirtilmemiş bu nedenle pozitif alıyor.\n",
        "# Ancak pozitif aralıkta karşılığı yok."
      ],
      "execution_count": null,
      "outputs": [
        {
          "output_type": "stream",
          "text": [
            "O\n",
            "e\n",
            "ran\n",
            "egnarO\n",
            "e\n",
            "enr\n",
            "gna\n",
            "ang\n",
            "gna\n",
            "\n"
          ],
          "name": "stdout"
        }
      ]
    },
    {
      "cell_type": "markdown",
      "metadata": {
        "id": "Soy72GXUPLdH"
      },
      "source": [
        "len() FUNCTİON"
      ]
    },
    {
      "cell_type": "code",
      "metadata": {
        "colab": {
          "base_uri": "https://localhost:8080/"
        },
        "id": "HA2rA9xrL0qW",
        "outputId": "4d81697d-0c9b-4b73-825a-59c1e124f947"
      },
      "source": [
        "#  iterable bir değerin uzunluğunu verire.\n",
        "len('orange')"
      ],
      "execution_count": null,
      "outputs": [
        {
          "output_type": "execute_result",
          "data": {
            "text/plain": [
              "6"
            ]
          },
          "metadata": {
            "tags": []
          },
          "execution_count": 14
        }
      ]
    },
    {
      "cell_type": "code",
      "metadata": {
        "colab": {
          "base_uri": "https://localhost:8080/"
        },
        "id": "rVnVZvRqQCS_",
        "outputId": "cbea6883-9925-4e8d-d487-e1a9ffc20787"
      },
      "source": [
        "vegetable = 'tomato'\n",
        "print('length of the word ', vegetable, 'is : ', len(vegetable))"
      ],
      "execution_count": null,
      "outputs": [
        {
          "output_type": "stream",
          "text": [
            "length of the word  tomato is :  6\n"
          ],
          "name": "stdout"
        }
      ]
    },
    {
      "cell_type": "markdown",
      "metadata": {
        "id": "hIm8pojlQzbE"
      },
      "source": [
        "STRİNG FORMATTİNG WİTH ARİTHMETİC SYNTAX"
      ]
    },
    {
      "cell_type": "code",
      "metadata": {
        "colab": {
          "base_uri": "https://localhost:8080/"
        },
        "id": "HF8fYQNgQZAR",
        "outputId": "8e4c4f7d-7392-407d-a844-43e619abdd41"
      },
      "source": [
        "print('upper' + 'case')\n",
        "print('uppercase' * 3)\n",
        "print(*'upper') # soluna asterix (*) koyduğumuz zaman elemanlarını iterate eder ve görünür hâle getirir.\n"
      ],
      "execution_count": null,
      "outputs": [
        {
          "output_type": "stream",
          "text": [
            "uppercase\n",
            "uppercaseuppercaseuppercase\n",
            "u p p e r\n"
          ],
          "name": "stdout"
        }
      ]
    },
    {
      "cell_type": "code",
      "metadata": {
        "colab": {
          "base_uri": "https://localhost:8080/"
        },
        "id": "EXz0US6qTBKS",
        "outputId": "8f4ed3ad-6068-4890-aa44-52221db772da"
      },
      "source": [
        "string_1 = 'I am angry...'\n",
        "string_2 = '1453'\n",
        "print(*string_1)\n",
        "print(*string_2)\n",
        "print(*'joseph@clarusway.com') # space stringin bir karakteridir. eleman olarak onu da algılar"
      ],
      "execution_count": null,
      "outputs": [
        {
          "output_type": "stream",
          "text": [
            "I   a m   a n g r y . . .\n",
            "1 4 5 3\n",
            "j o s e p h @ c l a r u s w a y . c o m\n"
          ],
          "name": "stdout"
        }
      ]
    },
    {
      "cell_type": "code",
      "metadata": {
        "colab": {
          "base_uri": "https://localhost:8080/"
        },
        "id": "2FdNJosrV71L",
        "outputId": "ae3b5dd3-8ebd-4230-8439-235a2cfc1cb3"
      },
      "source": [
        "str_one = 'upper'\n",
        "str_one += 'case'\n",
        "print(str_one) # uppecase\n",
        "str_one += 'letter'\n",
        "print(str_one) # uppercaseletter\n",
        "str_one += 'end'\n",
        "print(str_one) # uppercaseletterend"
      ],
      "execution_count": null,
      "outputs": [
        {
          "output_type": "stream",
          "text": [
            "uppercase\n",
            "uppercaseletter\n",
            "uppercaseletterend\n"
          ],
          "name": "stdout"
        }
      ]
    },
    {
      "cell_type": "markdown",
      "metadata": {
        "id": "S0EPMY51aML5"
      },
      "source": [
        "\"string\".format() METHOD"
      ]
    },
    {
      "cell_type": "code",
      "metadata": {
        "id": "15dIBq-JZruD"
      },
      "source": [
        "# 'string {} string {} string'.format(data1, data2) data1= 0. index, data2 = 1. index\n",
        "# index numaralarını {} içine yazarak da formatlama yapabiliriz. Ancak .format() metodunda\n",
        "# eğer bir atama yapmazsak index nu sırasıyla atanır. "
      ],
      "execution_count": null,
      "outputs": []
    },
    {
      "cell_type": "code",
      "metadata": {
        "colab": {
          "base_uri": "https://localhost:8080/"
        },
        "id": "woTMBPyubZVJ",
        "outputId": "bfdbe6b3-b4e3-4398-ff17-06d524e73ed4"
      },
      "source": [
        "fruit = 'Orange'\n",
        "vegetable = 'Tomato'\n",
        "amount = 4\n",
        "print('The amount of {} and {} we bought is {} pounds.'\\\n",
        "      .format(fruit, vegetable, amount))"
      ],
      "execution_count": null,
      "outputs": [
        {
          "output_type": "stream",
          "text": [
            "The amount of Orange and Tomato we bought is 4 pounds.\n"
          ],
          "name": "stdout"
        }
      ]
    },
    {
      "cell_type": "code",
      "metadata": {
        "colab": {
          "base_uri": "https://localhost:8080/"
        },
        "id": "0RiAMKTzb5ui",
        "outputId": "69892d67-8d3d-41a8-b4e0-4d017f5bb08f"
      },
      "source": [
        "print('{state} is the most {adjective} state of the {country}.'\\\n",
        "      .format(state = 'California', country = 'USA', adjective = 'crowded'))\n",
        "# değişken formatın içinde tanımlanabilir. {} içine değişken adı yazılarak da formatlama yapılabilir. Buna:\n",
        "# keyword, argument denir. Süslü parantezin içi boşsa sıra önemlidir."
      ],
      "execution_count": null,
      "outputs": [
        {
          "output_type": "stream",
          "text": [
            "California is the most crowded state of the USA.\n"
          ],
          "name": "stdout"
        }
      ]
    },
    {
      "cell_type": "code",
      "metadata": {
        "colab": {
          "base_uri": "https://localhost:8080/"
        },
        "id": "pfaJ6LA5ctkb",
        "outputId": "42e9bd67-34ff-4144-8c5e-912b6335370a"
      },
      "source": [
        "state = 'California'\n",
        "country = 'USA'\n",
        "adjective = 'crowded'\n",
        "\n",
        "print('{0} is the most {2} state of the {1}.'.format(state, country, adjective))\n",
        "# ******SONUÇ OLARAK*****\n",
        "# 1- Parantezin içinde tanımladığım değişkenleri süslü parantez içine yazarak çıktı alabilirim.\n",
        "# 2- Dışarıda tanımladığım değişkenleri, süslü parantez içine index numarası yazarak çıktı alabilirim.\n",
        "# 3- Dışarıda tanımladığım değişkenleri, Positional olarak sırayla atama yaptırabilirim."
      ],
      "execution_count": null,
      "outputs": [
        {
          "output_type": "stream",
          "text": [
            "California is the most crowded state of the USA.\n"
          ],
          "name": "stdout"
        }
      ]
    },
    {
      "cell_type": "code",
      "metadata": {
        "id": "lSJgWZmjev5E"
      },
      "source": [
        "\n"
      ],
      "execution_count": null,
      "outputs": []
    },
    {
      "cell_type": "code",
      "metadata": {
        "colab": {
          "base_uri": "https://localhost:8080/"
        },
        "id": "tj36vTn0gBHR",
        "outputId": "389162d7-3e46-4488-a7d3-ecc2fc090fcf"
      },
      "source": [
        "#  Mix olarak hepsini gösterelim\n",
        "print('{} is the most {adjective} state of the {}.'\\\n",
        "      .format('California', 'USA', adjective = 'crowded')) \n",
        "# positional keyword ler önce yazılmak zorunda yoksa hata verir.Eğer adjective değişkenini önce yazsak hata verecekti."
      ],
      "execution_count": null,
      "outputs": [
        {
          "output_type": "stream",
          "text": [
            "California is the most crowded state of the USA.\n"
          ],
          "name": "stdout"
        }
      ]
    },
    {
      "cell_type": "code",
      "metadata": {
        "colab": {
          "base_uri": "https://localhost:8080/"
        },
        "id": "9GxQF1J6hBJP",
        "outputId": "26c8a2d8-ff7c-459f-a235-ede42ac5ee40"
      },
      "source": [
        "print('{0} is the most {2} state of the {1}.'.format('California', 'USA', 'crowded'))"
      ],
      "execution_count": null,
      "outputs": [
        {
          "output_type": "stream",
          "text": [
            "California is the most crowded state of the USA.\n"
          ],
          "name": "stdout"
        }
      ]
    },
    {
      "cell_type": "code",
      "metadata": {
        "colab": {
          "base_uri": "https://localhost:8080/"
        },
        "id": "oRvhXdmqhGLn",
        "outputId": "dd2ce330-b993-4cc3-d399-8988a9d7d282"
      },
      "source": [
        "print('{} is the most {} state of the {}.'.format('California', 'crowded', 'USA'))"
      ],
      "execution_count": null,
      "outputs": [
        {
          "output_type": "stream",
          "text": [
            "California is the most crowded state of the USA.\n"
          ],
          "name": "stdout"
        }
      ]
    },
    {
      "cell_type": "code",
      "metadata": {
        "colab": {
          "base_uri": "https://localhost:8080/"
        },
        "id": "-xZgQT382heB",
        "outputId": "7436bf72-74a4-462a-9483-cad0a0667b0c"
      },
      "source": [
        "print(\"{no} - {month} - {month}\".format(no = \"12\", month = \"Feb\"))\n",
        "# Bir değişkeni bir kaç süslü paranteze atayabilirim."
      ],
      "execution_count": null,
      "outputs": [
        {
          "output_type": "stream",
          "text": [
            "12 - Feb - Feb\n"
          ],
          "name": "stdout"
        }
      ]
    },
    {
      "cell_type": "markdown",
      "metadata": {
        "id": "mLCkrAyX6LeD"
      },
      "source": [
        "f-string METODUYLA STRİNG FORMATLAMA"
      ]
    },
    {
      "cell_type": "code",
      "metadata": {
        "colab": {
          "base_uri": "https://localhost:8080/"
        },
        "id": "swyC8BCb2xvw",
        "outputId": "b35e6e6f-f32b-47cd-dcc4-6afbe7456060"
      },
      "source": [
        "# f'string {variable1} string {variable2} string {variable3} string' syntax'i böyledir.\n",
        "# string'in başına bir f gelir sonra tırnak.\n",
        "fruit = 'Orange'\n",
        "vegetable = 'Tomato'\n",
        "amount = 6\n",
        "print(f'The amount of {fruit} and {vegetable} we bought is {amount} pounds.')"
      ],
      "execution_count": null,
      "outputs": [
        {
          "output_type": "stream",
          "text": [
            "The amount of Orange and Tomato we bought is 6 pounds.\n"
          ],
          "name": "stdout"
        }
      ]
    },
    {
      "cell_type": "code",
      "metadata": {
        "colab": {
          "base_uri": "https://localhost:8080/"
        },
        "id": "5-w0tSDn7Ev0",
        "outputId": "dd6bf07c-0f0d-4b40-9553-bf2147a776c3"
      },
      "source": [
        "sample = f\"{2 ** 3}\" # f ile bu tarz formatlamalar da yapabiliriz.\n",
        "print(sample)\n",
        "print(type(sample))"
      ],
      "execution_count": 24,
      "outputs": [
        {
          "output_type": "stream",
          "text": [
            "8\n",
            "<class 'str'>\n"
          ],
          "name": "stdout"
        }
      ]
    },
    {
      "cell_type": "code",
      "metadata": {
        "colab": {
          "base_uri": "https://localhost:8080/"
        },
        "id": "Ib0g5Vmv7057",
        "outputId": "d5ff1887-1bb8-49d0-b7dc-d57d49a883d4"
      },
      "source": [
        "name = \"MARIAM\"\n",
        "print(f\"My name is {name.capitalize()}\") # .capitalize kelimenin sadece baş harfini büyük yapar.\n"
      ],
      "execution_count": null,
      "outputs": [
        {
          "output_type": "stream",
          "text": [
            "My name is Mariam\n"
          ],
          "name": "stdout"
        }
      ]
    },
    {
      "cell_type": "code",
      "metadata": {
        "colab": {
          "base_uri": "https://localhost:8080/"
        },
        "id": "rDLCBhiZ8oxv",
        "outputId": "b3cdfd24-ec9c-42b9-b158-6ec76796344c"
      },
      "source": [
        "name = \"Joseph\"\n",
        "job = \"teachers\"\n",
        "domain = \"Data Science\"\n",
        "message = (\n",
        "    f\"Hi {name}. \" \n",
        "    f\"You are one of the {job} \"\n",
        "    f\"in the {domain} section.\"\n",
        ")\n",
        "print(message)\n",
        "# Uzun bir stringi formatlarken görüntünün güzel ve okunaklı olması için parantez içinde alt alta bir kaç f\"string\" yapabiliriz."
      ],
      "execution_count": null,
      "outputs": [
        {
          "output_type": "stream",
          "text": [
            "Hi Joseph. You are one of the teachers in the Data Science section.\n"
          ],
          "name": "stdout"
        }
      ]
    },
    {
      "cell_type": "code",
      "metadata": {
        "colab": {
          "base_uri": "https://localhost:8080/"
        },
        "id": "-fM7w9ED-U07",
        "outputId": "12bfb7e0-cac0-406c-8e7d-2905de44886a"
      },
      "source": [
        "name = \"Susan\"\n",
        "age = \"young\"\n",
        "gender = \"lady\"\n",
        "school = \"CLRWAY IT university\"\n",
        "print(\n",
        "    f\"{name} is a {age} \"\n",
        "    f\"{gender} and she is a student \"\n",
        "    f\"at the {school}.\"\n",
        ")"
      ],
      "execution_count": null,
      "outputs": [
        {
          "output_type": "stream",
          "text": [
            "Susan is a young lady and she is a student at the CLRWAY IT university.\n"
          ],
          "name": "stdout"
        }
      ]
    },
    {
      "cell_type": "markdown",
      "metadata": {
        "id": "KxFHAWqEDF0E"
      },
      "source": [
        "MAİN STRİNG OPERATİONS"
      ]
    },
    {
      "cell_type": "code",
      "metadata": {
        "colab": {
          "base_uri": "https://localhost:8080/"
        },
        "id": "FrX3OkBmBesQ",
        "outputId": "40adff6b-6cf2-40c6-9b9b-ba12ec9b46f8"
      },
      "source": [
        "# Immutability (değiştirilemezlik)\n",
        "# Stringler yerinde değiştirilemez. Ancak değişkene yeni bir değer atanarak değiştirilebilirler.\n",
        "var_string = 'ClarusWay'\n",
        "print(var_string.lower())\n",
        "print(var_string)\n",
        "var_string = 'ClarusWay'.lower() # Burada yeni bir değer atadık. Bu arada .lower() bütün harfleri küçük yapar.\n",
        "print(var_string)"
      ],
      "execution_count": null,
      "outputs": [
        {
          "output_type": "stream",
          "text": [
            "clarusway\n",
            "ClarusWay\n",
            "clarusway\n"
          ],
          "name": "stdout"
        }
      ]
    },
    {
      "cell_type": "code",
      "metadata": {
        "colab": {
          "base_uri": "https://localhost:8080/"
        },
        "id": "ArFSJQA5ExM6",
        "outputId": "7bc0fed7-1137-4453-8c45-af45a788e586"
      },
      "source": [
        "değişken_1 = \"ClarusWay\"\n",
        "print(değişken_1.upper())\n",
        "değişken_1 = \"ClarusWay\".upper() # upper() bütün harfleri büyük yapar.\n",
        "print(değişken_1)"
      ],
      "execution_count": null,
      "outputs": [
        {
          "output_type": "stream",
          "text": [
            "CLARUSWAY\n",
            "CLARUSWAY\n"
          ],
          "name": "stdout"
        }
      ]
    },
    {
      "cell_type": "markdown",
      "metadata": {
        "id": "Ob5E4o8IIBT3"
      },
      "source": [
        "SEARCHİNG A STRİNG\n"
      ]
    },
    {
      "cell_type": "code",
      "metadata": {
        "colab": {
          "base_uri": "https://localhost:8080/"
        },
        "id": "qt-SD8bEG3t1",
        "outputId": "37ff8cb8-b257-4a1c-ddee-0d74f5bf2975"
      },
      "source": [
        "# string.startswith() Bir stringin baş karakterinden sonuna kadar arar\n",
        "# string.endswith() bir stringin son karakterinden itibaren arar \n",
        "# ***** HER İKİSİ DE BOOLEAN SONUÇ DÖNDÜRÜR *****\n",
        "text = 'www.clarusway.com'\n",
        "print(text.endswith('.com')) # Doğruysa True döndürür\n",
        "print(text.startswith('www.'))\n",
        "print(text.startswith('http:')) # Yanlışsa False döndürür"
      ],
      "execution_count": 25,
      "outputs": [
        {
          "output_type": "stream",
          "text": [
            "True\n",
            "False\n",
            "False\n"
          ],
          "name": "stdout"
        }
      ]
    },
    {
      "cell_type": "code",
      "metadata": {
        "colab": {
          "base_uri": "https://localhost:8080/"
        },
        "id": "AzGZSwkJJruY",
        "outputId": "7b3d12b6-7dc2-482c-81c8-50448032b51d"
      },
      "source": [
        "# **** STRİNG UZUNSA ***\n",
        "# string.startswith(prefix[, start[, end]]) \n",
        "# string.endswith(suffix[, start[, end]]) (end dahi değil) yani end-1 olmalıdır.\n",
        "email = \"clarusway@clarusway.com is my e-mail address\"\n",
        "print(email.startswith(\"@\" , 9)) # index no 9 olandan başla\n",
        "print(email.endswith(\"-\", 10, 32)) # index no 10 olandan başla\n"
      ],
      "execution_count": 28,
      "outputs": [
        {
          "output_type": "stream",
          "text": [
            "True\n",
            "True\n"
          ],
          "name": "stdout"
        }
      ]
    },
    {
      "cell_type": "code",
      "metadata": {
        "id": "hmDLOwxvRxUI"
      },
      "source": [
        ""
      ],
      "execution_count": null,
      "outputs": []
    },
    {
      "cell_type": "code",
      "metadata": {
        "colab": {
          "base_uri": "https://localhost:8080/"
        },
        "id": "y3nBXCqzR42O",
        "outputId": "26c67f6e-a31c-4b95-e67e-88a812469488"
      },
      "source": [
        "para = 1000\n",
        "print(\"{:.2f}\".format(para)) # \"{:.2f\".format() metodunu kullanarak noktadan sonra 2 basamaklı yaptım. \n",
        "para = para * 0.07 + para # pts\n",
        "print(\"{:.2f}\".format(para))\n",
        "para += para * 0.07 # salı\n",
        "print(\"{:.2f}\".format(para))\n",
        "para += para * 0.07 # çarş\n",
        "print(\"{:.2f}\".format(para))\n",
        "para += para * 0.07 # perş\n",
        "print(\"{:.2f}\".format(para))\n",
        "para += para * 0.07 # cuma\n",
        "print(\"{:.2f}\".format(para))\n",
        "para += para * 0.07 # cts\n",
        "print(\"{:.2f}\".format(para))\n",
        "para += para * 0.07 # pazar\n",
        "print(\"{:.2f}\".format(para))"
      ],
      "execution_count": 40,
      "outputs": [
        {
          "output_type": "stream",
          "text": [
            "1000.00\n",
            "1070.00\n",
            "1144.90\n",
            "1225.04\n",
            "1310.80\n",
            "1402.55\n",
            "1500.73\n",
            "1605.78\n"
          ],
          "name": "stdout"
        }
      ]
    },
    {
      "cell_type": "markdown",
      "metadata": {
        "id": "6odopxaWRBrR"
      },
      "source": [
        "CHANGİNG A STRİNG"
      ]
    },
    {
      "cell_type": "code",
      "metadata": {
        "id": "tHCQQWqXP-Sc"
      },
      "source": [
        "# string.method(arguments) Method bir fonksiyondur ancak bir objeye bağlıdır.\n",
        "# str.replace(old, new[, count])\n",
        "# str.swapcase() string içindeki büyük harfleri küçük, küçük harfleri büyüğe çevirir.\n",
        "# str.capitalize() stringin ilk karakterini büyük harf yapar sonrakileri küçük...\n",
        "# str.upper() stringin bütün harflerini büyük yapar..\n",
        "# str.lower() stringin bütün harflerni küçük yapar...\n",
        "# str.title() string'deki bütün kelimelerin ilk harflerini büyük yapar.. Diğer harflerini de küçük yapar.\n"
      ],
      "execution_count": null,
      "outputs": []
    },
    {
      "cell_type": "code",
      "metadata": {
        "colab": {
          "base_uri": "https://localhost:8080/"
        },
        "id": "aozCtxjJS0Q1",
        "outputId": "9d635bfc-d51b-47b3-b39e-09757e3b8ec9"
      },
      "source": [
        "print(\"cihaT\".title())"
      ],
      "execution_count": null,
      "outputs": [
        {
          "output_type": "stream",
          "text": [
            "Cihat\n"
          ],
          "name": "stdout"
        }
      ]
    },
    {
      "cell_type": "code",
      "metadata": {
        "colab": {
          "base_uri": "https://localhost:8080/"
        },
        "id": "w8YyGfEeTT5y",
        "outputId": "2a1171e0-e621-41cb-90f3-b0eb874ff267"
      },
      "source": [
        "sentence = \"I live and work in Virginia\"\n",
        "print(sentence.upper())\n",
        "print(sentence.lower())\n",
        "print(sentence.swapcase())\n",
        "print(sentence) # kaynak metin değişmemiştir çünkü değişkene yeni değer tanımlamadık."
      ],
      "execution_count": null,
      "outputs": [
        {
          "output_type": "stream",
          "text": [
            "I LIVE AND WORK IN VIRGINIA\n",
            "i live and work in virginia\n",
            "i LIVE AND WORK IN vIRGINIA\n",
            "I live and work in Virginia\n"
          ],
          "name": "stdout"
        }
      ]
    },
    {
      "cell_type": "code",
      "metadata": {
        "colab": {
          "base_uri": "https://localhost:8080/"
        },
        "id": "ru-nPbT1T1ET",
        "outputId": "94414a05-ed82-42bb-ddbf-6270eac5a416"
      },
      "source": [
        "# Yukarıdaki metodların tamamı str type çıktı üretir bu nedenle:\n",
        "# string.method1().method2().method3()... bu metodları sırasıyla uygular\n",
        "sentence = \"I live and work in Virginia\"\n",
        "title_sentence = sentence.title()\n",
        "print(title_sentence)\n",
        "changed_str = sentence.replace(\"i\", \"+\")\n",
        "print(changed_str)"
      ],
      "execution_count": null,
      "outputs": [
        {
          "output_type": "stream",
          "text": [
            "I Live And Work In Virginia\n",
            "I l+ve and work +n V+rg+n+a\n"
          ],
          "name": "stdout"
        }
      ]
    },
    {
      "cell_type": "code",
      "metadata": {
        "colab": {
          "base_uri": "https://localhost:8080/"
        },
        "id": "fX8G5fyqsFJp",
        "outputId": "11b0fc1d-ae7b-4869-9453-a35aa03a68c8"
      },
      "source": [
        "text = \"the better the family, the better the society\"\n",
        "print(text.title())\n",
        "print(text.title().capitalize())\n",
        "print(text.title().capitalize().swapcase())\n",
        "print(text.title().capitalize().swapcase().upper())\n",
        "print(text.title().capitalize().swapcase().upper().lower())\n",
        "print(text.title().capitalize().swapcase().upper().lower().replace(\"the\", \"THE\"))"
      ],
      "execution_count": null,
      "outputs": [
        {
          "output_type": "stream",
          "text": [
            "The Better The Family, The Better The Society\n",
            "The better the family, the better the society\n",
            "tHE BETTER THE FAMILY, THE BETTER THE SOCIETY\n",
            "THE BETTER THE FAMILY, THE BETTER THE SOCIETY\n",
            "the better the family, the better the society\n",
            "THE better THE family, THE better THE society\n"
          ],
          "name": "stdout"
        }
      ]
    },
    {
      "cell_type": "code",
      "metadata": {
        "colab": {
          "base_uri": "https://localhost:8080/"
        },
        "id": "qdkM6Mdzu_q4",
        "outputId": "669ae3aa-d90b-4749-f795-3e41356874c9"
      },
      "source": [
        "text = \"S0d0me and G0m0re\"\n",
        "print(text.replace(\"0\",\"o\"))"
      ],
      "execution_count": null,
      "outputs": [
        {
          "output_type": "stream",
          "text": [
            "Sodome and Gomore\n"
          ],
          "name": "stdout"
        }
      ]
    },
    {
      "cell_type": "markdown",
      "metadata": {
        "id": "ar_1NDLky5ee"
      },
      "source": [
        "EDİTİNG A STRİNG"
      ]
    },
    {
      "cell_type": "code",
      "metadata": {
        "colab": {
          "base_uri": "https://localhost:8080/"
        },
        "id": "BYuvzC99y3nJ",
        "outputId": "6308cb40-4b39-4765-81cb-8eddd5204d07"
      },
      "source": [
        "# string.method(arguments) str düzenlemenin yöntemleri\n",
        "\n",
        "örnek = \"       başında ve sonunda boşluk olan bir cümle......       \"\n",
        "print(örnek.strip())  # string.strip() stringin her iki yanındaki özel karakterleri veya boşluğu atmamızı sağlar.\n",
        "print(örnek.rstrip()) # string.rstrip() stringin sağındaki özel karakteri ya da boşlukları atar.\n",
        "print(örnek.lstrip()) # string.lstrip() stringin solundaki özel karakteri ya da boşlukları atar.\n"
      ],
      "execution_count": null,
      "outputs": [
        {
          "output_type": "stream",
          "text": [
            "başında ve sonunda boşluk olan bir cümle......\n",
            "       başında ve sonunda boşluk olan bir cümle......\n",
            "başında ve sonunda boşluk olan bir cümle......       \n"
          ],
          "name": "stdout"
        }
      ]
    },
    {
      "cell_type": "code",
      "metadata": {
        "colab": {
          "base_uri": "https://localhost:8080/"
        },
        "id": "It0DwGQhyO_O",
        "outputId": "7f79a169-e772-419c-9db6-4c127a64d603"
      },
      "source": [
        "# strip() parantez içinde default olarak boşluk alma tanımlandığı için bolukları attı\n",
        "# oysa biz kendimiz parantez içine atılacak öğeyi tanımlayabilirdikç Mesela:\n",
        "text = \"aaa     yaz geldi bahar geldi açtı yeşil yapraklar     a   aaaaaaa\"\n",
        "print(text.strip(\"aaa\"))\n",
        "#  Bu işlemi .rstrip() ve .lstrip için de kullanabiliriz."
      ],
      "execution_count": null,
      "outputs": [
        {
          "output_type": "stream",
          "text": [
            "     yaz geldi bahar geldi açtı yeşil yapraklar     a   \n"
          ],
          "name": "stdout"
        }
      ]
    },
    {
      "cell_type": "code",
      "metadata": {
        "colab": {
          "base_uri": "https://localhost:8080/"
        },
        "id": "_2_HQ6da4B5i",
        "outputId": "e421da7b-cb6e-4ccc-aeb3-0947e2e9e6cd"
      },
      "source": [
        "ornek = \"interoperability\"\n",
        "print(ornek.strip(\"yi\")) # \"y\", \"i\", \"yi\" ya da \"y\", harflerini her iki taraftan atar \n",
        "print(ornek.lstrip(\"in\")) # stringimiz iki karakterli olduğu için sadece soldaki iki karakter içinde arayacak.\n"
      ],
      "execution_count": null,
      "outputs": [
        {
          "output_type": "stream",
          "text": [
            "nteroperabilit\n",
            "teroperability\n"
          ],
          "name": "stdout"
        }
      ]
    },
    {
      "cell_type": "code",
      "metadata": {
        "colab": {
          "base_uri": "https://localhost:8080/"
        },
        "id": "SXlpu63C5J2n",
        "outputId": "7118d1bc-7065-47a1-ec00-c672a44b253f"
      },
      "source": [
        "text = \"tyou can learn almost everything in pre-classz\"\n",
        "print(text.lstrip(\"t\").rstrip(\"z\").upper())\n",
        "print(text.strip(\"tz\").upper())"
      ],
      "execution_count": null,
      "outputs": [
        {
          "output_type": "stream",
          "text": [
            "YOU CAN LEARN ALMOST EVERYTHING IN PRE-CLASS\n",
            "YOU CAN LEARN ALMOST EVERYTHING IN PRE-CLASS\n"
          ],
          "name": "stdout"
        }
      ]
    },
    {
      "cell_type": "code",
      "metadata": {
        "colab": {
          "base_uri": "https://localhost:8080/"
        },
        "id": "DNLkFPe68Rz6",
        "outputId": "c8937d15-c0cb-4e2c-c354-1de9f63f1b1d"
      },
      "source": [
        "metin = \"In God wee Trust\"\n",
        "print(metin[0:9], metin[11:])\n",
        "print(metin.replace(\"e\", \"\", 1))\n",
        "print(metin.replace(\"ee\", \"e\"))\n",
        "print(metin.replace(\"wee\", \"we\").title())\n",
        "print(metin.replace(\"wee\", \"We\"))\n"
      ],
      "execution_count": null,
      "outputs": [
        {
          "output_type": "stream",
          "text": [
            "In God we Trust\n",
            "In God we Trust\n",
            "In God we Trust\n",
            "In God We Trust\n",
            "In God We Trust\n"
          ],
          "name": "stdout"
        }
      ]
    },
    {
      "cell_type": "markdown",
      "metadata": {
        "id": "EqFR-_ZkWG_L"
      },
      "source": [
        "COLLECTION TYPES"
      ]
    },
    {
      "cell_type": "code",
      "metadata": {
        "id": "g25Trfxp_LnF"
      },
      "source": [
        "#  ***** Collection fonksiyonları (set, list, tupple, dict) iterable olan verileri parantez içerisine alır,\n",
        "# bunların elemanlarının her birini teker teker böler ve \n",
        "# böldüğü her bir elemanını o collection fonksiyonunun bir elemanı haine getirir********\n",
        "# Collection types veri kümeleridir.\n",
        "# List : listeler\n",
        "# Tupple : demetler\n",
        "# Dictionary : sözlükler\n",
        "# Set : kümeler"
      ],
      "execution_count": null,
      "outputs": []
    },
    {
      "cell_type": "markdown",
      "metadata": {
        "id": "xFpeMjhoW5wd"
      },
      "source": [
        "LİST"
      ]
    },
    {
      "cell_type": "code",
      "metadata": {
        "colab": {
          "base_uri": "https://localhost:8080/"
        },
        "id": "3HF789_JW7Je",
        "outputId": "48b227da-2c33-41da-9fe1-7fd478e84169"
      },
      "source": [
        "# list() veya liste = []\n",
        "# list, içerisine iterable alır.\n",
        "word = \"hap   py\" # list fonksiyonu string bir değerdeki boşlukları da iterable olması nedeniyle listeye alır.\n",
        "print(list(word))"
      ],
      "execution_count": null,
      "outputs": [
        {
          "output_type": "stream",
          "text": [
            "['h', 'a', 'p', ' ', ' ', ' ', 'p', 'y']\n"
          ],
          "name": "stdout"
        }
      ]
    },
    {
      "cell_type": "code",
      "metadata": {
        "colab": {
          "base_uri": "https://localhost:8080/",
          "height": 167
        },
        "id": "nJm0Od5VYlnQ",
        "outputId": "98ce96b2-644f-418f-efcc-d99c73d2e5d8"
      },
      "source": [
        "print(list(111)) # integer bir veri iterable olmadığı için hata verir. Ancak bunu str yaparsak list olarak çıktı alırız."
      ],
      "execution_count": null,
      "outputs": [
        {
          "output_type": "error",
          "ename": "TypeError",
          "evalue": "ignored",
          "traceback": [
            "\u001b[0;31m---------------------------------------------------------------------------\u001b[0m",
            "\u001b[0;31mTypeError\u001b[0m                                 Traceback (most recent call last)",
            "\u001b[0;32m<ipython-input-51-f14ceb5377e0>\u001b[0m in \u001b[0;36m<module>\u001b[0;34m()\u001b[0m\n\u001b[0;32m----> 1\u001b[0;31m \u001b[0mprint\u001b[0m\u001b[0;34m(\u001b[0m\u001b[0mlist\u001b[0m\u001b[0;34m(\u001b[0m\u001b[0;36m111\u001b[0m\u001b[0;34m)\u001b[0m\u001b[0;34m)\u001b[0m \u001b[0;31m# integer bir veri iterable olmadığı için hata verir.\u001b[0m\u001b[0;34m\u001b[0m\u001b[0;34m\u001b[0m\u001b[0m\n\u001b[0m",
            "\u001b[0;31mTypeError\u001b[0m: 'int' object is not iterable"
          ]
        }
      ]
    },
    {
      "cell_type": "code",
      "metadata": {
        "colab": {
          "base_uri": "https://localhost:8080/"
        },
        "id": "QhjqUWNQZD_d",
        "outputId": "975a6b77-2c5a-40d7-c599-59c7f68e74b7"
      },
      "source": [
        "a = \"123po  ıu-,.ç\"\n",
        "print(list(a))\n",
        "b = [a]\n",
        "print(b) # b'ye a liste olarak atandığı için b'nin tek elemanı a'dır."
      ],
      "execution_count": null,
      "outputs": [
        {
          "output_type": "stream",
          "text": [
            "['1', '2', '3', 'p', 'o', ' ', ' ', 'ı', 'u', '-', ',', '.', 'ç']\n",
            "['123po  ıu-,.ç']\n"
          ],
          "name": "stdout"
        }
      ]
    },
    {
      "cell_type": "code",
      "metadata": {
        "colab": {
          "base_uri": "https://localhost:8080/"
        },
        "id": "QjOTmsEtaVHE",
        "outputId": "72c9cce0-ea43-48d9-adcd-d5680caa0d18"
      },
      "source": [
        "a = [\"ALİ\"] # Burada köşeli parantez içindeki \"ALİ\" listenin tek elemanı oldu.\n",
        "print(a)"
      ],
      "execution_count": null,
      "outputs": [
        {
          "output_type": "stream",
          "text": [
            "['ALİ']\n"
          ],
          "name": "stdout"
        }
      ]
    },
    {
      "cell_type": "code",
      "metadata": {
        "colab": {
          "base_uri": "https://localhost:8080/"
        },
        "id": "xgkAWQ-rboJ_",
        "outputId": "61c4fb01-285b-4851-8136-8ffd753b38b7"
      },
      "source": [
        "string_1 = \"I quit smoking\" # list() fonksiyonu ve [] listeğe değer atama arasındaki farkı bu örnekle net bir şekilde görebiliriz.\n",
        "new_list_1 = list(string_1)\n",
        "print(new_list_1)  # 14 elemanlı bir liste olur.\n",
        "new_list_2 = [string_1]\n",
        "print(new_list_2) # tek elemanlı bir liste olur."
      ],
      "execution_count": null,
      "outputs": [
        {
          "output_type": "stream",
          "text": [
            "['I', ' ', 'q', 'u', 'i', 't', ' ', 's', 'm', 'o', 'k', 'i', 'n', 'g']\n",
            "['I quit smoking']\n"
          ],
          "name": "stdout"
        }
      ]
    },
    {
      "cell_type": "code",
      "metadata": {
        "id": "Mf5ll18-c0GS"
      },
      "source": [
        "mixed_list = [11, joseph, False, 3.14, None, [1,2,3]]  #Liste içinde her türlü veriyi saklayabiliriz."
      ],
      "execution_count": null,
      "outputs": []
    },
    {
      "cell_type": "code",
      "metadata": {
        "colab": {
          "base_uri": "https://localhost:8080/"
        },
        "id": "55R7_uGxddq7",
        "outputId": "c8a3996e-47e6-454d-a439-ca5a9b43a5a9"
      },
      "source": [
        "my_list = ['joseph', 'Clarusway', 2020]\n",
        "new_list11 = list(my_list)\n",
        "new_list22 = [my_list]\n",
        "print(len(my_list))\n",
        "print(new_list11)\n",
        "print(len(new_list11))\n",
        "print(new_list22)\n",
        "print(len(new_list22))"
      ],
      "execution_count": 31,
      "outputs": [
        {
          "output_type": "stream",
          "text": [
            "3\n",
            "['joseph', 'Clarusway', 2020]\n",
            "3\n",
            "[['joseph', 'Clarusway', 2020]]\n",
            "1\n"
          ],
          "name": "stdout"
        }
      ]
    },
    {
      "cell_type": "markdown",
      "metadata": {
        "id": "gETDELCUhfCG"
      },
      "source": [
        "Basic Operations with Lists"
      ]
    },
    {
      "cell_type": "code",
      "metadata": {
        "id": "FTNZy4Y3hXHC"
      },
      "source": [
        "# Boş liste list() veya [] şeklinde yapılır. İçine daha sonradan veri koymak için yapılır.\n",
        "# .append() metodu listenin sonuna bir eleman eklemek için kullanılır."
      ],
      "execution_count": null,
      "outputs": []
    },
    {
      "cell_type": "code",
      "metadata": {
        "colab": {
          "base_uri": "https://localhost:8080/"
        },
        "id": "ba4vngj_hCoE",
        "outputId": "1599ea0b-184a-499a-efeb-bc66d1939661"
      },
      "source": [
        "numbers = [1,4,7] \n",
        "numbers.append(9) # listeleri mahallinde değiştirebiliriz. string gibi değil. listenin sonuna int olarak ekleyecek.\n",
        "numbers.append(\"9\") # listenin sonuna string olarak ekleyecek\n",
        "print(numbers)"
      ],
      "execution_count": null,
      "outputs": [
        {
          "output_type": "stream",
          "text": [
            "[1, 4, 7, 9, '9']\n"
          ],
          "name": "stdout"
        }
      ]
    },
    {
      "cell_type": "code",
      "metadata": {
        "id": "d3nyE6Auje7e"
      },
      "source": [
        "cc = []"
      ],
      "execution_count": 33,
      "outputs": []
    },
    {
      "cell_type": "code",
      "metadata": {
        "colab": {
          "base_uri": "https://localhost:8080/"
        },
        "id": "Rcoh4FVNjiWD",
        "outputId": "7cb3d9f8-9e20-42e1-d95f-4ee4ae8acaa3"
      },
      "source": [
        "cc.append(11) # burada kod satırını her çalıştırdığımda cc değişkeninin sonuna eleman ekler ve değişkeni yerinde değiştirir.\n",
        "cc"
      ],
      "execution_count": 36,
      "outputs": [
        {
          "output_type": "execute_result",
          "data": {
            "text/plain": [
              "[11, 11, 11]"
            ]
          },
          "metadata": {
            "tags": []
          },
          "execution_count": 36
        }
      ]
    },
    {
      "cell_type": "code",
      "metadata": {
        "colab": {
          "base_uri": "https://localhost:8080/"
        },
        "id": "ZDU2huckk760",
        "outputId": "4ed0e904-1554-458b-fcf3-dba52a09d729"
      },
      "source": [
        "empty_list = []\n",
        "empty_list.append(1)\n",
        "empty_list.append(2)\n",
        "empty_list.append(3)\n",
        "empty_list.append(4)\n",
        "print(empty_list)"
      ],
      "execution_count": null,
      "outputs": [
        {
          "output_type": "stream",
          "text": [
            "[1, 2, 3, 4]\n"
          ],
          "name": "stdout"
        }
      ]
    },
    {
      "cell_type": "code",
      "metadata": {
        "colab": {
          "base_uri": "https://localhost:8080/"
        },
        "id": "x2bie4Y_lhaC",
        "outputId": "0a523a9e-41ba-4df1-dc42-7d3fc385eff6"
      },
      "source": [
        "# .insert() metodu listenin içinde herhangi bir yere yeni bir eleman eklemek için kullanılır.\n",
        "# parantez içindeki birinci sayı index numarasıdır, ikincisi eklenecek veridir.\n",
        "# İlgili index numarasına atanan veri eklenir ve diğer veriler onu sağından takip eder.\n",
        "numbers = [1,4,7]\n",
        "numbers.insert(2, 9)\n",
        "print(numbers)\n",
        "numbers.insert(2, 6)\n",
        "print(numbers)"
      ],
      "execution_count": null,
      "outputs": [
        {
          "output_type": "stream",
          "text": [
            "[1, 4, 9, 7]\n",
            "[1, 4, 6, 9, 7]\n"
          ],
          "name": "stdout"
        }
      ]
    },
    {
      "cell_type": "code",
      "metadata": {
        "colab": {
          "base_uri": "https://localhost:8080/"
        },
        "id": "7CDVEauWrMJh",
        "outputId": "5da364b4-fb14-4be8-e135-cf7bfb2e3bc2"
      },
      "source": [
        "city = [\"los\", \"beirut\", \"tokyo\"]\n",
        "city[0] = True\n",
        "print(city)\n",
        "city[1:] = \"clarus\"\n",
        "print(city)"
      ],
      "execution_count": null,
      "outputs": [
        {
          "output_type": "stream",
          "text": [
            "[True, 'beirut', 'tokyo']\n",
            "[True, 'c', 'l', 'a', 'r', 'u', 's']\n"
          ],
          "name": "stdout"
        }
      ]
    },
    {
      "cell_type": "code",
      "metadata": {
        "colab": {
          "base_uri": "https://localhost:8080/"
        },
        "id": "dZgZ3GZZsffi",
        "outputId": "1e557cf8-207d-4170-ffba-cb754d521d6c"
      },
      "source": [
        "city1 = [\"istanbul\", \"yozgat\", \"erzurum\", \"ankara\"]\n",
        "print(city1)\n",
        "city1[0:2] = [\"a\",\"b\"]\n",
        "print(city1)\n",
        "city1[0:2] = \"abcd\"\n",
        "print(city1)"
      ],
      "execution_count": null,
      "outputs": [
        {
          "output_type": "stream",
          "text": [
            "['istanbul', 'yozgat', 'erzurum', 'ankara']\n",
            "['a', 'b', 'erzurum', 'ankara']\n",
            "['a', 'b', 'c', 'd', 'erzurum', 'ankara']\n"
          ],
          "name": "stdout"
        }
      ]
    },
    {
      "cell_type": "code",
      "metadata": {
        "colab": {
          "base_uri": "https://localhost:8080/"
        },
        "id": "42q2wAnMt0yT",
        "outputId": "7f5d4621-d6d6-4e0e-dd3c-e569101eb8f8"
      },
      "source": [
        "#  \\\\ çıktı almak için ne yapmalı\n",
        "print(\"\\\\\\\\\")\n",
        "print(\"\\\\\" + \"\\\\\")"
      ],
      "execution_count": null,
      "outputs": [
        {
          "output_type": "stream",
          "text": [
            "\\\\\n",
            "\\\\\n"
          ],
          "name": "stdout"
        }
      ]
    },
    {
      "cell_type": "code",
      "metadata": {
        "colab": {
          "base_uri": "https://localhost:8080/"
        },
        "id": "ahJ0A3cK1edi",
        "outputId": "20ade75f-a331-4d34-810b-3be840836108"
      },
      "source": [
        "a = 3\n",
        "b = 4\n",
        "print(\"{} + {} 'ün toplamı {} 'dir.\".format(a, b, a+b)) # positional olarak hepsi sırayla gitti."
      ],
      "execution_count": null,
      "outputs": [
        {
          "output_type": "stream",
          "text": [
            "3 + 4 'ün topmamı 7 'dir.\n"
          ],
          "name": "stdout"
        }
      ]
    },
    {
      "cell_type": "code",
      "metadata": {
        "colab": {
          "base_uri": "https://localhost:8080/"
        },
        "id": "CdKu8aEx2HNq",
        "outputId": "bb2e2313-5b4a-48b8-8a30-d7bc9760bc22"
      },
      "source": [
        "text = \"{:.2f}, {:.3f}, {:.4f}\".format(3.1463, 5.3676, 7.324567)\n",
        "print(text) # virgüllden sonraki basamak sayısı Float'larda bu şekilde yani: \"{:.f}\" ile ayarlanır."
      ],
      "execution_count": null,
      "outputs": [
        {
          "output_type": "stream",
          "text": [
            "3.15, 5.368, 7.3246\n"
          ],
          "name": "stdout"
        }
      ]
    },
    {
      "cell_type": "code",
      "metadata": {
        "colab": {
          "base_uri": "https://localhost:8080/"
        },
        "id": "Q3rmSo3q204f",
        "outputId": "721740a4-59d3-477d-a332-571a7dd7e379"
      },
      "source": [
        "text = \"{:.2s}, {:.3s}, {:.4s}\".format(\"3.1463\", \"5.3676\", \"7.324567\")\n",
        "print(text) # sondan itibaren almasını istediğimiz karakter sayısı stringler'lerde bu şekilde yan \"s\" ile ayarlanır."
      ],
      "execution_count": null,
      "outputs": [
        {
          "output_type": "stream",
          "text": [
            "3., 5.3, 7.32\n"
          ],
          "name": "stdout"
        }
      ]
    },
    {
      "cell_type": "code",
      "metadata": {
        "colab": {
          "base_uri": "https://localhost:8080/"
        },
        "id": "VAgVocf03hii",
        "outputId": "7b09e880-3fcf-47ea-ee1c-95ba6a068a2d"
      },
      "source": [
        "text = \"{:>20}\".format(\"clarusway\")\n",
        "print(text) # bu işlemle yani '>' işlemiyle 20 karakter sağa yasladık\n",
        "text = \"{:<20}\".format(\"clarusway\")\n",
        "print(text) # bu işlemle yani '<' işlemiyle 20 karakter sola yasladık"
      ],
      "execution_count": null,
      "outputs": [
        {
          "output_type": "stream",
          "text": [
            "           clarusway\n",
            "clarusway           \n"
          ],
          "name": "stdout"
        }
      ]
    },
    {
      "cell_type": "code",
      "metadata": {
        "colab": {
          "base_uri": "https://localhost:8080/"
        },
        "id": "lqtUDE6_4nGb",
        "outputId": "a8b9228a-90fe-4938-de54-f4b906b4ec1f"
      },
      "source": [
        "text1 = 'formatlama {:>10} formatlama'.format('test')\n",
        "print(text1) # sağa yasladık"
      ],
      "execution_count": null,
      "outputs": [
        {
          "output_type": "stream",
          "text": [
            "formatlama       test formatlama\n"
          ],
          "name": "stdout"
        }
      ]
    },
    {
      "cell_type": "code",
      "metadata": {
        "colab": {
          "base_uri": "https://localhost:8080/"
        },
        "id": "J4vLIklW48YL",
        "outputId": "25c628c3-166e-4877-9194-3817afa8d2b1"
      },
      "source": [
        "text2 = 'formatlama {:<10} formatlama'.format('test')\n",
        "print(text2) # sola yasladık\n",
        "text2 = '{:^20}'.format('test') # sağından solundan 20 karakter hizalayarak ortaladık.\n",
        "print(text2)\n",
        "text2 = 'formatlama {:^20} formatlama'.format('test')\n",
        "print(text2)"
      ],
      "execution_count": null,
      "outputs": [
        {
          "output_type": "stream",
          "text": [
            "formatlama test       formatlama\n",
            "        test        \n",
            "formatlama         test         formatlama\n"
          ],
          "name": "stdout"
        }
      ]
    },
    {
      "cell_type": "code",
      "metadata": {
        "colab": {
          "base_uri": "https://localhost:8080/",
          "height": 35
        },
        "id": "d3hnnzfX50hm",
        "outputId": "66b16ebe-be10-465d-d9ed-3c3c9d4abe3d"
      },
      "source": [
        "\"{:.5}\".format(\"hippopotamus\")"
      ],
      "execution_count": null,
      "outputs": [
        {
          "output_type": "execute_result",
          "data": {
            "application/vnd.google.colaboratory.intrinsic+json": {
              "type": "string"
            },
            "text/plain": [
              "'hippo'"
            ]
          },
          "metadata": {
            "tags": []
          },
          "execution_count": 100
        }
      ]
    },
    {
      "cell_type": "code",
      "metadata": {
        "colab": {
          "base_uri": "https://localhost:8080/",
          "height": 35
        },
        "id": "tDe2gn4x6VPs",
        "outputId": "d7011fe3-9024-4d72-acbe-23d7f345246c"
      },
      "source": [
        "\"{:10.3}\".format(\"hippopotamus\")"
      ],
      "execution_count": null,
      "outputs": [
        {
          "output_type": "execute_result",
          "data": {
            "application/vnd.google.colaboratory.intrinsic+json": {
              "type": "string"
            },
            "text/plain": [
              "'hip       '"
            ]
          },
          "metadata": {
            "tags": []
          },
          "execution_count": 101
        }
      ]
    },
    {
      "cell_type": "code",
      "metadata": {
        "colab": {
          "base_uri": "https://localhost:8080/",
          "height": 35
        },
        "id": "zD1X64KC6xO2",
        "outputId": "1e575ea4-df4e-412a-db83-2371b9e82ce4"
      },
      "source": [
        "\"{:>10.3}\".format(\"hippopotamus\")"
      ],
      "execution_count": null,
      "outputs": [
        {
          "output_type": "execute_result",
          "data": {
            "application/vnd.google.colaboratory.intrinsic+json": {
              "type": "string"
            },
            "text/plain": [
              "'       hip'"
            ]
          },
          "metadata": {
            "tags": []
          },
          "execution_count": 102
        }
      ]
    },
    {
      "cell_type": "code",
      "metadata": {
        "colab": {
          "base_uri": "https://localhost:8080/",
          "height": 35
        },
        "id": "bIysivkF64hy",
        "outputId": "08d3146f-c6b0-42cd-ba0a-0ca783e0f014"
      },
      "source": [
        "\"{:<10.3}\".format(\"hippopotamus\")"
      ],
      "execution_count": null,
      "outputs": [
        {
          "output_type": "execute_result",
          "data": {
            "application/vnd.google.colaboratory.intrinsic+json": {
              "type": "string"
            },
            "text/plain": [
              "'hip       '"
            ]
          },
          "metadata": {
            "tags": []
          },
          "execution_count": 103
        }
      ]
    },
    {
      "cell_type": "code",
      "metadata": {
        "colab": {
          "base_uri": "https://localhost:8080/",
          "height": 35
        },
        "id": "HW9eC4_a68KN",
        "outputId": "4ef64731-7941-4b22-e524-0f9e758b59ac"
      },
      "source": [
        "\"{:^10.3}\".format(\"hippopotamus\")"
      ],
      "execution_count": null,
      "outputs": [
        {
          "output_type": "execute_result",
          "data": {
            "application/vnd.google.colaboratory.intrinsic+json": {
              "type": "string"
            },
            "text/plain": [
              "'   hip    '"
            ]
          },
          "metadata": {
            "tags": []
          },
          "execution_count": 104
        }
      ]
    },
    {
      "cell_type": "code",
      "metadata": {
        "colab": {
          "base_uri": "https://localhost:8080/",
          "height": 35
        },
        "id": "fnR4W8ed7RjY",
        "outputId": "60bdf32b-9dfa-487f-e9c7-d90822f4bbb1"
      },
      "source": [
        "'{:.5}'.format(3.1432407568430765347345) # noktayla beraber 5 değeri alır\n"
      ],
      "execution_count": null,
      "outputs": [
        {
          "output_type": "execute_result",
          "data": {
            "application/vnd.google.colaboratory.intrinsic+json": {
              "type": "string"
            },
            "text/plain": [
              "'3.1432'"
            ]
          },
          "metadata": {
            "tags": []
          },
          "execution_count": 105
        }
      ]
    },
    {
      "cell_type": "code",
      "metadata": {
        "colab": {
          "base_uri": "https://localhost:8080/",
          "height": 35
        },
        "id": "In9SYTh27pCZ",
        "outputId": "57bde11a-24c4-478b-b564-354a246aa3b3"
      },
      "source": [
        "'{:.5}'.format(\"3.1432407568430765347345\") # noktayla beraber 5 değeri alır"
      ],
      "execution_count": null,
      "outputs": [
        {
          "output_type": "execute_result",
          "data": {
            "application/vnd.google.colaboratory.intrinsic+json": {
              "type": "string"
            },
            "text/plain": [
              "'3.143'"
            ]
          },
          "metadata": {
            "tags": []
          },
          "execution_count": 106
        }
      ]
    },
    {
      "cell_type": "code",
      "metadata": {
        "colab": {
          "base_uri": "https://localhost:8080/"
        },
        "id": "xKN8Inom-OVA",
        "outputId": "fe90478a-8847-4654-8816-e9019394e986"
      },
      "source": [
        "a = [1,2,3,4] # .insert metodunu kullanarak listenin sonuna '5' i ekledik. İndex numarasına dikkat ettik\n",
        "a.insert(4, 5)\n",
        "print(a)\n"
      ],
      "execution_count": null,
      "outputs": [
        {
          "output_type": "stream",
          "text": [
            "[1, 2, 3, 4, 5]\n"
          ],
          "name": "stdout"
        }
      ]
    },
    {
      "cell_type": "markdown",
      "metadata": {
        "id": "YDFetJw1BRQi"
      },
      "source": [
        ".remove() METODU"
      ]
    },
    {
      "cell_type": "code",
      "metadata": {
        "colab": {
          "base_uri": "https://localhost:8080/"
        },
        "id": "_0mjA3wjBJL4",
        "outputId": "1aec75ed-0bf3-4450-e01d-8cd41ccf356b"
      },
      "source": [
        "# .remove listeden elemanı kaldırır. kaldırmak istediğimiz elemanı listeden çıkarır \n",
        "numbers = [1,4,7,9]\n",
        "numbers.remove(7)\n",
        "print(numbers)"
      ],
      "execution_count": null,
      "outputs": [
        {
          "output_type": "stream",
          "text": [
            "[1, 4, 9]\n"
          ],
          "name": "stdout"
        }
      ]
    },
    {
      "cell_type": "code",
      "metadata": {
        "colab": {
          "base_uri": "https://localhost:8080/"
        },
        "id": "47mQmQ1XChV_",
        "outputId": "5488a44f-4a02-45d0-9784-7d87e5088bc0"
      },
      "source": [
        "city = ['New York', 'London', 'Stockholm', 'Istanbul', 'Seoul', 'Sydney', 'Addis Ababa']\n",
        "city.remove('London')\n",
        "print(city)  # we have deleted 'London'"
      ],
      "execution_count": null,
      "outputs": [
        {
          "output_type": "stream",
          "text": [
            "['New York', 'Stockholm', 'Istanbul', 'Seoul', 'Sydney', 'Addis Ababa']\n"
          ],
          "name": "stdout"
        }
      ]
    },
    {
      "cell_type": "markdown",
      "metadata": {
        "id": "DbdgTP46BXLx"
      },
      "source": [
        ".sort() METODU"
      ]
    },
    {
      "cell_type": "code",
      "metadata": {
        "colab": {
          "base_uri": "https://localhost:8080/"
        },
        "id": "mQK9GpN_BWea",
        "outputId": "d0ae8030-7703-4fc6-9218-c5ce43dcc720"
      },
      "source": [
        "# listenin elemanlarını sıralar.\n",
        "numbers = [4,1,9,7]\n",
        "numbers.sort()\n",
        "print(numbers)"
      ],
      "execution_count": null,
      "outputs": [
        {
          "output_type": "stream",
          "text": [
            "[1, 4, 7, 9]\n"
          ],
          "name": "stdout"
        }
      ]
    },
    {
      "cell_type": "code",
      "metadata": {
        "colab": {
          "base_uri": "https://localhost:8080/"
        },
        "id": "iPbfJnAOAlg0",
        "outputId": "6fcd65bc-43cc-4f43-f041-eeed5c315bfb"
      },
      "source": [
        "city = ['New York', 'London', 'Stockholm', 'Istanbul', 'Seoul', 'Sydney', 'Addis Ababa']\n",
        "city.sort()\n",
        "print(city)  # Stringleri Alfabetik olarak sıraladı. "
      ],
      "execution_count": null,
      "outputs": [
        {
          "output_type": "stream",
          "text": [
            "['Addis Ababa', 'Istanbul', 'London', 'New York', 'Seoul', 'Stockholm', 'Sydney']\n"
          ],
          "name": "stdout"
        }
      ]
    },
    {
      "cell_type": "code",
      "metadata": {
        "colab": {
          "base_uri": "https://localhost:8080/",
          "height": 183
        },
        "id": "QXknAMyEF21x",
        "outputId": "c25345d8-7879-4f37-8947-0c050e088d08"
      },
      "source": [
        "mix_list = ['d', 1, 'a', 7]   # ******SIRALAMAZ******\n",
        "print(mix_list.sort())"
      ],
      "execution_count": null,
      "outputs": [
        {
          "output_type": "error",
          "ename": "TypeError",
          "evalue": "ignored",
          "traceback": [
            "\u001b[0;31m---------------------------------------------------------------------------\u001b[0m",
            "\u001b[0;31mTypeError\u001b[0m                                 Traceback (most recent call last)",
            "\u001b[0;32m<ipython-input-9-d2932131ac28>\u001b[0m in \u001b[0;36m<module>\u001b[0;34m()\u001b[0m\n\u001b[1;32m      1\u001b[0m \u001b[0mmix_list\u001b[0m \u001b[0;34m=\u001b[0m \u001b[0;34m[\u001b[0m\u001b[0;34m'd'\u001b[0m\u001b[0;34m,\u001b[0m \u001b[0;36m1\u001b[0m\u001b[0;34m,\u001b[0m \u001b[0;34m'a'\u001b[0m\u001b[0;34m,\u001b[0m \u001b[0;36m7\u001b[0m\u001b[0;34m]\u001b[0m\u001b[0;34m\u001b[0m\u001b[0;34m\u001b[0m\u001b[0m\n\u001b[0;32m----> 2\u001b[0;31m \u001b[0mprint\u001b[0m\u001b[0;34m(\u001b[0m\u001b[0mmix_list\u001b[0m\u001b[0;34m.\u001b[0m\u001b[0msort\u001b[0m\u001b[0;34m(\u001b[0m\u001b[0;34m)\u001b[0m\u001b[0;34m)\u001b[0m\u001b[0;34m\u001b[0m\u001b[0;34m\u001b[0m\u001b[0m\n\u001b[0m",
            "\u001b[0;31mTypeError\u001b[0m: '<' not supported between instances of 'int' and 'str'"
          ]
        }
      ]
    },
    {
      "cell_type": "code",
      "metadata": {
        "colab": {
          "base_uri": "https://localhost:8080/"
        },
        "id": "5ymiahORGOY8",
        "outputId": "85987828-e9be-41eb-c938-10ce9564ddc2"
      },
      "source": [
        "list_1 = ['one', 'four', 'Nine'] \n",
        "list_1.sort()\n",
        "print(list_1) # NORMALDE ALFABETİK OLARAK SIRALAR ANCAK BÜYÜK HARFLE BAŞLAYAN STRİNG DEĞER VARSA İLK SIRAYA ONU ALIR."
      ],
      "execution_count": null,
      "outputs": [
        {
          "output_type": "stream",
          "text": [
            "['Nine', 'four', 'one']\n"
          ],
          "name": "stdout"
        }
      ]
    },
    {
      "cell_type": "code",
      "metadata": {
        "colab": {
          "base_uri": "https://localhost:8080/"
        },
        "id": "ATz8p-9_G---",
        "outputId": "06ed32cb-9298-42e1-ae87-17130f831f71"
      },
      "source": [
        "list_2 = ['@', '*-', 'False']  # Stringlerin Ascii kodları var. Burada buna göre büyükten küçüğe sıralıyor. \n",
        "list_2.sort()\n",
        "print(list_2)"
      ],
      "execution_count": null,
      "outputs": [
        {
          "output_type": "stream",
          "text": [
            "['*-', '@', 'False']\n"
          ],
          "name": "stdout"
        }
      ]
    },
    {
      "cell_type": "markdown",
      "metadata": {
        "id": "2SwQ-2bbP2ui"
      },
      "source": [
        "ord()   ve chr() FONKSİYONLARININ KULLANIMI"
      ]
    },
    {
      "cell_type": "code",
      "metadata": {
        "colab": {
          "base_uri": "https://localhost:8080/"
        },
        "id": "uQI_pDPAIFMg",
        "outputId": "2c8cf90b-a773-4bf2-bb48-693739bbf998"
      },
      "source": [
        "ord('@') # ord() fonksiyonu ile stringlerin ascii değerlerini öğrenebiliriz \n"
      ],
      "execution_count": null,
      "outputs": [
        {
          "output_type": "execute_result",
          "data": {
            "text/plain": [
              "64"
            ]
          },
          "metadata": {
            "tags": []
          },
          "execution_count": 20
        }
      ]
    },
    {
      "cell_type": "code",
      "metadata": {
        "colab": {
          "base_uri": "https://localhost:8080/"
        },
        "id": "ViqAt07QIIdq",
        "outputId": "8160d466-69b7-4d81-d7aa-dc655f19710d"
      },
      "source": [
        "ord('*')"
      ],
      "execution_count": null,
      "outputs": [
        {
          "output_type": "execute_result",
          "data": {
            "text/plain": [
              "42"
            ]
          },
          "metadata": {
            "tags": []
          },
          "execution_count": 21
        }
      ]
    },
    {
      "cell_type": "code",
      "metadata": {
        "colab": {
          "base_uri": "https://localhost:8080/",
          "height": 35
        },
        "id": "XDc42KL1QGER",
        "outputId": "c640d117-ee60-4a4f-976e-001012c9839a"
      },
      "source": [
        "chr(42) # chr() fonksiyonu Ascii değeri girilen karakterin hangisi olduğunu çıktı verir."
      ],
      "execution_count": null,
      "outputs": [
        {
          "output_type": "execute_result",
          "data": {
            "application/vnd.google.colaboratory.intrinsic+json": {
              "type": "string"
            },
            "text/plain": [
              "'*'"
            ]
          },
          "metadata": {
            "tags": []
          },
          "execution_count": 30
        }
      ]
    },
    {
      "cell_type": "code",
      "metadata": {
        "colab": {
          "base_uri": "https://localhost:8080/"
        },
        "id": "zT-mtfVBKLgI",
        "outputId": "94f722bb-19d5-4def-e996-5479a344cc3e"
      },
      "source": [
        "xx = [True, False] # Flase = 0, True = 1 olduğu için sıralamaya küçükten başlıyor.\n",
        "xx.sort()\n",
        "print(xx)\n"
      ],
      "execution_count": null,
      "outputs": [
        {
          "output_type": "stream",
          "text": [
            "[False, True]\n"
          ],
          "name": "stdout"
        }
      ]
    },
    {
      "cell_type": "code",
      "metadata": {
        "colab": {
          "base_uri": "https://localhost:8080/"
        },
        "id": "0YyR3ZI2K8Dd",
        "outputId": "7d023ecf-4b27-4ed1-afb6-e55f0100852e"
      },
      "source": [
        "list_4 = [[3], [44], [-12]] # liste içini de en küçükten itibaren sıralıyor. \n",
        "list_4.sort()\n",
        "print(list_4)"
      ],
      "execution_count": null,
      "outputs": [
        {
          "output_type": "stream",
          "text": [
            "[[-12], [3], [44]]\n"
          ],
          "name": "stdout"
        }
      ]
    },
    {
      "cell_type": "code",
      "metadata": {
        "colab": {
          "base_uri": "https://localhost:8080/"
        },
        "id": "f_xNxf7DL7UY",
        "outputId": "a1d093dc-e7c4-4d50-8644-0d76da095f47"
      },
      "source": [
        "list_5 = [[1, 3], [44, -40], [-12, 1]] # liste içindeki ilk elemena göre sıralıyor.\n",
        "list_5.sort()\n",
        "print(list_5)"
      ],
      "execution_count": null,
      "outputs": [
        {
          "output_type": "stream",
          "text": [
            "[[-12, 1], [1, 3], [44, -40]]\n"
          ],
          "name": "stdout"
        }
      ]
    },
    {
      "cell_type": "code",
      "metadata": {
        "colab": {
          "base_uri": "https://localhost:8080/"
        },
        "id": "Efvm1L3OOvZc",
        "outputId": "56b80f66-9fae-497a-aa6c-66331b85c9d0"
      },
      "source": [
        "yy = [[1, \"bir\"], [-1, \"iki\"], [3, \"üç\"]]   \n",
        "yy.sort()\n",
        "print(yy)"
      ],
      "execution_count": null,
      "outputs": [
        {
          "output_type": "stream",
          "text": [
            "[[-1, 'iki'], [1, 'bir'], [3, 'üç']]\n"
          ],
          "name": "stdout"
        }
      ]
    },
    {
      "cell_type": "code",
      "metadata": {
        "colab": {
          "base_uri": "https://localhost:8080/",
          "height": 201
        },
        "id": "d84bsLiGPVrQ",
        "outputId": "ed9c3825-a073-499a-939f-83b9f2f44461"
      },
      "source": [
        "yy = [[\"bir\", 1], [-1, \"iki\"], [3, \"üç\"]] # Python tutarlı ilk elemanlarına göre sıraladığı üstteki ve bu örnekte açık bir şekilde görülüyor.\n",
        "yy.sort()\n",
        "print(yy)"
      ],
      "execution_count": null,
      "outputs": [
        {
          "output_type": "error",
          "ename": "TypeError",
          "evalue": "ignored",
          "traceback": [
            "\u001b[0;31m---------------------------------------------------------------------------\u001b[0m",
            "\u001b[0;31mTypeError\u001b[0m                                 Traceback (most recent call last)",
            "\u001b[0;32m<ipython-input-29-b772c7f4335d>\u001b[0m in \u001b[0;36m<module>\u001b[0;34m()\u001b[0m\n\u001b[1;32m      1\u001b[0m \u001b[0myy\u001b[0m \u001b[0;34m=\u001b[0m \u001b[0;34m[\u001b[0m\u001b[0;34m[\u001b[0m\u001b[0;34m\"bir\"\u001b[0m\u001b[0;34m,\u001b[0m \u001b[0;36m1\u001b[0m\u001b[0;34m]\u001b[0m\u001b[0;34m,\u001b[0m \u001b[0;34m[\u001b[0m\u001b[0;34m-\u001b[0m\u001b[0;36m1\u001b[0m\u001b[0;34m,\u001b[0m \u001b[0;34m\"iki\"\u001b[0m\u001b[0;34m]\u001b[0m\u001b[0;34m,\u001b[0m \u001b[0;34m[\u001b[0m\u001b[0;36m3\u001b[0m\u001b[0;34m,\u001b[0m \u001b[0;34m\"üç\"\u001b[0m\u001b[0;34m]\u001b[0m\u001b[0;34m]\u001b[0m\u001b[0;34m\u001b[0m\u001b[0;34m\u001b[0m\u001b[0m\n\u001b[0;32m----> 2\u001b[0;31m \u001b[0myy\u001b[0m\u001b[0;34m.\u001b[0m\u001b[0msort\u001b[0m\u001b[0;34m(\u001b[0m\u001b[0;34m)\u001b[0m\u001b[0;34m\u001b[0m\u001b[0;34m\u001b[0m\u001b[0m\n\u001b[0m\u001b[1;32m      3\u001b[0m \u001b[0mprint\u001b[0m\u001b[0;34m(\u001b[0m\u001b[0myy\u001b[0m\u001b[0;34m)\u001b[0m\u001b[0;34m\u001b[0m\u001b[0;34m\u001b[0m\u001b[0m\n",
            "\u001b[0;31mTypeError\u001b[0m: '<' not supported between instances of 'int' and 'str'"
          ]
        }
      ]
    },
    {
      "cell_type": "code",
      "metadata": {
        "colab": {
          "base_uri": "https://localhost:8080/"
        },
        "id": "1KpAy5yKPtVs",
        "outputId": "604a5f72-cbf5-4df4-8171-5c55f98cc625"
      },
      "source": [
        "yy = [1,5,8,3,7]   # yy.sort(*, key=None, reverse = False) olduğu için küçükten büğüye sıralıyor.reverse'in default'u False'tur.\n",
        "yy.sort(reverse=True)  # ancak biz bu parametreyi yy.sort(*, key=None, reverse = True) yaparsak büyükten küçüğe sıralar\n",
        "print(yy)"
      ],
      "execution_count": null,
      "outputs": [
        {
          "output_type": "stream",
          "text": [
            "[8, 7, 5, 3, 1]\n"
          ],
          "name": "stdout"
        }
      ]
    },
    {
      "cell_type": "markdown",
      "metadata": {
        "id": "GwF2FgIhToDR"
      },
      "source": [
        "ACCESİNG THE LİST"
      ]
    },
    {
      "cell_type": "code",
      "metadata": {
        "colab": {
          "base_uri": "https://localhost:8080/"
        },
        "id": "bjMjtIKyS7eT",
        "outputId": "72d6b4bc-8a02-48eb-8a0e-ea93b3c302f6"
      },
      "source": [
        "#  İNDEXİNG AND SLİCİNG: SYNTAX: list_name[index no]\n",
        "word = ['h', 'a', 'p', 'p', 'y']\n",
        "print(word[0])\n",
        "print(word[1])\n",
        "print(word[2])\n",
        "print(word[3])\n",
        "print(word[4])\n",
        "print(word[0])\n",
        "print(word[0:4:2])\n"
      ],
      "execution_count": null,
      "outputs": [
        {
          "output_type": "stream",
          "text": [
            "h\n",
            "a\n",
            "p\n",
            "p\n",
            "y\n",
            "h\n",
            "['h', 'p']\n"
          ],
          "name": "stdout"
        }
      ]
    },
    {
      "cell_type": "code",
      "metadata": {
        "colab": {
          "base_uri": "https://localhost:8080/"
        },
        "id": "ZXbaquS1Ubaj",
        "outputId": "a6acedc8-3f27-42de-fa93-619f9d56635c"
      },
      "source": [
        "colors = ['red', 'purple', 'blue', 'yellow', 'green']\n",
        "print(colors[2])  # If we start at zero, \n",
        "# the second element will be 'blue'.\n",
        "type(colors[2])"
      ],
      "execution_count": null,
      "outputs": [
        {
          "output_type": "stream",
          "text": [
            "blue\n"
          ],
          "name": "stdout"
        },
        {
          "output_type": "execute_result",
          "data": {
            "text/plain": [
              "str"
            ]
          },
          "metadata": {
            "tags": []
          },
          "execution_count": 39
        }
      ]
    },
    {
      "cell_type": "code",
      "metadata": {
        "colab": {
          "base_uri": "https://localhost:8080/"
        },
        "id": "AKDtWceTVIOl",
        "outputId": "a58e0985-604a-43f9-8757-e137d479edbe"
      },
      "source": [
        "city = ['New York', 'London', 'Istanbul', 'Seoul', 'Sydney']\n",
        "\n",
        "city_list = []\n",
        "city_list.append(city) # we have created a nested list\n",
        "\n",
        "print(city_list) # city_list listesinin içinde city adlı listeden oluşan tek bir eleman vardır."
      ],
      "execution_count": null,
      "outputs": [
        {
          "output_type": "stream",
          "text": [
            "[['New York', 'London', 'Istanbul', 'Seoul', 'Sydney']]\n"
          ],
          "name": "stdout"
        }
      ]
    },
    {
      "cell_type": "code",
      "metadata": {
        "colab": {
          "base_uri": "https://localhost:8080/"
        },
        "id": "s4hqO7W2tRBl",
        "outputId": "c6925856-b1b1-4d89-b1a0-d8f4104d580c"
      },
      "source": [
        "sehirler = [['New York', 'London', 'Istanbul', 'Seoul', 'Sydney']]\n",
        "print(sehirler[0])\n",
        "print(sehirler[0][0])\n",
        "print(sehirler[0][1])\n",
        "print(sehirler[0][2])\n",
        "print(sehirler[0][3])\n",
        "print(sehirler[0][4])\n",
        "print(sehirler[0][1:4])\n",
        "print(sehirler[0][2][3]) # Istanbul' un \"a\"sına ulaştırmış olacak bizi."
      ],
      "execution_count": null,
      "outputs": [
        {
          "output_type": "stream",
          "text": [
            "['New York', 'London', 'Istanbul', 'Seoul', 'Sydney']\n",
            "New York\n",
            "London\n",
            "Istanbul\n",
            "Seoul\n",
            "Sydney\n",
            "['London', 'Istanbul', 'Seoul']\n",
            "a\n"
          ],
          "name": "stdout"
        }
      ]
    },
    {
      "cell_type": "code",
      "metadata": {
        "colab": {
          "base_uri": "https://localhost:8080/"
        },
        "id": "su31d-R4vR3f",
        "outputId": "de559ba4-a063-4c99-f7aa-74f7c8085ae9"
      },
      "source": [
        "print(len([[1,2,3]][0])) # [[1,2,3]] [0] listenin ilk elemanını indexler. Yani Bize [1,2,3] listesini verir.\n",
        "                         # len([1,2,3]) de; listenin 3 elemanı olduğu için 3 sonucunu verir."
      ],
      "execution_count": null,
      "outputs": [
        {
          "output_type": "stream",
          "text": [
            "3\n"
          ],
          "name": "stdout"
        }
      ]
    },
    {
      "cell_type": "markdown",
      "metadata": {
        "id": "GwvrYlhdx5ys"
      },
      "source": [
        "range() FUNCTİON\n"
      ]
    },
    {
      "cell_type": "code",
      "metadata": {
        "colab": {
          "base_uri": "https://localhost:8080/"
        },
        "id": "Nn0x5wD6x3hq",
        "outputId": "b9df474a-d5b3-4553-ecda-308aaa91c1cd"
      },
      "source": [
        "# range() function bir objenin ilkini alarak sonuncusunu almadan bir sıra üreten fonksiyondur.\n",
        "range(1,11)\n",
        "print(range(1,11))\n",
        "number = list(range(1,11))\n",
        "print(number)\n"
      ],
      "execution_count": null,
      "outputs": [
        {
          "output_type": "stream",
          "text": [
            "range(1, 11)\n",
            "[1, 2, 3, 4, 5, 6, 7, 8, 9, 10]\n"
          ],
          "name": "stdout"
        }
      ]
    },
    {
      "cell_type": "code",
      "metadata": {
        "colab": {
          "base_uri": "https://localhost:8080/"
        },
        "id": "mMQUI95d0Ecf",
        "outputId": "9ce8c1ff-f503-40c9-b35d-22c86f2047fd"
      },
      "source": [
        "number = list(range(1,11)) # tek sayıları seçelim...\n",
        "odd_1 = list(range(1,11,2))\n",
        "odd_2 = number[0:11:2]\n",
        "print(odd_1)\n",
        "print(odd_2)"
      ],
      "execution_count": null,
      "outputs": [
        {
          "output_type": "stream",
          "text": [
            "[1, 3, 5, 7, 9]\n",
            "[1, 3, 5, 7, 9]\n"
          ],
          "name": "stdout"
        }
      ]
    },
    {
      "cell_type": "code",
      "metadata": {
        "colab": {
          "base_uri": "https://localhost:8080/"
        },
        "id": "P7MXGGfW2BlI",
        "outputId": "1eb4d564-6e4f-4894-ed3a-ceb408a9f766"
      },
      "source": [
        "mix_list = [1,[1,\"one\", 2, \"two\", 3, \"three\"], 4] # str olan numaraları seçelim...\n",
        "print(mix_list[1][1::2])\n",
        "print(mix_list[1][1:6:2])"
      ],
      "execution_count": null,
      "outputs": [
        {
          "output_type": "stream",
          "text": [
            "['one', 'two', 'three']\n",
            "['one', 'two', 'three']\n"
          ],
          "name": "stdout"
        }
      ]
    },
    {
      "cell_type": "markdown",
      "metadata": {
        "id": "FexTHAeB3fKy"
      },
      "source": [
        "Negative İndexing and Negative Slicing"
      ]
    },
    {
      "cell_type": "code",
      "metadata": {
        "colab": {
          "base_uri": "https://localhost:8080/"
        },
        "id": "NJrFxN3f2u3A",
        "outputId": "51933c5e-6cfc-4743-f8bf-51bbfb8a4534"
      },
      "source": [
        "# Negatif index ve negatif step aynı şey değildir.\n",
        "reef = ['swordfish', 'shark', 'whale', 'jellyfish', 'lobster', 'squid', 'octopus']\n",
        "print(reef[-3:])"
      ],
      "execution_count": null,
      "outputs": [
        {
          "output_type": "stream",
          "text": [
            "['lobster', 'squid', 'octopus']\n"
          ],
          "name": "stdout"
        }
      ]
    },
    {
      "cell_type": "code",
      "metadata": {
        "colab": {
          "base_uri": "https://localhost:8080/"
        },
        "id": "m5jNRRA3IoRc",
        "outputId": "6e763e56-6455-4a7a-a091-a008fd582ee2"
      },
      "source": [
        "city = ['New York', 'London', 'Istanbul', 'Seoul', 'Sydney']\n",
        "print(city[-4])"
      ],
      "execution_count": null,
      "outputs": [
        {
          "output_type": "stream",
          "text": [
            "London\n"
          ],
          "name": "stdout"
        }
      ]
    },
    {
      "cell_type": "code",
      "metadata": {
        "colab": {
          "base_uri": "https://localhost:8080/"
        },
        "id": "i3FyLJ8oIwLM",
        "outputId": "f516e225-5589-48ca-8866-b811af989600"
      },
      "source": [
        "reef = ['swordfish', 'shark', 'whale', 'jellyfish', 'lobster', 'squid', 'octopus']\n",
        "print(reef[::-2])\n"
      ],
      "execution_count": null,
      "outputs": [
        {
          "output_type": "stream",
          "text": [
            "['octopus', 'lobster', 'whale', 'swordfish']\n"
          ],
          "name": "stdout"
        }
      ]
    },
    {
      "cell_type": "code",
      "metadata": {
        "colab": {
          "base_uri": "https://localhost:8080/"
        },
        "id": "WQoKP53fMf9V",
        "outputId": "66449cfe-4499-41c9-cc04-e32f70a38c50"
      },
      "source": [
        "reef = ['swordfish', 'shark', 'whale', 'jellyfish', 'lobster', 'squid', 'octopus']\n",
        "print(reef[::-1])"
      ],
      "execution_count": null,
      "outputs": [
        {
          "output_type": "stream",
          "text": [
            "['octopus', 'squid', 'lobster', 'jellyfish', 'whale', 'shark', 'swordfish']\n"
          ],
          "name": "stdout"
        }
      ]
    },
    {
      "cell_type": "markdown",
      "metadata": {
        "id": "Jrj4pss-zSaK"
      },
      "source": [
        ".split() METODU"
      ]
    },
    {
      "cell_type": "code",
      "metadata": {
        "colab": {
          "base_uri": "https://localhost:8080/"
        },
        "id": "j_Ea8aIgzLm8",
        "outputId": "e353cda7-170b-4ef7-ac0e-c5845daaf5af"
      },
      "source": [
        "harfler = \"a b c d e f g h i j\".split() # STRİNG DEĞERLERİ ELMANLARINA AYIRARAK LİSTE YAPAR\n",
        "print(harfler)\n",
        "harfler[7:3:-1]"
      ],
      "execution_count": null,
      "outputs": [
        {
          "output_type": "stream",
          "text": [
            "['a', 'b', 'c', 'd', 'e', 'f', 'g', 'h', 'i', 'j']\n"
          ],
          "name": "stdout"
        },
        {
          "output_type": "execute_result",
          "data": {
            "text/plain": [
              "['h', 'g', 'f', 'e']"
            ]
          },
          "metadata": {
            "tags": []
          },
          "execution_count": 5
        }
      ]
    },
    {
      "cell_type": "code",
      "metadata": {
        "colab": {
          "base_uri": "https://localhost:8080/"
        },
        "id": "ovLpCs2u0ALx",
        "outputId": "b4a6450b-3483-45c8-aaea-5f79e1fa4196"
      },
      "source": [
        "harfler[2:6:-1] # start indeximiz soldan başlayıp sağa  yani 6'ya gittiği için negatif step boş liste verir."
      ],
      "execution_count": null,
      "outputs": [
        {
          "output_type": "execute_result",
          "data": {
            "text/plain": [
              "[]"
            ]
          },
          "metadata": {
            "tags": []
          },
          "execution_count": 4
        }
      ]
    },
    {
      "cell_type": "code",
      "metadata": {
        "colab": {
          "base_uri": "https://localhost:8080/"
        },
        "id": "URtw0KBu0goa",
        "outputId": "de5d8256-6595-40cd-e233-4e81f5dbae36"
      },
      "source": [
        "\"a-b-c-d\".split(\"-\")"
      ],
      "execution_count": null,
      "outputs": [
        {
          "output_type": "execute_result",
          "data": {
            "text/plain": [
              "['a', 'b', 'c', 'd']"
            ]
          },
          "metadata": {
            "tags": []
          },
          "execution_count": 6
        }
      ]
    },
    {
      "cell_type": "markdown",
      "metadata": {
        "id": "XT6TcVaE1ALL"
      },
      "source": [
        "sorted() FONKSİYONU"
      ]
    },
    {
      "cell_type": "code",
      "metadata": {
        "colab": {
          "base_uri": "https://localhost:8080/"
        },
        "id": "Q-SIeWhV0jNm",
        "outputId": "a64b1e09-abf3-4677-d82a-44c79592e8df"
      },
      "source": [
        "isimler = [\"ahmet\", \"mehmet\", \"ceylan\", \"seyhan\"]\n",
        "sorted([\"ahmet\", \"mehmet\", \"ceylan\", \"seyhan\"])\n"
      ],
      "execution_count": null,
      "outputs": [
        {
          "output_type": "execute_result",
          "data": {
            "text/plain": [
              "['ahmet', 'ceylan', 'mehmet', 'seyhan']"
            ]
          },
          "metadata": {
            "tags": []
          },
          "execution_count": 5
        }
      ]
    },
    {
      "cell_type": "code",
      "metadata": {
        "colab": {
          "base_uri": "https://localhost:8080/"
        },
        "id": "mrUgdQUq04LC",
        "outputId": "03594fa7-4aa8-4bc3-e9b2-939a881ded97"
      },
      "source": [
        "sorted(isimler) "
      ],
      "execution_count": null,
      "outputs": [
        {
          "output_type": "execute_result",
          "data": {
            "text/plain": [
              "['ahmet', 'ceylan', 'mehmet', 'seyhan']"
            ]
          },
          "metadata": {
            "tags": []
          },
          "execution_count": 6
        }
      ]
    },
    {
      "cell_type": "code",
      "metadata": {
        "colab": {
          "base_uri": "https://localhost:8080/"
        },
        "id": "-K1-WYtL1eC-",
        "outputId": "1894b897-574e-4d2c-b9b3-d7b79fb5fade"
      },
      "source": [
        "sehirler = [\"tokyo\", \"addis ababa\", \"rome\", \"istanbul\", \"rio\"]\n",
        "sorted(sehirler)"
      ],
      "execution_count": null,
      "outputs": [
        {
          "output_type": "execute_result",
          "data": {
            "text/plain": [
              "['addis ababa', 'istanbul', 'rio', 'rome', 'tokyo']"
            ]
          },
          "metadata": {
            "tags": []
          },
          "execution_count": 7
        }
      ]
    },
    {
      "cell_type": "code",
      "metadata": {
        "colab": {
          "base_uri": "https://localhost:8080/"
        },
        "id": "7B1HaH-P1woy",
        "outputId": "fc7c12b7-2258-4099-929b-14afdb2f1b0e"
      },
      "source": [
        "sorted(sehirler, key = len) #  sorted fonksiyonu; sorted(iterable, *, key=None, reverse=False) şeklinde tanımlanmıştır.\n",
        "# # key parametresini key = len yaparsak uzunluğuna göre yani küçükten büyüğe sıralar.\n",
        "# key parametresine nasıl sorusunun cevabını veririz."
      ],
      "execution_count": null,
      "outputs": [
        {
          "output_type": "execute_result",
          "data": {
            "text/plain": [
              "['rio', 'rome', 'tokyo', 'istanbul', 'addis ababa']"
            ]
          },
          "metadata": {
            "tags": []
          },
          "execution_count": 8
        }
      ]
    },
    {
      "cell_type": "code",
      "metadata": {
        "colab": {
          "base_uri": "https://localhost:8080/"
        },
        "id": "AfAFXHuKfIWn",
        "outputId": "12696bf1-6aca-4336-979b-52cf58dac7b1"
      },
      "source": [
        "sorted(sehirler, key = len, reverse = True)  # reverse'ü reverse = True yaparsam bu safer de büyükten küçüğe sıralatmış olurum."
      ],
      "execution_count": null,
      "outputs": [
        {
          "output_type": "execute_result",
          "data": {
            "text/plain": [
              "['addis ababa', 'istanbul', 'tokyo', 'rome', 'rio']"
            ]
          },
          "metadata": {
            "tags": []
          },
          "execution_count": 9
        }
      ]
    },
    {
      "cell_type": "code",
      "metadata": {
        "colab": {
          "base_uri": "https://localhost:8080/"
        },
        "id": "MJ_8NEi9f1gZ",
        "outputId": "2d5e0c10-0a6d-441a-ec19-3f17a0817c5e"
      },
      "source": [
        "sehirler.sort(key = len, reverse = True) #   sehirler.sort(key = len, reverse = True) .sort() metodunu kullanarak da\n",
        "# sıralama yapabilirim.\n",
        "sehirler"
      ],
      "execution_count": null,
      "outputs": [
        {
          "output_type": "execute_result",
          "data": {
            "text/plain": [
              "['addis ababa', 'istanbul', 'tokyo', 'rome', 'rio']"
            ]
          },
          "metadata": {
            "tags": []
          },
          "execution_count": 12
        }
      ]
    },
    {
      "cell_type": "markdown",
      "metadata": {
        "id": "sHKvq-twgcmt"
      },
      "source": [
        " *******   TUPLES     ********"
      ]
    },
    {
      "cell_type": "code",
      "metadata": {
        "id": "zPis8pqhgV0K"
      },
      "source": [
        "#  Tuple'lar immutable olduğu için değiştirilemez. .append veya .remove metodları listelerde olduğu gibi Tuple'lerde kullanılamaz.\n",
        "# Tuple'larda () işareti kullanılır.\n",
        "# Değiştirilmesini istemediğimiz verileri Tuple'larda saklarız.\n",
        "# Tuple'lar memory de daha az yer kaplar.\n",
        "# Tuple'lar listelerden daha hızlı çalışır.\n",
        "#  Verilerimiz Tuple ile güvende."
      ],
      "execution_count": null,
      "outputs": []
    },
    {
      "cell_type": "code",
      "metadata": {
        "id": "RKQPNAwsijv_"
      },
      "source": [
        "import sys # liste ve Tuple'nin ne kadar yer kapladığını görelim."
      ],
      "execution_count": null,
      "outputs": []
    },
    {
      "cell_type": "code",
      "metadata": {
        "id": "MYiuf9Fqik-Q"
      },
      "source": [
        "x = [1,2,3]\n",
        "y = (1,2,3)"
      ],
      "execution_count": null,
      "outputs": []
    },
    {
      "cell_type": "code",
      "metadata": {
        "colab": {
          "base_uri": "https://localhost:8080/"
        },
        "id": "KENoqPwLiqlu",
        "outputId": "9643069e-639d-458b-bc23-fcf4ea611416"
      },
      "source": [
        "print(sys.getsizeof(x))\n",
        "print(sys.getsizeof(y)) # Görüldüğü gibi Tuple daha az yer kaplamaktadır."
      ],
      "execution_count": null,
      "outputs": [
        {
          "output_type": "stream",
          "text": [
            "96\n",
            "80\n"
          ],
          "name": "stdout"
        }
      ]
    },
    {
      "cell_type": "code",
      "metadata": {
        "colab": {
          "base_uri": "https://localhost:8080/"
        },
        "id": "SUhOCRtWjIJ-",
        "outputId": "bd820ac7-6ebc-4057-c03e-aee17d656f46"
      },
      "source": [
        "# collection type lara iterable olmayan verileri koyamıyorduk. tuple() ve () olmak üzere iki şekilde tuple yapabiliriz.\n",
        "tuple_1 = ('h', 'a', 'p', 'p', 'y')\n",
        "word = 'happy'\n",
        "tuple_2 = tuple(word)\n",
        "print(tuple_1)\n",
        "print(tuple_2)"
      ],
      "execution_count": null,
      "outputs": [
        {
          "output_type": "stream",
          "text": [
            "('h', 'a', 'p', 'p', 'y')\n",
            "('h', 'a', 'p', 'p', 'y')\n"
          ],
          "name": "stdout"
        }
      ]
    },
    {
      "cell_type": "code",
      "metadata": {
        "id": "Dh9m8blrkQyJ"
      },
      "source": [
        "benim = [\"a\", \"b\", \"c\"]"
      ],
      "execution_count": null,
      "outputs": []
    },
    {
      "cell_type": "code",
      "metadata": {
        "colab": {
          "base_uri": "https://localhost:8080/"
        },
        "id": "Ya-QiN1RkSkv",
        "outputId": "f9c02556-7117-49c8-f413-bf693476ece4"
      },
      "source": [
        "ben_tuple = tuple(benim)\n",
        "ben_tuple"
      ],
      "execution_count": null,
      "outputs": [
        {
          "output_type": "execute_result",
          "data": {
            "text/plain": [
              "('a', 'b', 'c')"
            ]
          },
          "metadata": {
            "tags": []
          },
          "execution_count": 20
        }
      ]
    },
    {
      "cell_type": "code",
      "metadata": {
        "id": "C1JIGPYCkYVF"
      },
      "source": [
        "x = 1, 2, 3 # Python paranteze alınmayan her şeyi tuple olarak algılar. Sanki parantez varmış gibi düşünür."
      ],
      "execution_count": null,
      "outputs": []
    },
    {
      "cell_type": "code",
      "metadata": {
        "colab": {
          "base_uri": "https://localhost:8080/"
        },
        "id": "E2_D5f9XkeS4",
        "outputId": "671a8f0c-d1d8-4ca9-d269-8e79d8134239"
      },
      "source": [
        "type(x)"
      ],
      "execution_count": null,
      "outputs": [
        {
          "output_type": "execute_result",
          "data": {
            "text/plain": [
              "tuple"
            ]
          },
          "metadata": {
            "tags": []
          },
          "execution_count": 22
        }
      ]
    },
    {
      "cell_type": "code",
      "metadata": {
        "id": "IxCc-rGjmkRa"
      },
      "source": [
        "y1 = (1)\n",
        "y2 = 1"
      ],
      "execution_count": null,
      "outputs": []
    },
    {
      "cell_type": "code",
      "metadata": {
        "colab": {
          "base_uri": "https://localhost:8080/"
        },
        "id": "hQYe7rzbmmte",
        "outputId": "8a0a9931-b327-40c6-8689-aa843de656a2"
      },
      "source": [
        "type(y1)"
      ],
      "execution_count": null,
      "outputs": [
        {
          "output_type": "execute_result",
          "data": {
            "text/plain": [
              "int"
            ]
          },
          "metadata": {
            "tags": []
          },
          "execution_count": 27
        }
      ]
    },
    {
      "cell_type": "code",
      "metadata": {
        "colab": {
          "base_uri": "https://localhost:8080/"
        },
        "id": "0sTPWL2wmprp",
        "outputId": "68c6aee1-2229-41b2-9559-9f9ec9452275"
      },
      "source": [
        "type(y2)"
      ],
      "execution_count": null,
      "outputs": [
        {
          "output_type": "execute_result",
          "data": {
            "text/plain": [
              "int"
            ]
          },
          "metadata": {
            "tags": []
          },
          "execution_count": 28
        }
      ]
    },
    {
      "cell_type": "code",
      "metadata": {
        "colab": {
          "base_uri": "https://localhost:8080/"
        },
        "id": "zaA59Uzylhn4",
        "outputId": "22ca20a2-4dc5-46be-e02d-f923bb519f2e"
      },
      "source": [
        "my_tuple = (\"Solar\",)\n",
        "print(my_tuple, type(my_tuple), sep=\"\\n\") # Tuple'da elemanın yanına virgül koyduğumuzda type tuple olur.\n",
        "#  Tek elemanlı bir tuple oluşturabilmek için yanına virgül koyarız."
      ],
      "execution_count": null,
      "outputs": [
        {
          "output_type": "stream",
          "text": [
            "('Solar',)\n",
            "<class 'tuple'>\n"
          ],
          "name": "stdout"
        }
      ]
    },
    {
      "cell_type": "code",
      "metadata": {
        "colab": {
          "base_uri": "https://localhost:8080/"
        },
        "id": "R-EhFRZWm9fD",
        "outputId": "b0a7aa51-53b0-4eaf-f1fa-dfddfe118751"
      },
      "source": [
        "aa = \"a\", \"b\", \"c\"\n",
        "aa"
      ],
      "execution_count": null,
      "outputs": [
        {
          "output_type": "execute_result",
          "data": {
            "text/plain": [
              "('a', 'b', 'c')"
            ]
          },
          "metadata": {
            "tags": []
          },
          "execution_count": 29
        }
      ]
    },
    {
      "cell_type": "code",
      "metadata": {
        "colab": {
          "base_uri": "https://localhost:8080/"
        },
        "id": "vUoHbMVFnCZo",
        "outputId": "4bdd9eed-a870-4669-ae8d-c9398507d9d8"
      },
      "source": [
        "aa = (\"a\", \"b\", \"c\")\n",
        "aa"
      ],
      "execution_count": null,
      "outputs": [
        {
          "output_type": "execute_result",
          "data": {
            "text/plain": [
              "('a', 'b', 'c')"
            ]
          },
          "metadata": {
            "tags": []
          },
          "execution_count": 30
        }
      ]
    },
    {
      "cell_type": "code",
      "metadata": {
        "id": "p8jdzJcWnDYn"
      },
      "source": [
        "bb = (\"aa\")"
      ],
      "execution_count": null,
      "outputs": []
    },
    {
      "cell_type": "code",
      "metadata": {
        "colab": {
          "base_uri": "https://localhost:8080/"
        },
        "id": "Rm9QXAW2nGSt",
        "outputId": "7b3ae0d4-2a8f-41c7-c61b-9eb922045df6"
      },
      "source": [
        "type(bb)"
      ],
      "execution_count": null,
      "outputs": [
        {
          "output_type": "execute_result",
          "data": {
            "text/plain": [
              "str"
            ]
          },
          "metadata": {
            "tags": []
          },
          "execution_count": 32
        }
      ]
    },
    {
      "cell_type": "code",
      "metadata": {
        "colab": {
          "base_uri": "https://localhost:8080/"
        },
        "id": "BxUyLsHonLgn",
        "outputId": "95ada61d-1f80-4f41-afa6-8d2bae03faa5"
      },
      "source": [
        "cc = \"aa\",\n",
        "cc"
      ],
      "execution_count": null,
      "outputs": [
        {
          "output_type": "execute_result",
          "data": {
            "text/plain": [
              "('aa',)"
            ]
          },
          "metadata": {
            "tags": []
          },
          "execution_count": 33
        }
      ]
    },
    {
      "cell_type": "code",
      "metadata": {
        "id": "dAb1B6xHnzcN"
      },
      "source": [
        "# tuple'dan liste'ye, liste'den tuple'ye çevirebiliriz."
      ],
      "execution_count": null,
      "outputs": []
    },
    {
      "cell_type": "code",
      "metadata": {
        "colab": {
          "base_uri": "https://localhost:8080/"
        },
        "id": "UlIQojUIpJIW",
        "outputId": "25731a81-d346-434a-8fa8-bc45a51d3c5f"
      },
      "source": [
        "print(tuple(range(1,11))) "
      ],
      "execution_count": null,
      "outputs": [
        {
          "output_type": "stream",
          "text": [
            "(1, 2, 3, 4, 5, 6, 7, 8, 9, 10)\n"
          ],
          "name": "stdout"
        }
      ]
    },
    {
      "cell_type": "markdown",
      "metadata": {
        "id": "Pu0aydcEpyjl"
      },
      "source": [
        "Tuple 'ları Nasıl Kullanabiliriz"
      ]
    },
    {
      "cell_type": "code",
      "metadata": {
        "colab": {
          "base_uri": "https://localhost:8080/",
          "height": 253
        },
        "id": "uBbq3SUnp3DS",
        "outputId": "0407fb6a-a2d7-42dd-9ce2-5fa4f32d9818"
      },
      "source": [
        "even_no = (0, 2, 4) # Tuple'larda indexing var. [3] olmadığı için hata verdi.\n",
        "print(even_no[0])    \n",
        "print(even_no[1])    \n",
        "print(even_no[2])   \n",
        "print(even_no[3])    "
      ],
      "execution_count": null,
      "outputs": [
        {
          "output_type": "stream",
          "text": [
            "0\n",
            "2\n",
            "4\n"
          ],
          "name": "stdout"
        },
        {
          "output_type": "error",
          "ename": "IndexError",
          "evalue": "ignored",
          "traceback": [
            "\u001b[0;31m---------------------------------------------------------------------------\u001b[0m",
            "\u001b[0;31mIndexError\u001b[0m                                Traceback (most recent call last)",
            "\u001b[0;32m<ipython-input-36-8a077883e37a>\u001b[0m in \u001b[0;36m<module>\u001b[0;34m()\u001b[0m\n\u001b[1;32m      3\u001b[0m \u001b[0mprint\u001b[0m\u001b[0;34m(\u001b[0m\u001b[0meven_no\u001b[0m\u001b[0;34m[\u001b[0m\u001b[0;36m1\u001b[0m\u001b[0;34m]\u001b[0m\u001b[0;34m)\u001b[0m\u001b[0;34m\u001b[0m\u001b[0;34m\u001b[0m\u001b[0m\n\u001b[1;32m      4\u001b[0m \u001b[0mprint\u001b[0m\u001b[0;34m(\u001b[0m\u001b[0meven_no\u001b[0m\u001b[0;34m[\u001b[0m\u001b[0;36m2\u001b[0m\u001b[0;34m]\u001b[0m\u001b[0;34m)\u001b[0m\u001b[0;34m\u001b[0m\u001b[0;34m\u001b[0m\u001b[0m\n\u001b[0;32m----> 5\u001b[0;31m \u001b[0mprint\u001b[0m\u001b[0;34m(\u001b[0m\u001b[0meven_no\u001b[0m\u001b[0;34m[\u001b[0m\u001b[0;36m3\u001b[0m\u001b[0;34m]\u001b[0m\u001b[0;34m)\u001b[0m\u001b[0;34m\u001b[0m\u001b[0;34m\u001b[0m\u001b[0m\n\u001b[0m",
            "\u001b[0;31mIndexError\u001b[0m: tuple index out of range"
          ]
        }
      ]
    },
    {
      "cell_type": "code",
      "metadata": {
        "colab": {
          "base_uri": "https://localhost:8080/",
          "height": 201
        },
        "id": "jKJMFdHaqba-",
        "outputId": "f0dfebd2-7684-445c-923c-d47332f973a4"
      },
      "source": [
        "city_list = ['Tokyo', 'Istanbul', 'Moskow', 'Dublin']\n",
        "\n",
        "city_tuple = tuple(city_list)\n",
        "\n",
        "city_tuple[0] = 'New York'  # Tuple'ye değer atayamayız.\n"
      ],
      "execution_count": null,
      "outputs": [
        {
          "output_type": "error",
          "ename": "TypeError",
          "evalue": "ignored",
          "traceback": [
            "\u001b[0;31m---------------------------------------------------------------------------\u001b[0m",
            "\u001b[0;31mTypeError\u001b[0m                                 Traceback (most recent call last)",
            "\u001b[0;32m<ipython-input-42-56511eb43d9a>\u001b[0m in \u001b[0;36m<module>\u001b[0;34m()\u001b[0m\n\u001b[1;32m      3\u001b[0m \u001b[0mcity_tuple\u001b[0m \u001b[0;34m=\u001b[0m \u001b[0mtuple\u001b[0m\u001b[0;34m(\u001b[0m\u001b[0mcity_list\u001b[0m\u001b[0;34m)\u001b[0m\u001b[0;34m\u001b[0m\u001b[0;34m\u001b[0m\u001b[0m\n\u001b[1;32m      4\u001b[0m \u001b[0;34m\u001b[0m\u001b[0m\n\u001b[0;32m----> 5\u001b[0;31m \u001b[0mcity_tuple\u001b[0m\u001b[0;34m[\u001b[0m\u001b[0;36m0\u001b[0m\u001b[0;34m]\u001b[0m \u001b[0;34m=\u001b[0m \u001b[0;34m'New York'\u001b[0m  \u001b[0;31m# Tuple'ye değer atayamayız.\u001b[0m\u001b[0;34m\u001b[0m\u001b[0;34m\u001b[0m\u001b[0m\n\u001b[0m",
            "\u001b[0;31mTypeError\u001b[0m: 'tuple' object does not support item assignment"
          ]
        }
      ]
    },
    {
      "cell_type": "code",
      "metadata": {
        "colab": {
          "base_uri": "https://localhost:8080/"
        },
        "id": "7SO2X1Niq0Jn",
        "outputId": "4b693a71-5bfd-49cc-f50e-b9c88507a882"
      },
      "source": [
        "mix_tuple = (\"11\", 11, [2, \"two\", (\"six\", 6)], (5, \"fair\"))\n",
        "str_six = mix_tuple[2][2][0]\n",
        "print(str_six) # indexing and slicing yapabiliriz."
      ],
      "execution_count": null,
      "outputs": [
        {
          "output_type": "stream",
          "text": [
            "six\n"
          ],
          "name": "stdout"
        }
      ]
    },
    {
      "cell_type": "code",
      "metadata": {
        "colab": {
          "base_uri": "https://localhost:8080/"
        },
        "id": "iv5dkW6GsUSd",
        "outputId": "4e04c178-51fe-4d3e-b227-5ce11867aa0c"
      },
      "source": [
        "mix_tuple = (\"11\", 11, [2, \"two\", (\"six\", 6)], (5, \"fair\"))\n",
        "str_six = mix_tuple[2][1:3]\n",
        "print(str_six, type(str_six), sep = \"\\n\")"
      ],
      "execution_count": null,
      "outputs": [
        {
          "output_type": "stream",
          "text": [
            "['two', ('six', 6)]\n",
            "<class 'list'>\n"
          ],
          "name": "stdout"
        }
      ]
    },
    {
      "cell_type": "code",
      "metadata": {
        "colab": {
          "base_uri": "https://localhost:8080/"
        },
        "id": "XyTS88quu0hn",
        "outputId": "c643bd24-0506-4691-8d0c-ba11ae82ccf9"
      },
      "source": [
        "mix_tuple = (\"11\", 11, [2, \"two\", (\"six\", 6)], (5, \"fair\"))\n",
        "str_six = mix_tuple[1:3]\n",
        "print(str_six, type(str_six), sep = \"\\n\")"
      ],
      "execution_count": null,
      "outputs": [
        {
          "output_type": "stream",
          "text": [
            "(11, [2, 'two', ('six', 6)])\n",
            "<class 'tuple'>\n"
          ],
          "name": "stdout"
        }
      ]
    },
    {
      "cell_type": "code",
      "metadata": {
        "colab": {
          "base_uri": "https://localhost:8080/"
        },
        "id": "nW0x4sZCvDDK",
        "outputId": "d8885f65-9429-4f73-a534-87a2031a5c6a"
      },
      "source": [
        "mix_tuple[-1]"
      ],
      "execution_count": null,
      "outputs": [
        {
          "output_type": "execute_result",
          "data": {
            "text/plain": [
              "(5, 'fair')"
            ]
          },
          "metadata": {
            "tags": []
          },
          "execution_count": 48
        }
      ]
    },
    {
      "cell_type": "code",
      "metadata": {
        "colab": {
          "base_uri": "https://localhost:8080/",
          "height": 35
        },
        "id": "6j4wF0Lhvoj5",
        "outputId": "d7a400a2-dec1-4c27-ee0f-f63c4b434acf"
      },
      "source": [
        "mix_tuple[-1][-1]"
      ],
      "execution_count": null,
      "outputs": [
        {
          "output_type": "execute_result",
          "data": {
            "application/vnd.google.colaboratory.intrinsic+json": {
              "type": "string"
            },
            "text/plain": [
              "'fair'"
            ]
          },
          "metadata": {
            "tags": []
          },
          "execution_count": 49
        }
      ]
    },
    {
      "cell_type": "markdown",
      "metadata": {
        "id": "-59lc_zGyQeR"
      },
      "source": [
        "*******DİCTİONARY******"
      ]
    },
    {
      "cell_type": "code",
      "metadata": {
        "colab": {
          "base_uri": "https://localhost:8080/"
        },
        "id": "FUIbxSPryU-c",
        "outputId": "5ef01cb4-4f55-4d13-e62c-bb4f8bc4b9b1"
      },
      "source": [
        "# { } ile gösterilir. {key1 : value1, key2 : value2, key3: value3.....}\n",
        "# item = key and value. { } ve dict() şeklinde dictionary oluşturulur. \n",
        "# Value her şey olabilir ancak key int, str, tuple, float, boolean olabilir. Ancak liste ve dict \"key\" olarak tanımlanamaz\n",
        "first_dict = {1 : \"one\", \"two\" : 2, False : [1, 2, 3], 1.5 : (\"one\", \"two\"), (1,2):\"clrswy\"}\n",
        "first_dict"
      ],
      "execution_count": null,
      "outputs": [
        {
          "output_type": "execute_result",
          "data": {
            "text/plain": [
              "{(1, 2): 'clrswy', 1: 'one', 1.5: ('one', 'two'), False: [1, 2, 3], 'two': 2}"
            ]
          },
          "metadata": {
            "tags": []
          },
          "execution_count": 65
        }
      ]
    },
    {
      "cell_type": "code",
      "metadata": {
        "colab": {
          "base_uri": "https://localhost:8080/"
        },
        "id": "-bAmcMBg2863",
        "outputId": "cc1ac169-4b8a-4e9a-edbc-cf2937d16889"
      },
      "source": [
        "# Dict'te accesing [ ] içine key ler yazılır\n",
        "state_capitals = {'Arkansas': 'Little Rock',\n",
        "                  'Colorado': 'Denver',\n",
        "                  'California': 'Sacramento',\n",
        "                  'Georgia': 'Atlanta' \n",
        "                 }\n",
        "\n",
        "state_capitals['Virginia'] = 'Richmond' # adding a new item\n",
        "\n",
        "print(state_capitals)\n"
      ],
      "execution_count": null,
      "outputs": [
        {
          "output_type": "stream",
          "text": [
            "{'Arkansas': 'Little Rock', 'Colorado': 'Denver', 'California': 'Sacramento', 'Georgia': 'Atlanta', 'Virginia': 'Richmond'}\n"
          ],
          "name": "stdout"
        }
      ]
    },
    {
      "cell_type": "code",
      "metadata": {
        "colab": {
          "base_uri": "https://localhost:8080/"
        },
        "id": "hXEFOg0GHZSq",
        "outputId": "15bf6cef-dcc0-46bf-8377-bfbdb7917af8"
      },
      "source": [
        "print(state_capitals['Colorado'])  # accesing method\n"
      ],
      "execution_count": null,
      "outputs": [
        {
          "output_type": "stream",
          "text": [
            "Denver\n"
          ],
          "name": "stdout"
        }
      ]
    },
    {
      "cell_type": "code",
      "metadata": {
        "id": "wgFwgg7xH41a"
      },
      "source": [
        "sehir = \"istanbul\"\n",
        "sehir1 = \"ankara\"\n",
        "nüfus = 1000"
      ],
      "execution_count": null,
      "outputs": []
    },
    {
      "cell_type": "code",
      "metadata": {
        "colab": {
          "base_uri": "https://localhost:8080/"
        },
        "id": "z5ehochYH_qk",
        "outputId": "79eb754a-9af8-45ed-dae5-c11cc8de4fbe"
      },
      "source": [
        "sehirler = {1 : sehir, 2 : sehir1, \"nüfusum\" : nüfus}\n",
        "print(sehirler)"
      ],
      "execution_count": null,
      "outputs": [
        {
          "output_type": "stream",
          "text": [
            "{1: 'istanbul', 2: 'ankara', 'nüfusum': 1000}\n"
          ],
          "name": "stdout"
        }
      ]
    },
    {
      "cell_type": "code",
      "metadata": {
        "colab": {
          "base_uri": "https://localhost:8080/",
          "height": 35
        },
        "id": "b3aeRDAHIR4h",
        "outputId": "cb16a466-9f7a-4dfc-c6f3-70fdaf4b7e18"
      },
      "source": [
        "sehirler[2]"
      ],
      "execution_count": null,
      "outputs": [
        {
          "output_type": "execute_result",
          "data": {
            "application/vnd.google.colaboratory.intrinsic+json": {
              "type": "string"
            },
            "text/plain": [
              "'ankara'"
            ]
          },
          "metadata": {
            "tags": []
          },
          "execution_count": 73
        }
      ]
    },
    {
      "cell_type": "code",
      "metadata": {
        "colab": {
          "base_uri": "https://localhost:8080/"
        },
        "id": "gLbuJHpuIYyv",
        "outputId": "d641a5f4-6ff7-4ece-f655-158a167ea129"
      },
      "source": [
        "sehirler['nüfusum']"
      ],
      "execution_count": null,
      "outputs": [
        {
          "output_type": "execute_result",
          "data": {
            "text/plain": [
              "1000"
            ]
          },
          "metadata": {
            "tags": []
          },
          "execution_count": 75
        }
      ]
    },
    {
      "cell_type": "code",
      "metadata": {
        "colab": {
          "base_uri": "https://localhost:8080/"
        },
        "id": "f4PDWtwaIu1k",
        "outputId": "49cdc7d0-7066-4459-f146-68617a80208f"
      },
      "source": [
        "# yeni bir item atama da yapabiliriz veya mevcut key'in değerini de değiştirebiliriz.\n",
        "state_capitals['Virginia'] = 'Richmond'\n",
        "state_capitals"
      ],
      "execution_count": null,
      "outputs": [
        {
          "output_type": "execute_result",
          "data": {
            "text/plain": [
              "{'Arkansas': 'Little Rock',\n",
              " 'California': 'Sacramento',\n",
              " 'Colorado': 'Denver',\n",
              " 'Georgia': 'Atlanta',\n",
              " 'Virginia': 'Richmond'}"
            ]
          },
          "metadata": {
            "tags": []
          },
          "execution_count": 76
        }
      ]
    },
    {
      "cell_type": "code",
      "metadata": {
        "id": "GKS0bp4TJFjc"
      },
      "source": [
        "mix_values = {'animal': ('dog', 'cat'),  # tuple type\n",
        "              'planet': ['Neptun', 'Saturn', 'Jupiter'],  # list type\n",
        "              'number': 40,  # int type\n",
        "              'pi': 3.14,  # float type\n",
        "              'is_good': True}  # bool type\n",
        "\n",
        "mix_keys = {22 : \"integer\",\n",
        "            1.2 : \"float\",\n",
        "            True : \"boolean\",\n",
        "            \"key\" : \"string\"}"
      ],
      "execution_count": null,
      "outputs": []
    },
    {
      "cell_type": "code",
      "metadata": {
        "colab": {
          "base_uri": "https://localhost:8080/"
        },
        "id": "mm4aGn0nJdb5",
        "outputId": "8f41a6bf-a739-4eef-ea22-3a922c50cef3"
      },
      "source": [
        "family = { 'name1': 'Elif','name2': 'Mesut', 'name3': 'Cihat'}\n",
        "family"
      ],
      "execution_count": null,
      "outputs": [
        {
          "output_type": "execute_result",
          "data": {
            "text/plain": [
              "{'name1': 'Elif', 'name2': 'Mesut', 'name3': 'Cihat'}"
            ]
          },
          "metadata": {
            "tags": []
          },
          "execution_count": 79
        }
      ]
    },
    {
      "cell_type": "code",
      "metadata": {
        "colab": {
          "base_uri": "https://localhost:8080/"
        },
        "id": "obD1pEM-KErt",
        "outputId": "cbc3fa22-e227-4c28-d35a-bf07aa50fa7d"
      },
      "source": [
        "family['name4'] = \"Nihat\"\n",
        "family"
      ],
      "execution_count": null,
      "outputs": [
        {
          "output_type": "execute_result",
          "data": {
            "text/plain": [
              "{'name1': 'Elif', 'name2': 'Mesut', 'name3': 'Cihat', 'name4': 'Nihat'}"
            ]
          },
          "metadata": {
            "tags": []
          },
          "execution_count": 81
        }
      ]
    },
    {
      "cell_type": "code",
      "metadata": {
        "colab": {
          "base_uri": "https://localhost:8080/"
        },
        "id": "cqQv7cO4KajJ",
        "outputId": "7c9b7d61-193a-48e2-d94e-3f1cb7c97e2a"
      },
      "source": [
        "dict_by_dict = dict(animal='dog', planet='neptun', number=40, pi=3.14, is_good=True)\n",
        "\n",
        "print(dict_by_dict) # dict() fonksiyonunu kullanırken stringi stringe atayamayız. Değişkenlere değer atıyor gibi tanımlayacağız."
      ],
      "execution_count": null,
      "outputs": [
        {
          "output_type": "stream",
          "text": [
            "{'animal': 'dog', 'planet': 'neptun', 'number': 40, 'pi': 3.14, 'is_good': True}\n"
          ],
          "name": "stdout"
        }
      ]
    },
    {
      "cell_type": "code",
      "metadata": {
        "colab": {
          "base_uri": "https://localhost:8080/"
        },
        "id": "EeLOyygpLPej",
        "outputId": "b8cc4625-1541-4ee9-c4bd-6b87c0c27b8d"
      },
      "source": [
        "dict(name1 = 'Elif', name2 = 'Mesut', name3 = 'Cihat', name4 = 'Nihat') # dict() fonksiyonunu kullanarak yeni bir dict tanımladık."
      ],
      "execution_count": null,
      "outputs": [
        {
          "output_type": "execute_result",
          "data": {
            "text/plain": [
              "{'name1': 'Elif', 'name2': 'Mesut', 'name3': 'Cihat', 'name4': 'Nihat'}"
            ]
          },
          "metadata": {
            "tags": []
          },
          "execution_count": 84
        }
      ]
    },
    {
      "cell_type": "markdown",
      "metadata": {
        "id": "OR5iXW06L5zq"
      },
      "source": [
        "Main Operation With dicts"
      ]
    },
    {
      "cell_type": "code",
      "metadata": {
        "colab": {
          "base_uri": "https://localhost:8080/"
        },
        "id": "D8e0UQqTMBxQ",
        "outputId": "ff688c1c-5422-49fc-8b1d-76a2109686c8"
      },
      "source": [
        "# item'lar .items() methodunu\n",
        "# key'ler .keys() metodunu\n",
        "# value'lar .values() metodunu kullanır\n",
        "dict_by_dict = {'animal': 'dog',\n",
        "                'planet': 'neptun',\n",
        "                'number': 40,\n",
        "                'pi': 3.14,\n",
        "                'is_good': True}\n",
        "print(dict_by_dict.items(), '\\n') # Çıktıda items tuple tuple ayrılır. Yani her bir item bir tuple'den oluşur\n",
        "print(dict_by_dict.keys(), '\\n') # keys ve values liste olarak döner.\n",
        "print(dict_by_dict.values())"
      ],
      "execution_count": null,
      "outputs": [
        {
          "output_type": "stream",
          "text": [
            "dict_items([('animal', 'dog'), ('planet', 'neptun'), ('number', 40), ('pi', 3.14), ('is_good', True)]) \n",
            "\n",
            "dict_keys(['animal', 'planet', 'number', 'pi', 'is_good']) \n",
            "\n",
            "dict_values(['dog', 'neptun', 40, 3.14, True])\n"
          ],
          "name": "stdout"
        }
      ]
    },
    {
      "cell_type": "code",
      "metadata": {
        "colab": {
          "base_uri": "https://localhost:8080/"
        },
        "id": "ed2KxW_WO2IL",
        "outputId": "8c51ef0c-486c-4795-a80a-ab56e71227dd"
      },
      "source": [
        "family = {'name1': 'Elif', 'name2': 'Mesut', 'name3': 'Cihat', 'name4': 'Nihat'} # items, keys ve values liste şeklinde çıktı aldık.\n",
        "print(list(family.items()), '\\n')\n",
        "print(list(family.keys()), '\\n')\n",
        "print(list(family.values()))"
      ],
      "execution_count": null,
      "outputs": [
        {
          "output_type": "stream",
          "text": [
            "[('name1', 'Elif'), ('name2', 'Mesut'), ('name3', 'Cihat'), ('name4', 'Nihat')] \n",
            "\n",
            "['name1', 'name2', 'name3', 'name4'] \n",
            "\n",
            "['Elif', 'Mesut', 'Cihat', 'Nihat']\n"
          ],
          "name": "stdout"
        }
      ]
    },
    {
      "cell_type": "code",
      "metadata": {
        "colab": {
          "base_uri": "https://localhost:8080/"
        },
        "id": "VpZsjFtGQpqg",
        "outputId": "14269b67-f13d-4d40-e8ae-f0c82bcd8c2a"
      },
      "source": [
        "# .update() metodu: .append() metodu gibi dict formatında bir veriyi dict'in sonuna ekleme yapar.\n",
        "family.update({'name5':'Fatma'})\n",
        "print(family)"
      ],
      "execution_count": null,
      "outputs": [
        {
          "output_type": "stream",
          "text": [
            "{'name1': 'Elif', 'name2': 'Mesut', 'name3': 'Cihat', 'name4': 'Nihat', 'name5': 'Fatma'}\n"
          ],
          "name": "stdout"
        }
      ]
    },
    {
      "cell_type": "code",
      "metadata": {
        "colab": {
          "base_uri": "https://localhost:8080/"
        },
        "id": "lDmGqmJlSbNW",
        "outputId": "4cfb9fa3-607e-45c6-fffe-286159529c6b"
      },
      "source": [
        "family.update({\"a\" : 1, \"b\" : 2}) # Birden fazla item ekleyebiliriz.\n",
        "family"
      ],
      "execution_count": null,
      "outputs": [
        {
          "output_type": "execute_result",
          "data": {
            "text/plain": [
              "{'a': 1,\n",
              " 'b': 2,\n",
              " 'name1': 'Elif',\n",
              " 'name2': 'Mesut',\n",
              " 'name3': 'Cihat',\n",
              " 'name4': 'Nihat',\n",
              " 'name5': 'Fatma'}"
            ]
          },
          "metadata": {
            "tags": []
          },
          "execution_count": 100
        }
      ]
    },
    {
      "cell_type": "code",
      "metadata": {
        "id": "uiVbLDIJT8FI"
      },
      "source": [
        "# del fonksiyonu item'ı siler.\n",
        "# del dict_name[key]\n",
        "del family['name1']"
      ],
      "execution_count": null,
      "outputs": []
    },
    {
      "cell_type": "code",
      "metadata": {
        "colab": {
          "base_uri": "https://localhost:8080/"
        },
        "id": "NBlJ-i38Vm7i",
        "outputId": "a963a46b-f388-480f-aade-b12213ac6315"
      },
      "source": [
        "print(family)"
      ],
      "execution_count": null,
      "outputs": [
        {
          "output_type": "stream",
          "text": [
            "{'name2': 'Mesut', 'name3': 'Cihat', 'name4': 'Nihat', 'name5': 'Fatma'}\n"
          ],
          "name": "stdout"
        }
      ]
    },
    {
      "cell_type": "code",
      "metadata": {
        "id": "VOjZNe9HVzGn"
      },
      "source": [
        "del family['b']"
      ],
      "execution_count": null,
      "outputs": []
    },
    {
      "cell_type": "code",
      "metadata": {
        "colab": {
          "base_uri": "https://localhost:8080/"
        },
        "id": "2_1paMU1V6OJ",
        "outputId": "bb9f74d5-6ea4-48cc-c97d-d17dda3d74c9"
      },
      "source": [
        "print(family)"
      ],
      "execution_count": null,
      "outputs": [
        {
          "output_type": "stream",
          "text": [
            "{'name2': 'Mesut', 'name3': 'Cihat', 'name4': 'Nihat', 'name5': 'Fatma'}\n"
          ],
          "name": "stdout"
        }
      ]
    },
    {
      "cell_type": "code",
      "metadata": {
        "id": "ly0LkIWcWgI-"
      },
      "source": [
        "# tek satırda birden fazla item silme:\n",
        "\n",
        "del family['name2'], family['name3']\n"
      ],
      "execution_count": null,
      "outputs": []
    },
    {
      "cell_type": "code",
      "metadata": {
        "colab": {
          "base_uri": "https://localhost:8080/"
        },
        "id": "JR2zN1M9XCi-",
        "outputId": "9af84286-ed25-4a13-b5cb-b9e9b36320c9"
      },
      "source": [
        "print(family)"
      ],
      "execution_count": null,
      "outputs": [
        {
          "output_type": "stream",
          "text": [
            "{'name4': 'Nihat', 'name5': 'Fatma'}\n"
          ],
          "name": "stdout"
        }
      ]
    },
    {
      "cell_type": "code",
      "metadata": {
        "colab": {
          "base_uri": "https://localhost:8080/"
        },
        "id": "eJT0FXIgXLxA",
        "outputId": "b86cc4cb-1fe8-40a0-da83-40e875a61d06"
      },
      "source": [
        "#  key'ler üstünde in  veya not in operatörlerini kullanabiliriz. True ya da False sonucu döndürecek.\n",
        "family_2 = {'name1': 'Elif', 'name2': 'Mesut', 'name3': 'Cihat', 'name4': 'Nihat'}\n",
        "print(family_2)"
      ],
      "execution_count": null,
      "outputs": [
        {
          "output_type": "stream",
          "text": [
            "{'name1': 'Elif', 'name2': 'Mesut', 'name3': 'Cihat', 'name4': 'Nihat'}\n"
          ],
          "name": "stdout"
        }
      ]
    },
    {
      "cell_type": "code",
      "metadata": {
        "colab": {
          "base_uri": "https://localhost:8080/"
        },
        "id": "s7snAAxcXrXY",
        "outputId": "9bc963ff-9758-43ec-9e37-4fff5cb7ba7f"
      },
      "source": [
        "print('name1' in family_2, '\\n')\n",
        "print('name2' not in family_2, '\\n')\n",
        "print('Elif' not in family_2)"
      ],
      "execution_count": null,
      "outputs": [
        {
          "output_type": "stream",
          "text": [
            "True \n",
            "\n",
            "False \n",
            "\n",
            "True\n"
          ],
          "name": "stdout"
        }
      ]
    },
    {
      "cell_type": "markdown",
      "metadata": {
        "id": "UEiBCotGY-bt"
      },
      "source": [
        "********   NESTED DİCTİONARY   *******"
      ]
    },
    {
      "cell_type": "code",
      "metadata": {
        "id": "NBINpViUY92e"
      },
      "source": [
        "# school_records'ın 2 item'ı var. Value'lar dict üzerinden derinleşir yani valu iç içe bir sürü dict'ten oluşabilir.. Key'lerde dict olmaz.\n",
        "school_records={\n",
        "    \"personal_info\":\n",
        "        {\"kid\":{\"tom\": {\"class\": \"intermediate\", \"age\": 10},\n",
        "                \"sue\": {\"class\": \"elementary\", \"age\": 8}\n",
        "               },\n",
        "         \"teen\":{\"joseph\":{\"class\": \"college\", \"age\": 19},\n",
        "                 \"marry\":{\"class\": \"high school\", \"age\": 16}\n",
        "               },\n",
        "        },\n",
        "    \"grades_info\":\n",
        "        {\"kid\":{\"tom\": {\"math\": 88, \"speech\": 69},\n",
        "                \"sue\": {\"math\": 90, \"speech\": 81}\n",
        "               },\n",
        "         \"teen\":{\"joseph\":{\"coding\": 80, \"math\": 89},\n",
        "                 \"marry\":{\"coding\": 70, \"math\": 96}\n",
        "               },\n",
        "        },\n",
        "}\n",
        "# geleneksel accesing metodu [ ] ile nested dict'lere de ulaşabiliriz."
      ],
      "execution_count": null,
      "outputs": []
    },
    {
      "cell_type": "code",
      "metadata": {
        "colab": {
          "base_uri": "https://localhost:8080/"
        },
        "id": "FyZwQHCKfUHC",
        "outputId": "da1c07fa-4c20-4a00-81fc-452f66c08375"
      },
      "source": [
        "print(school_records['personal_info']['teen']['marry']['age'])\n"
      ],
      "execution_count": null,
      "outputs": [
        {
          "output_type": "stream",
          "text": [
            "16\n"
          ],
          "name": "stdout"
        }
      ]
    },
    {
      "cell_type": "code",
      "metadata": {
        "colab": {
          "base_uri": "https://localhost:8080/"
        },
        "id": "r6U1ELRRYkK-",
        "outputId": "f4082c27-4306-4ae9-c66e-118dd41345ad"
      },
      "source": [
        "print(school_records['grades_info']['teen']['joseph'])\n",
        "\n"
      ],
      "execution_count": null,
      "outputs": [
        {
          "output_type": "stream",
          "text": [
            "{'coding': 80, 'math': 89}\n"
          ],
          "name": "stdout"
        }
      ]
    },
    {
      "cell_type": "code",
      "metadata": {
        "id": "3UFE8Y-ej7uH"
      },
      "source": [
        "aaaa = school_records[\"grades_info\"][\"teen\"][\"joseph\"].items()"
      ],
      "execution_count": null,
      "outputs": []
    },
    {
      "cell_type": "code",
      "metadata": {
        "id": "G6A1AQPPk_Pj"
      },
      "source": [
        "list(aaaa)"
      ],
      "execution_count": null,
      "outputs": []
    },
    {
      "cell_type": "code",
      "metadata": {
        "id": "Ts8PwMEBlsYt"
      },
      "source": [
        "friends = {\n",
        "    \"friend1\" : {\"first\" : \"Sue\", \"last\" : \"Bold\"},\n",
        "    \"friend2\" : {\"first\" : \"Steve\", \"last\" : \"Smith\"},\n",
        "    \"friend3\" : {\"first\" : \"Sergio\", \"last\" : \"Tatoo\"}\n",
        "}"
      ],
      "execution_count": null,
      "outputs": []
    },
    {
      "cell_type": "code",
      "metadata": {
        "id": "9666z35BmGBf"
      },
      "source": [
        "\n",
        "favourite = {\n",
        "    'friends' : {\n",
        "        \"friend1\" : {\"first\" : \"Sue\", \"last\" : \"Bold\"}, \n",
        "        \"friend2\" : {\"first\" : \"Steve\", \"last\" : \"Smith\"},\n",
        "        \"friend3\" : {\"first\" : \"Sergio\", \"last\" : \"Tatoo\"}\n",
        "    },\n",
        "    'family' : {\n",
        "        'name1': {'first' :'Elif', 'last' : 'Tascı'},\n",
        "        'name2': {'first' :'Mesut', 'last' : 'Tascı'},\n",
        "        'name3': {'first' :'Cihat', 'last' : 'Tascı'}\n",
        "    }\n",
        "}"
      ],
      "execution_count": null,
      "outputs": []
    },
    {
      "cell_type": "code",
      "metadata": {
        "id": "jhrcx7UqoQqW"
      },
      "source": [
        "print(favourite)"
      ],
      "execution_count": null,
      "outputs": []
    },
    {
      "cell_type": "markdown",
      "metadata": {
        "id": "i2IqMZlLpOW0"
      },
      "source": [
        "*****SETS*****"
      ]
    },
    {
      "cell_type": "code",
      "metadata": {
        "colab": {
          "base_uri": "https://localhost:8080/"
        },
        "id": "mItlP4rmpOEg",
        "outputId": "fa25b298-380f-47fa-ce33-518744eadd12"
      },
      "source": [
        "# tekrara izin yok,  unique2leri seçip almak istersek kümeleri kullanabiliriz\n",
        "# union, intersection, difference işlemlerini yapabilirim.\n",
        "# elemanları her seferinde çıktı alırken farklı farklı sıralarda olabilir. unordered...\n",
        "# küme oluştururken set() fonksiyonunu kullanırız.\n",
        "set_1 = {'red', 'blue', 'pink', 'red'}\n",
        "print(set_1)"
      ],
      "execution_count": null,
      "outputs": [
        {
          "output_type": "stream",
          "text": [
            "{'red', 'blue', 'pink'}\n"
          ],
          "name": "stdout"
        }
      ]
    },
    {
      "cell_type": "code",
      "metadata": {
        "colab": {
          "base_uri": "https://localhost:8080/"
        },
        "id": "2B5SCfXnrGJ9",
        "outputId": "65d1574f-ae75-47c4-e005-44c35a3d6b85"
      },
      "source": [
        "colors = 'red', 'blue', 'pink', 'red' #iterable olan tuple ı alıp set fonksiyonu uyguladık.\n",
        "set_2 = set(colors)\n",
        "print(set_2)"
      ],
      "execution_count": null,
      "outputs": [
        {
          "output_type": "stream",
          "text": [
            "{'red', 'blue', 'pink'}\n"
          ],
          "name": "stdout"
        }
      ]
    },
    {
      "cell_type": "code",
      "metadata": {
        "colab": {
          "base_uri": "https://localhost:8080/"
        },
        "id": "bnhCg2e7rmlg",
        "outputId": "da72bdd5-8743-4923-f741-59586301d31f"
      },
      "source": [
        "letter = \"a b c d e f g h i j k l m n o p r s t u v y z\".split()\n",
        "print(letter)"
      ],
      "execution_count": null,
      "outputs": [
        {
          "output_type": "stream",
          "text": [
            "['a', 'b', 'c', 'd', 'e', 'f', 'g', 'h', 'i', 'j', 'k', 'l', 'm', 'n', 'o', 'p', 'r', 's', 't', 'u', 'v', 'y', 'z']\n"
          ],
          "name": "stdout"
        }
      ]
    },
    {
      "cell_type": "code",
      "metadata": {
        "colab": {
          "base_uri": "https://localhost:8080/"
        },
        "id": "UvWyMInesIab",
        "outputId": "e39b2461-de75-448f-c2fe-6056b8b065d9"
      },
      "source": [
        "print(set(letter)) # sıralama unordered olur."
      ],
      "execution_count": null,
      "outputs": [
        {
          "output_type": "stream",
          "text": [
            "{'n', 'b', 'o', 'v', 'u', 'j', 'k', 'f', 't', 'd', 's', 'a', 'h', 'l', 'm', 'p', 'c', 'g', 'i', 'e', 'y', 'z', 'r'}\n"
          ],
          "name": "stdout"
        }
      ]
    },
    {
      "cell_type": "code",
      "metadata": {
        "colab": {
          "base_uri": "https://localhost:8080/"
        },
        "id": "oXRb-tcksTsP",
        "outputId": "b41a23d8-1f51-4ab5-d27b-00c0bf0cd943"
      },
      "source": [
        "empty_set = set() # boş bir küme sadece set() fonksiyonuyla oluşturulur. {} ile dict oluşturabiliriz.\n",
        "\n",
        "print(type(empty_set))"
      ],
      "execution_count": null,
      "outputs": [
        {
          "output_type": "stream",
          "text": [
            "<class 'set'>\n"
          ],
          "name": "stdout"
        }
      ]
    },
    {
      "cell_type": "markdown",
      "metadata": {
        "id": "M4xm0aC5EsO1"
      },
      "source": [
        "Main Operations with Sets"
      ]
    },
    {
      "cell_type": "code",
      "metadata": {
        "id": "78WS3Bi9tYxB"
      },
      "source": [
        "# .add() : Adds a new item to the set.\n",
        "\n",
        "# .remove() : Allows us to delete an item.\n",
        "\n",
        "# .intersection() : Returns the intersection of two sets.\n",
        "\n",
        "# .union() : Returns the unification of two sets.\n",
        "\n",
        "# .difference() : Gets the difference of two sets.\n"
      ],
      "execution_count": null,
      "outputs": []
    },
    {
      "cell_type": "code",
      "metadata": {
        "colab": {
          "base_uri": "https://localhost:8080/"
        },
        "id": "AUFfEld6FUjZ",
        "outputId": "598d8cef-c5d0-41b8-a257-0f2f93cbc0a0"
      },
      "source": [
        "a = set('abracadabra')\n",
        "a"
      ],
      "execution_count": null,
      "outputs": [
        {
          "output_type": "execute_result",
          "data": {
            "text/plain": [
              "{'a', 'b', 'c', 'd', 'r'}"
            ]
          },
          "metadata": {
            "tags": []
          },
          "execution_count": 2
        }
      ]
    },
    {
      "cell_type": "code",
      "metadata": {
        "colab": {
          "base_uri": "https://localhost:8080/"
        },
        "id": "DW17vFbsFgNH",
        "outputId": "93248777-e7fd-4cab-97e6-d2f74fbecaef"
      },
      "source": [
        "a = set('abracadabra')\n",
        "b = set('alacazam')\n",
        "\n",
        "print(a - b)  # same as '.difference()' method\n",
        "print(a.difference(b)) # a difference from b"
      ],
      "execution_count": null,
      "outputs": [
        {
          "output_type": "stream",
          "text": [
            "{'d', 'r', 'b'}\n",
            "{'d', 'r', 'b'}\n"
          ],
          "name": "stdout"
        }
      ]
    },
    {
      "cell_type": "code",
      "metadata": {
        "colab": {
          "base_uri": "https://localhost:8080/"
        },
        "id": "Hq09WberFh2I",
        "outputId": "cf456802-c39e-4dfa-df8a-6b3eeb902706"
      },
      "source": [
        "a = set('abracadabra')\n",
        "b = set('alacazam')\n",
        "\n",
        "print(a | b)  # same as '.union()' method\n",
        "print(a.union(b)) # unification of a with b"
      ],
      "execution_count": null,
      "outputs": [
        {
          "output_type": "stream",
          "text": [
            "{'c', 'b', 'z', 'a', 'm', 'd', 'l', 'r'}\n",
            "{'c', 'b', 'z', 'a', 'm', 'd', 'l', 'r'}\n"
          ],
          "name": "stdout"
        }
      ]
    },
    {
      "cell_type": "code",
      "metadata": {
        "colab": {
          "base_uri": "https://localhost:8080/"
        },
        "id": "kAjuYKBYFuPA",
        "outputId": "0ab7c4a0-f2fb-47da-ad98-e0c30a0e511a"
      },
      "source": [
        "a = set('abracadabra')\n",
        "b = set('alacazam')\n",
        "\n",
        "print(a & b)  # same as '.intersection()' method\n",
        "print(a.intersection(b)) # intersection of a and b"
      ],
      "execution_count": null,
      "outputs": [
        {
          "output_type": "stream",
          "text": [
            "{'c', 'a'}\n",
            "{'c', 'a'}\n"
          ],
          "name": "stdout"
        }
      ]
    },
    {
      "cell_type": "code",
      "metadata": {
        "colab": {
          "base_uri": "https://localhost:8080/"
        },
        "id": "Z3tkzVcPGo3N",
        "outputId": "189ec4c3-a372-4896-c00a-5d142534bc0b"
      },
      "source": [
        "a = set('abracadabra')\n",
        "\n",
        "a.remove('c') # we delete 'c' from the set\n",
        "print(a)\n"
      ],
      "execution_count": null,
      "outputs": [
        {
          "output_type": "stream",
          "text": [
            "{'b', 'a', 'd', 'r'}\n"
          ],
          "name": "stdout"
        }
      ]
    },
    {
      "cell_type": "code",
      "metadata": {
        "colab": {
          "base_uri": "https://localhost:8080/"
        },
        "id": "aeaQl5VsGzbV",
        "outputId": "8ee52faf-b4e9-4314-ca18-cc675798359e"
      },
      "source": [
        "a = set('abracadabra')\n",
        "\n",
        "a.add('c') # we add 'c' again into the set\n",
        "print(a)\n"
      ],
      "execution_count": null,
      "outputs": [
        {
          "output_type": "stream",
          "text": [
            "{'c', 'b', 'a', 'd', 'r'}\n"
          ],
          "name": "stdout"
        }
      ]
    },
    {
      "cell_type": "code",
      "metadata": {
        "colab": {
          "base_uri": "https://localhost:8080/"
        },
        "id": "sIZpq81bHpjP",
        "outputId": "83270055-30f3-444e-d270-25a9053fa487"
      },
      "source": [
        "date = '05/05/2021'\n",
        "print(set(date))"
      ],
      "execution_count": null,
      "outputs": [
        {
          "output_type": "stream",
          "text": [
            "{'0', '/', '5', '1', '2'}\n"
          ],
          "name": "stdout"
        }
      ]
    },
    {
      "cell_type": "code",
      "metadata": {
        "colab": {
          "base_uri": "https://localhost:8080/"
        },
        "id": "Te-rQQPQIBFZ",
        "outputId": "6212a628-1b90-4178-ed73-2af11a1e1e75"
      },
      "source": [
        "boş = {date} # {} kümeye çevirdiğimiz zaman tek str içeren elemanı olan bir küme verdi.\n",
        "print(boş)"
      ],
      "execution_count": null,
      "outputs": [
        {
          "output_type": "stream",
          "text": [
            "{'05/05/2021'}\n"
          ],
          "name": "stdout"
        }
      ]
    },
    {
      "cell_type": "code",
      "metadata": {
        "colab": {
          "base_uri": "https://localhost:8080/"
        },
        "id": "GRYhGpchIdly",
        "outputId": "ae6ccf24-b6a1-4478-d5af-bdea51875e84"
      },
      "source": [
        "given_list = [1,2,3,3,3,3,4,4,5,5,] #unique ler set() fonksiyonuyla bulunabilir.\n",
        "set(given_list)"
      ],
      "execution_count": null,
      "outputs": [
        {
          "output_type": "execute_result",
          "data": {
            "text/plain": [
              "{1, 2, 3, 4, 5}"
            ]
          },
          "metadata": {
            "tags": []
          },
          "execution_count": 10
        }
      ]
    },
    {
      "cell_type": "code",
      "metadata": {
        "colab": {
          "base_uri": "https://localhost:8080/"
        },
        "id": "XJfblTk0JFBG",
        "outputId": "08dbc038-2484-4434-f8e3-a095cbf209f8"
      },
      "source": [
        "new_z = set(\"Wellington\")\n",
        "u_s_a = set(\"Washington\")\n",
        "print(new_z.intersection(u_s_a))\n",
        "print(new_z.union(u_s_a))\n",
        "print(u_s_a.difference(new_z))\n",
        "print(new_z.difference(u_s_a))"
      ],
      "execution_count": null,
      "outputs": [
        {
          "output_type": "stream",
          "text": [
            "{'g', 'o', 'i', 'W', 'n', 't'}\n",
            "{'e', 'h', 'g', 'o', 'i', 'W', 'a', 'n', 'l', 's', 't'}\n",
            "{'h', 's', 'a'}\n",
            "{'e', 'l'}\n"
          ],
          "name": "stdout"
        }
      ]
    },
    {
      "cell_type": "markdown",
      "metadata": {
        "id": "w_7V46MMLOhL"
      },
      "source": [
        "Control Flow Statements"
      ]
    },
    {
      "cell_type": "code",
      "metadata": {
        "id": "hSPlDF3hLmsu"
      },
      "source": [
        "# bir program akışını kontrol etmemize yarayan syntax lardır.\n",
        "# kodlarımızın çalışmasını belli koşullara bağlar\n",
        "# aldığımız koşul döngülere yarayabilir, programımızı istediğimiz kadar çalıştırır.\n",
        "# Bunlar conditionals ve loops lardır."
      ],
      "execution_count": null,
      "outputs": []
    },
    {
      "cell_type": "markdown",
      "metadata": {
        "id": "OvwZbo5WLQ-l"
      },
      "source": [
        "Conditional Statements"
      ]
    },
    {
      "cell_type": "markdown",
      "metadata": {
        "id": "dSTNoNX5Mr59"
      },
      "source": [
        "if codition"
      ]
    },
    {
      "cell_type": "code",
      "metadata": {
        "id": "lfnLLCsgLVGu"
      },
      "source": [
        "#                     if condition :------------->>>>> Bu koşul True veya False verecek.\n",
        "# indentation<<<<<<-------body"
      ],
      "execution_count": null,
      "outputs": []
    },
    {
      "cell_type": "code",
      "metadata": {
        "id": "2XQvEHJ_N0Q3"
      },
      "source": [
        "if condition:\n",
        "    body\n",
        "    body2\n",
        "body3 # python girintiyi özel bir karakter olarak algılar."
      ],
      "execution_count": null,
      "outputs": []
    },
    {
      "cell_type": "code",
      "metadata": {
        "colab": {
          "base_uri": "https://localhost:8080/"
        },
        "id": "b7ZEnmo1N_VG",
        "outputId": "032a7afa-fc72-45f0-e2f8-4368825b362c"
      },
      "source": [
        "if True:\n",
        "    print(\"it is true\")"
      ],
      "execution_count": null,
      "outputs": [
        {
          "output_type": "stream",
          "text": [
            "it is true\n"
          ],
          "name": "stdout"
        }
      ]
    },
    {
      "cell_type": "code",
      "metadata": {
        "colab": {
          "base_uri": "https://localhost:8080/"
        },
        "id": "a9EtdMqQOT3b",
        "outputId": "b3025dc4-4f42-445c-8846-475056efccd5"
      },
      "source": [
        "if 1:  # Çünkü bir truety dir. Bu nedenle çıktı verir.\n",
        "    print(\"ben\")"
      ],
      "execution_count": null,
      "outputs": [
        {
          "output_type": "stream",
          "text": [
            "ben\n"
          ],
          "name": "stdout"
        }
      ]
    },
    {
      "cell_type": "code",
      "metadata": {
        "id": "gEuCTfgpOefE"
      },
      "source": [
        "if None: # Falsy değerlerde döndürmez\n",
        "    print(\"ben\")"
      ],
      "execution_count": null,
      "outputs": []
    },
    {
      "cell_type": "code",
      "metadata": {
        "colab": {
          "base_uri": "https://localhost:8080/"
        },
        "id": "N-YsLaInQAKA",
        "outputId": "3f827db1-c187-4273-faee-12e5c92f13b5"
      },
      "source": [
        "\"ahmet\" == \"ahmet\""
      ],
      "execution_count": null,
      "outputs": [
        {
          "output_type": "execute_result",
          "data": {
            "text/plain": [
              "True"
            ]
          },
          "metadata": {
            "tags": []
          },
          "execution_count": 24
        }
      ]
    },
    {
      "cell_type": "code",
      "metadata": {
        "colab": {
          "base_uri": "https://localhost:8080/"
        },
        "id": "YNO-XBjxQB9c",
        "outputId": "34956db6-6038-4c28-8c29-c5cec1b7a292"
      },
      "source": [
        "\"mehmet\" <= \"mehmet\""
      ],
      "execution_count": null,
      "outputs": [
        {
          "output_type": "execute_result",
          "data": {
            "text/plain": [
              "True"
            ]
          },
          "metadata": {
            "tags": []
          },
          "execution_count": 25
        }
      ]
    },
    {
      "cell_type": "code",
      "metadata": {
        "id": "KUgF7cJvS-pn"
      },
      "source": [
        "minced = True\n",
        "bread = True\n",
        "\n",
        "#greens\n",
        "lettuce = True\n",
        "pepper = False\n",
        "\n",
        "store = True"
      ],
      "execution_count": null,
      "outputs": []
    },
    {
      "cell_type": "code",
      "metadata": {
        "id": "6P8c8JhzTNis"
      },
      "source": [
        "hamburger = (minced and store and bread) and (lettuce or pepper)"
      ],
      "execution_count": null,
      "outputs": []
    },
    {
      "cell_type": "code",
      "metadata": {
        "colab": {
          "base_uri": "https://localhost:8080/"
        },
        "id": "pqAwN-rOTOlF",
        "outputId": "0bd8196d-a83d-48f1-e6b1-a421c2a0498c"
      },
      "source": [
        "hamburger"
      ],
      "execution_count": null,
      "outputs": [
        {
          "output_type": "execute_result",
          "data": {
            "text/plain": [
              "True"
            ]
          },
          "metadata": {
            "tags": []
          },
          "execution_count": 30
        }
      ]
    },
    {
      "cell_type": "code",
      "metadata": {
        "colab": {
          "base_uri": "https://localhost:8080/"
        },
        "id": "X4prjK78TZyT",
        "outputId": "be83e32a-43cf-4918-f1bb-ad50cefc2084"
      },
      "source": [
        "if hamburger :\n",
        "    print(\"Bon Apetite\")"
      ],
      "execution_count": null,
      "outputs": [
        {
          "output_type": "stream",
          "text": [
            "Bon Apetite\n"
          ],
          "name": "stdout"
        }
      ]
    },
    {
      "cell_type": "markdown",
      "metadata": {
        "id": "NXzVyrk4UPRn"
      },
      "source": [
        "COMPARİSON OPERATOR"
      ]
    },
    {
      "cell_type": "code",
      "metadata": {
        "id": "YH0pj0Q7US-H"
      },
      "source": [
        "# <, >, ==, !=, <=, >= Bu operatörler True ya da False döndürür. "
      ],
      "execution_count": null,
      "outputs": []
    },
    {
      "cell_type": "code",
      "metadata": {
        "colab": {
          "base_uri": "https://localhost:8080/"
        },
        "id": "Cs6ChlHLVww-",
        "outputId": "60dbbff3-9313-4c4d-98db-f30f0d9c8349"
      },
      "source": [
        "set1 = set(\"TWELVE PLUS ONE\")\n",
        "set2 = set(\"ELEVEN PLUS TWO\")\n",
        "print(set1)\n",
        "print(set2)\n",
        "print(set1 == set2)\n",
        "print(set1 < set2)\n",
        "print(set1 > set2)\n",
        "print(set1 != set2)\n",
        "print(set1 <= set2)\n",
        "print(set1 >= set2)"
      ],
      "execution_count": null,
      "outputs": [
        {
          "output_type": "stream",
          "text": [
            "{' ', 'T', 'S', 'W', 'L', 'U', 'P', 'O', 'N', 'V', 'E'}\n",
            "{' ', 'T', 'S', 'W', 'L', 'U', 'P', 'N', 'O', 'V', 'E'}\n",
            "True\n",
            "False\n",
            "False\n",
            "False\n",
            "True\n",
            "True\n"
          ],
          "name": "stdout"
        }
      ]
    },
    {
      "cell_type": "code",
      "metadata": {
        "colab": {
          "base_uri": "https://localhost:8080/"
        },
        "id": "kXRpYk2bY4lH",
        "outputId": "812fc9c6-7090-4f09-c08a-4d0f91b6cdd7"
      },
      "source": [
        "convert = input(\"Enter Yes or No : \").title().strip() == \"Yes\"\n",
        "print(\"You entered :\", convert)"
      ],
      "execution_count": null,
      "outputs": [
        {
          "output_type": "stream",
          "text": [
            "Enter Yes or No : yes\n",
            "You entered : True\n"
          ],
          "name": "stdout"
        }
      ]
    },
    {
      "cell_type": "code",
      "metadata": {
        "colab": {
          "base_uri": "https://localhost:8080/"
        },
        "id": "LBQju3BsZbGp",
        "outputId": "93f9e8ac-65ec-4e95-fae5-6c5f061240c0"
      },
      "source": [
        "print(\"You entered :\", input(\"Enter Yes or No : \").title().strip() == \"Yes\")"
      ],
      "execution_count": null,
      "outputs": [
        {
          "output_type": "stream",
          "text": [
            "Enter Yes or No : no\n",
            "You entered : False\n"
          ],
          "name": "stdout"
        }
      ]
    },
    {
      "cell_type": "markdown",
      "metadata": {
        "id": "0PXh95sxaZYm"
      },
      "source": [
        "if - else statements"
      ]
    },
    {
      "cell_type": "code",
      "metadata": {
        "id": "pVuqOZ6eaXid"
      },
      "source": [
        "if condition1:  \n",
        "    execute body1\n",
        "else : # if condition1 is not ensured execute body2\n",
        "    execute body2"
      ],
      "execution_count": null,
      "outputs": []
    },
    {
      "cell_type": "code",
      "metadata": {
        "colab": {
          "base_uri": "https://localhost:8080/"
        },
        "id": "-h9LlGJ0azRn",
        "outputId": "0eb57308-63b9-475c-9707-83b27d09f5e6"
      },
      "source": [
        "course = 'clarusway'\n",
        "\n",
        "if course == \"clarusway\":\n",
        "    print(\"you guaranteed the job\")\n",
        "else:\n",
        "    print(\"think about it again\")"
      ],
      "execution_count": null,
      "outputs": [
        {
          "output_type": "stream",
          "text": [
            "you guaranteed the job\n"
          ],
          "name": "stdout"
        }
      ]
    },
    {
      "cell_type": "code",
      "metadata": {
        "colab": {
          "base_uri": "https://localhost:8080/"
        },
        "id": "wfvLePPIa-bL",
        "outputId": "b5044b63-011d-40b7-a93d-55587ebeece3"
      },
      "source": [
        "number = int(input(\"Enter a number :\"))\n",
        "if number % 2 == 0 :\n",
        "    print(number, \"is even\")\n",
        "else :\n",
        "    print(number, \"is odd\")"
      ],
      "execution_count": null,
      "outputs": [
        {
          "output_type": "stream",
          "text": [
            "Enter a number :8\n",
            "8 is even\n"
          ],
          "name": "stdout"
        }
      ]
    },
    {
      "cell_type": "code",
      "metadata": {
        "colab": {
          "base_uri": "https://localhost:8080/"
        },
        "id": "1G7EHocCc3Ew",
        "outputId": "dafe8232-95ea-4161-dd09-016b044a2705"
      },
      "source": [
        "number = int(input(\"enter a number : \"))\n",
        "if number % 2 == 0 :\n",
        "    print(\"{} is Even\".format(number))\n",
        "else :\n",
        "    print(\"{} is Odd\".format(number))"
      ],
      "execution_count": null,
      "outputs": [
        {
          "output_type": "stream",
          "text": [
            "enter a number : 78\n",
            "78 is Even\n"
          ],
          "name": "stdout"
        }
      ]
    },
    {
      "cell_type": "code",
      "metadata": {
        "colab": {
          "base_uri": "https://localhost:8080/"
        },
        "id": "gqiVWMwjdHRW",
        "outputId": "5b80c425-5f4b-4fe0-ef4e-fb21ec60af6a"
      },
      "source": [
        "number = float(input(\"enter a number : \"))\n",
        "if number > 0 :\n",
        "    print(\"Positive number\")\n",
        "else :\n",
        "    print(\"Negative number\")"
      ],
      "execution_count": null,
      "outputs": [
        {
          "output_type": "stream",
          "text": [
            "enter a number : -18\n",
            "Negative number\n"
          ],
          "name": "stdout"
        }
      ]
    },
    {
      "cell_type": "code",
      "metadata": {
        "colab": {
          "base_uri": "https://localhost:8080/"
        },
        "id": "rbnFnsPteaw6",
        "outputId": "44313a1d-6d77-4e54-ffa8-ff2d2d1ca023"
      },
      "source": [
        "number1 =  float(input(\"enter a number : \"))\n",
        "number2 =  float(input(\"enter another number : \"))\n",
        "if number1 > number2 :\n",
        "    print(\"The large number is\", number1)\n",
        "else:\n",
        "    print(\"The large number is\", number2)"
      ],
      "execution_count": null,
      "outputs": [
        {
          "output_type": "stream",
          "text": [
            "enter a number : 500\n",
            "enter another number : 474\n",
            "The large number is 500.0\n"
          ],
          "name": "stdout"
        }
      ]
    },
    {
      "cell_type": "code",
      "metadata": {
        "id": "7KqyUgpVhB8E"
      },
      "source": [
        "num1 = float(input(\"Enter first number :\"))\n",
        "num2 = float(input(\"Enter second number :\"))\n",
        "\n",
        "if num1 > num2 :\n",
        "    larger = num1\n",
        "else :\n",
        "    larger = num2\n",
        "    \n",
        "print(\"The larger number is :\", larger)"
      ],
      "execution_count": null,
      "outputs": []
    },
    {
      "cell_type": "code",
      "metadata": {
        "colab": {
          "base_uri": "https://localhost:8080/"
        },
        "id": "xSRky5T9hOIE",
        "outputId": "23f8dc09-6e21-4c2f-fc96-ddd47962a7ae"
      },
      "source": [
        "bool_value = True\n",
        "if bool_value :\n",
        "    print(\"Yes\")\n",
        "else:\n",
        "    print(\"No\")"
      ],
      "execution_count": null,
      "outputs": [
        {
          "output_type": "stream",
          "text": [
            "Yes\n"
          ],
          "name": "stdout"
        }
      ]
    },
    {
      "cell_type": "markdown",
      "metadata": {
        "id": "aoZDHyKG7pt6"
      },
      "source": [
        "if - elif -else statement"
      ]
    },
    {
      "cell_type": "code",
      "metadata": {
        "id": "T8I81HZl7nli"
      },
      "source": [
        "# if for the ﬁrst one,\n",
        "# elif for the rest, up until the ﬁnal (optional),\n",
        "# else for anything not caught by the other conditionals."
      ],
      "execution_count": null,
      "outputs": []
    },
    {
      "cell_type": "code",
      "metadata": {
        "id": "yyrot4Sp8GrM"
      },
      "source": [
        "if condition1:\n",
        "    execute body1\n",
        "\n",
        "elif condition2:  #istediğimiz kadar elif koyabiliriz.\n",
        "    execute body2\n",
        "\n",
        "else:\n",
        "    execute body3"
      ],
      "execution_count": null,
      "outputs": []
    },
    {
      "cell_type": "code",
      "metadata": {
        "colab": {
          "base_uri": "https://localhost:8080/"
        },
        "id": "VLzQ8DD98MKv",
        "outputId": "67690ee2-c3e9-42f4-80c3-c2bf078898a0"
      },
      "source": [
        "audience = \"baby\"\n",
        "\n",
        "if audience == \"kid\":\n",
        "    print(\"it is free to go to cinema\")\n",
        "elif audience == \"teen\":\n",
        "    print(\"discounted price!\")\n",
        "elif audience == \"adult\":\n",
        "    print(\"normal price\")\n",
        "else:\n",
        "    print(\"No such audience, stay at your home!\")\n"
      ],
      "execution_count": null,
      "outputs": [
        {
          "output_type": "stream",
          "text": [
            "No such audience, stay at your home!\n"
          ],
          "name": "stdout"
        }
      ]
    },
    {
      "cell_type": "markdown",
      "metadata": {
        "id": "Q63gHiDh81t6"
      },
      "source": [
        "Nested if-elif-else"
      ]
    },
    {
      "cell_type": "code",
      "metadata": {
        "colab": {
          "base_uri": "https://localhost:8080/"
        },
        "id": "TN9PSpnG89KV",
        "outputId": "bb2ca7ca-06f9-43f1-de63-2092b85cbe00"
      },
      "source": [
        "number =  []\n",
        "number.append(int(input(\"Enter a number : \")))\n",
        "number.append(int(input(\"Enter a number : \")))\n",
        "number.append(int(input(\"Enter a number : \")))\n",
        "number.sort(reverse = True)\n",
        "print(\"The largest number is: \", number[0])"
      ],
      "execution_count": null,
      "outputs": [
        {
          "output_type": "stream",
          "text": [
            "Enter a number : 12\n",
            "Enter a number : 14\n",
            "Enter a number : 16\n",
            "The largest number is:  16\n"
          ],
          "name": "stdout"
        }
      ]
    },
    {
      "cell_type": "code",
      "metadata": {
        "colab": {
          "base_uri": "https://localhost:8080/"
        },
        "id": "SVzCkyibAaWI",
        "outputId": "dd71a860-09ab-4719-e9a6-40bae33c1205"
      },
      "source": [
        "num1 = float(input(\"Enter the first number : \"))\n",
        "num2 = float(input(\"Enter the second number : \"))\n",
        "num3 = float(input(\"Enter the third number : \"))\n",
        "if (num1 > num2) and (num1 > num3) :\n",
        "    largest = num1\n",
        "elif (num2 > num1) and (num2 > num3) :\n",
        "    largest = num2\n",
        "else:\n",
        "   1\n",
        "print(\"the largest number is :\", largest)"
      ],
      "execution_count": null,
      "outputs": [
        {
          "output_type": "stream",
          "text": [
            "Enter the first number : 15\n",
            "Enter the second number : 14\n",
            "Enter the third number : 7\n",
            "the largest number is : 15.0\n"
          ],
          "name": "stdout"
        }
      ]
    },
    {
      "cell_type": "code",
      "metadata": {
        "colab": {
          "base_uri": "https://localhost:8080/"
        },
        "id": "B-0BckYjC7Pi",
        "outputId": "ad3be84b-0409-4697-ffc3-1c1f58a1fe7c"
      },
      "source": [
        "number = float(input(\"enter a number : \"))\n",
        "if number > 0 :\n",
        "    print(\"Positive number\")\n",
        "elif number == 0 :\n",
        "        print(\"Zero\")\n",
        "else :\n",
        "    print(\"Negative number\")"
      ],
      "execution_count": null,
      "outputs": [
        {
          "output_type": "stream",
          "text": [
            "enter a number : -90\n",
            "Negative number\n"
          ],
          "name": "stdout"
        }
      ]
    },
    {
      "cell_type": "code",
      "metadata": {
        "colab": {
          "base_uri": "https://localhost:8080/"
        },
        "id": "eCdK12esEEPg",
        "outputId": "67703649-4538-4e32-868d-37349c3b59ae"
      },
      "source": [
        "audience_group = 'kid', 'teen', 'adult'\n",
        "\n",
        "audience = \"teen\"\n",
        "\n",
        "if audience in audience_group:\n",
        "    if audience == \"kid\":\n",
        "        print(\"it is free to go to cinema\")\n",
        "    elif audience == \"teen\":\n",
        "        print(\"discounted price!\")\n",
        "    else: # audience == \"adult\":\n",
        "        print(\"normal price\")\n",
        "else:\n",
        "    print(\"No such audience, stay at your home!\")"
      ],
      "execution_count": null,
      "outputs": [
        {
          "output_type": "stream",
          "text": [
            "discounted price!\n"
          ],
          "name": "stdout"
        }
      ]
    },
    {
      "cell_type": "code",
      "metadata": {
        "colab": {
          "base_uri": "https://localhost:8080/"
        },
        "id": "dNQuzIldFO4g",
        "outputId": "cdb044f2-f7ba-4ea4-baf9-b6026a8a3ccc"
      },
      "source": [
        "score = float(input(\"Enter your score: \")) # Bu çözüm doğru ama nested değil. \n",
        "if score >= 95 :\n",
        "    print(\"Your degree is A+\")\n",
        "elif score < 95 and score >= 90 :\n",
        "        print(\"Your degree is A\")\n",
        "elif  score < 90 and score >= 85 :\n",
        "        print(\"Your degree is B+\") \n",
        "elif score < 85 and score >= 80 :\n",
        "        print(\"Your degree is B\")\n",
        "else : \n",
        "    score > 80\n",
        "    print(\"Your degree is B-\")"
      ],
      "execution_count": null,
      "outputs": [
        {
          "output_type": "stream",
          "text": [
            "Enter your score: 89\n",
            "Your degree is B+\n"
          ],
          "name": "stdout"
        }
      ]
    },
    {
      "cell_type": "code",
      "metadata": {
        "colab": {
          "base_uri": "https://localhost:8080/"
        },
        "id": "uppK8bOAJliO",
        "outputId": "14c6341f-14f6-45b0-9256-193a04178b94"
      },
      "source": [
        "score = floatint(input(\"Enter your score : \")) # Bu cevap nested\n",
        "\n",
        "if score >= 90 :\n",
        "    if score >= 95 :\n",
        "        degree = \"A+\"\n",
        "    else :\n",
        "        degree = \"A\"\n",
        "elif score >= 80 :\n",
        "    if score >= 85 :\n",
        "        degree = \"B+\"\n",
        "    else :\n",
        "        degree = \"B\"\n",
        "else:\n",
        "    degree = \"B-\"\n",
        "    \n",
        "print(\"Your degree is : \", degree)"
      ],
      "execution_count": null,
      "outputs": [
        {
          "output_type": "stream",
          "text": [
            "Enter your score : 86\n",
            "Your degree is :  B+\n"
          ],
          "name": "stdout"
        }
      ]
    },
    {
      "cell_type": "markdown",
      "metadata": {
        "id": "bZAn1rojLPCG"
      },
      "source": [
        "LOOPS"
      ]
    },
    {
      "cell_type": "code",
      "metadata": {
        "id": "3gjG60V3LRM9"
      },
      "source": [
        "# Döngüler, bir kod bloğunun yürütülmesini tekrarlamak (yinelemek) için kullanılır.\n",
        "# WHİLE döngüleri koşul True olduğu müddetçe body'sini döndürür.\n",
        "#  for loop'lar kaç kez iterate edileceğini sayar "
      ],
      "execution_count": null,
      "outputs": []
    },
    {
      "cell_type": "code",
      "metadata": {
        "id": "yB-vzdBDNPhp"
      },
      "source": [
        "while condition: #her döngüde buradaki conditionu kontrol eder.\n",
        "   body"
      ],
      "execution_count": null,
      "outputs": []
    },
    {
      "cell_type": "code",
      "metadata": {
        "id": "EOH08lhSNhHj"
      },
      "source": [
        "while 1 : # koşul Truety olduğu için sonsuza kadar \"bir\" yazdırır.\n",
        "    print(\"bir\")\n"
      ],
      "execution_count": null,
      "outputs": []
    },
    {
      "cell_type": "code",
      "metadata": {
        "colab": {
          "base_uri": "https://localhost:8080/"
        },
        "id": "-hiKwiWrN6OP",
        "outputId": "36cf1002-786a-49d1-9981-fb3f9bc3a76a"
      },
      "source": [
        "while 0 : # koşul Falsy olduğu için döngüden çıkar ve 2 yazdırır.\n",
        "    print(\"bir\")\n",
        "print(2)"
      ],
      "execution_count": null,
      "outputs": [
        {
          "output_type": "stream",
          "text": [
            "2\n"
          ],
          "name": "stdout"
        }
      ]
    },
    {
      "cell_type": "code",
      "metadata": {
        "colab": {
          "base_uri": "https://localhost:8080/"
        },
        "id": "wbG6DawqOnEV",
        "outputId": "09a6c04d-8ff8-4e64-ef33-32bf15879c2a"
      },
      "source": [
        "number = 0\n",
        "\n",
        "while number < 6:\n",
        "    print(number)\n",
        "    number += 1\n",
        "print('now, number is bigger or equal to 6')\n"
      ],
      "execution_count": null,
      "outputs": [
        {
          "output_type": "stream",
          "text": [
            "0\n",
            "1\n",
            "2\n",
            "3\n",
            "4\n",
            "5\n",
            "now, number is bigger or equal to 6\n"
          ],
          "name": "stdout"
        }
      ]
    },
    {
      "cell_type": "code",
      "metadata": {
        "colab": {
          "base_uri": "https://localhost:8080/"
        },
        "id": "sNZLarwLO9W-",
        "outputId": "99817a41-8698-4f44-946e-0845cd0c5339"
      },
      "source": [
        "my_list=[\"a\", \"b\", \"c\", \"d\", \"e\"]\n",
        "\n",
        "a = 0\n",
        "\n",
        "while a < len(my_list):\n",
        "    print('square of {} is : {}'.format(a, a**2))\n",
        "    a+=1"
      ],
      "execution_count": null,
      "outputs": [
        {
          "output_type": "stream",
          "text": [
            "square of 0 is : 0\n",
            "square of 1 is : 1\n",
            "square of 2 is : 4\n",
            "square of 3 is : 9\n",
            "square of 4 is : 16\n"
          ],
          "name": "stdout"
        }
      ]
    },
    {
      "cell_type": "code",
      "metadata": {
        "colab": {
          "base_uri": "https://localhost:8080/"
        },
        "id": "ypX3FQ1qPeEI",
        "outputId": "347944fd-5699-49c2-b26c-57b274f8b02b"
      },
      "source": [
        "age = input(\"Enter your age : \")\n",
        "\n",
        "while not age.isdigit() :\n",
        "    print(\"You entered incorrectly!\")\n",
        "    age = input(\"Enter your age correctly please : \")\n",
        "    \n",
        "print(\"Great! You entered valid age :\", age)"
      ],
      "execution_count": null,
      "outputs": [
        {
          "output_type": "stream",
          "text": [
            "Enter your age : pl\n",
            "You entered incorrectly!\n",
            "Enter your age correctly please : 45\n",
            "Great! You entered valid age : 45\n"
          ],
          "name": "stdout"
        }
      ]
    },
    {
      "cell_type": "code",
      "metadata": {
        "colab": {
          "base_uri": "https://localhost:8080/"
        },
        "id": "A9IySHxtSCvS",
        "outputId": "29d5672f-1d1e-41fa-852f-17efc8531cef"
      },
      "source": [
        "#  .isdigit() metodu stringin bir metodudur.\n",
        "\"onaltı\".isdigit() # numeric olmayan karakterleri False döndürür."
      ],
      "execution_count": null,
      "outputs": [
        {
          "output_type": "execute_result",
          "data": {
            "text/plain": [
              "False"
            ]
          },
          "metadata": {
            "tags": []
          },
          "execution_count": 104
        }
      ]
    },
    {
      "cell_type": "code",
      "metadata": {
        "colab": {
          "base_uri": "https://localhost:8080/"
        },
        "id": "RNW7WDYXTnoP",
        "outputId": "c5e61d01-1a4f-4d9a-eb04-63b73b8dd871"
      },
      "source": [
        "\"16\".isdigit() #numeric olan string değerleri True döndürür."
      ],
      "execution_count": null,
      "outputs": [
        {
          "output_type": "execute_result",
          "data": {
            "text/plain": [
              "True"
            ]
          },
          "metadata": {
            "tags": []
          },
          "execution_count": 106
        }
      ]
    },
    {
      "cell_type": "code",
      "metadata": {
        "colab": {
          "base_uri": "https://localhost:8080/"
        },
        "id": "6NJgIW7-U_P5",
        "outputId": "63d3dc1e-63a1-4457-b666-b94c00c94c3d"
      },
      "source": [
        "my_num = 45\n",
        "numbers = int(input(\"Enter a number :\"))\n",
        "while numbers != my_num :\n",
        "    if numbers > my_num :   \n",
        "        print(\"Little lower!\")\n",
        "        numbers = int(input(\"Enter a number again :\"))\n",
        "    elif numbers < my_num :\n",
        "        print(\"Little higher!\")\n",
        "        numbers = int(input(\"Enter a number again :\"))\n",
        "else :\n",
        "    numbers = my_num\n",
        "    print(\"You are right\")"
      ],
      "execution_count": null,
      "outputs": [
        {
          "output_type": "stream",
          "text": [
            "Enter a number :30\n",
            "Little higher!\n",
            "Enter a number again :38\n",
            "Little higher!\n",
            "Enter a number again :44\n",
            "Little higher!\n",
            "Enter a number again :48\n",
            "Little lower!\n",
            "Enter a number again :46\n",
            "Little lower!\n",
            "Enter a number again :45\n",
            "You are right\n"
          ],
          "name": "stdout"
        }
      ]
    },
    {
      "cell_type": "markdown",
      "metadata": {
        "id": "AQl17rD2fPqi"
      },
      "source": [
        "Question: The Most Frequent Numbers:"
      ]
    },
    {
      "cell_type": "code",
      "metadata": {
        "id": "eRCNJaM1dhga"
      },
      "source": [
        "numbers = [-1, 3, 7, 4, 3, 0, 3, 16, 3, 7, 0, 0, 1]\n"
      ],
      "execution_count": null,
      "outputs": []
    },
    {
      "cell_type": "code",
      "metadata": {
        "id": "HCjWNNXQjRW0",
        "colab": {
          "base_uri": "https://localhost:8080/"
        },
        "outputId": "c7d5482e-314b-45f9-8de7-598408a59c09"
      },
      "source": [
        "max(1,2,3)"
      ],
      "execution_count": null,
      "outputs": [
        {
          "output_type": "execute_result",
          "data": {
            "text/plain": [
              "3"
            ]
          },
          "metadata": {
            "tags": []
          },
          "execution_count": 1
        }
      ]
    },
    {
      "cell_type": "code",
      "metadata": {
        "colab": {
          "base_uri": "https://localhost:8080/"
        },
        "id": "8rCo_rArllz0",
        "outputId": "33dc3140-b290-424c-a4a6-ce2297809616"
      },
      "source": [
        "sequence = [1,1,1,1,2,2,2,3,3,4]\n",
        "max(sequence)"
      ],
      "execution_count": null,
      "outputs": [
        {
          "output_type": "execute_result",
          "data": {
            "text/plain": [
              "4"
            ]
          },
          "metadata": {
            "tags": []
          },
          "execution_count": 2
        }
      ]
    },
    {
      "cell_type": "code",
      "metadata": {
        "colab": {
          "base_uri": "https://localhost:8080/"
        },
        "id": "vBGQpBqOlz2p",
        "outputId": "c3473cc8-169d-4cdc-c459-5b38a69f87de"
      },
      "source": [
        "sequence.count(4)"
      ],
      "execution_count": null,
      "outputs": [
        {
          "output_type": "execute_result",
          "data": {
            "text/plain": [
              "1"
            ]
          },
          "metadata": {
            "tags": []
          },
          "execution_count": 3
        }
      ]
    },
    {
      "cell_type": "code",
      "metadata": {
        "colab": {
          "base_uri": "https://localhost:8080/"
        },
        "id": "amfWgJSQl9w9",
        "outputId": "d04e68d2-7f06-422c-f02e-4d6adbe62757"
      },
      "source": [
        "sequence.count(3)"
      ],
      "execution_count": null,
      "outputs": [
        {
          "output_type": "execute_result",
          "data": {
            "text/plain": [
              "2"
            ]
          },
          "metadata": {
            "tags": []
          },
          "execution_count": 5
        }
      ]
    },
    {
      "cell_type": "code",
      "metadata": {
        "id": "MkCb7UWImFEJ"
      },
      "source": [
        "numbers = [-1, 3, 7, 4, 3, 0, 3, 16, 3, 7, 0, 0, 1]"
      ],
      "execution_count": null,
      "outputs": []
    },
    {
      "cell_type": "code",
      "metadata": {
        "colab": {
          "base_uri": "https://localhost:8080/"
        },
        "id": "X5XcCmybmRu0",
        "outputId": "c6bcd158-b761-4ce6-a8ca-5727205ec667"
      },
      "source": [
        "max(numbers)"
      ],
      "execution_count": null,
      "outputs": [
        {
          "output_type": "execute_result",
          "data": {
            "text/plain": [
              "16"
            ]
          },
          "metadata": {
            "tags": []
          },
          "execution_count": 2
        }
      ]
    },
    {
      "cell_type": "code",
      "metadata": {
        "colab": {
          "base_uri": "https://localhost:8080/"
        },
        "id": "vE7CwxPGmrpP",
        "outputId": "2c710588-449c-46f4-a572-2dad7f6c12f4"
      },
      "source": [
        "numbers.count(3)"
      ],
      "execution_count": null,
      "outputs": [
        {
          "output_type": "execute_result",
          "data": {
            "text/plain": [
              "4"
            ]
          },
          "metadata": {
            "tags": []
          },
          "execution_count": 4
        }
      ]
    },
    {
      "cell_type": "code",
      "metadata": {
        "id": "ykBdW6Mwmy51"
      },
      "source": [
        "item = max(numbers, key = numbers.count)\n"
      ],
      "execution_count": null,
      "outputs": []
    },
    {
      "cell_type": "code",
      "metadata": {
        "colab": {
          "base_uri": "https://localhost:8080/"
        },
        "id": "iAm1Cb6ty7a_",
        "outputId": "8413ec50-5742-49cc-8c2f-0008ecffeced"
      },
      "source": [
        "item"
      ],
      "execution_count": null,
      "outputs": [
        {
          "output_type": "execute_result",
          "data": {
            "text/plain": [
              "3"
            ]
          },
          "metadata": {
            "tags": []
          },
          "execution_count": 6
        }
      ]
    },
    {
      "cell_type": "code",
      "metadata": {
        "colab": {
          "base_uri": "https://localhost:8080/"
        },
        "id": "FsC2rz1SzXaI",
        "outputId": "a3b663e8-5a94-4380-db5a-2c51713c1634"
      },
      "source": [
        "numbers.count(max(numbers, key = numbers.count))"
      ],
      "execution_count": null,
      "outputs": [
        {
          "output_type": "execute_result",
          "data": {
            "text/plain": [
              "4"
            ]
          },
          "metadata": {
            "tags": []
          },
          "execution_count": 7
        }
      ]
    },
    {
      "cell_type": "code",
      "metadata": {
        "colab": {
          "base_uri": "https://localhost:8080/"
        },
        "id": "1aloPOOnzpqB",
        "outputId": "6e3d25c5-33ef-4240-8e80-12c9dcccf92f"
      },
      "source": [
        "numbers.count(item)"
      ],
      "execution_count": null,
      "outputs": [
        {
          "output_type": "execute_result",
          "data": {
            "text/plain": [
              "4"
            ]
          },
          "metadata": {
            "tags": []
          },
          "execution_count": 8
        }
      ]
    },
    {
      "cell_type": "markdown",
      "metadata": {
        "id": "SefDY3_VzxcR"
      },
      "source": [
        "Comfortable words"
      ]
    },
    {
      "cell_type": "code",
      "metadata": {
        "id": "I4BfNMFIzyXs"
      },
      "source": [
        "left = set(\"qwertasdfgzxcvb\")\n",
        "right = set(\"yuiophjklmn\")"
      ],
      "execution_count": null,
      "outputs": []
    },
    {
      "cell_type": "code",
      "metadata": {
        "colab": {
          "base_uri": "https://localhost:8080/"
        },
        "id": "fb54yVCNz6wM",
        "outputId": "4be05c9c-5580-4410-bfb9-cd3043808a68"
      },
      "source": [
        "left"
      ],
      "execution_count": null,
      "outputs": [
        {
          "output_type": "execute_result",
          "data": {
            "text/plain": [
              "{'a', 'b', 'c', 'd', 'e', 'f', 'g', 'q', 'r', 's', 't', 'v', 'w', 'x', 'z'}"
            ]
          },
          "metadata": {
            "tags": []
          },
          "execution_count": 11
        }
      ]
    },
    {
      "cell_type": "code",
      "metadata": {
        "colab": {
          "base_uri": "https://localhost:8080/"
        },
        "id": "4jQF6nrL0uum",
        "outputId": "b488db60-3764-46b8-960a-828613b7fd82"
      },
      "source": [
        "right"
      ],
      "execution_count": null,
      "outputs": [
        {
          "output_type": "execute_result",
          "data": {
            "text/plain": [
              "{'h', 'i', 'j', 'k', 'l', 'm', 'n', 'o', 'p', 'u', 'y'}"
            ]
          },
          "metadata": {
            "tags": []
          },
          "execution_count": 12
        }
      ]
    },
    {
      "cell_type": "code",
      "metadata": {
        "id": "xZLuPTbY1LmY"
      },
      "source": [
        "word = set(\"clarusway\")"
      ],
      "execution_count": null,
      "outputs": []
    },
    {
      "cell_type": "code",
      "metadata": {
        "id": "mZyeuE6h1RFD"
      },
      "source": [
        "leftcheck = word.intersection(left)\n",
        "rightcheck = word.intersection(right)"
      ],
      "execution_count": null,
      "outputs": []
    },
    {
      "cell_type": "code",
      "metadata": {
        "colab": {
          "base_uri": "https://localhost:8080/"
        },
        "id": "KMF4amt923TK",
        "outputId": "ee1297fa-b17e-491c-ff53-4a93da425a89"
      },
      "source": [
        "print(bool(leftcheck and rightcheck))"
      ],
      "execution_count": null,
      "outputs": [
        {
          "output_type": "stream",
          "text": [
            "True\n"
          ],
          "name": "stdout"
        }
      ]
    },
    {
      "cell_type": "code",
      "metadata": {
        "colab": {
          "base_uri": "https://localhost:8080/"
        },
        "id": "CdMlzOYm1s1k",
        "outputId": "82405f14-aa44-4b7c-bdd7-d9be8bdbcc41"
      },
      "source": [
        "leftcheck"
      ],
      "execution_count": null,
      "outputs": [
        {
          "output_type": "execute_result",
          "data": {
            "text/plain": [
              "{'a', 'c', 'r', 's', 'w'}"
            ]
          },
          "metadata": {
            "tags": []
          },
          "execution_count": 17
        }
      ]
    },
    {
      "cell_type": "code",
      "metadata": {
        "colab": {
          "base_uri": "https://localhost:8080/"
        },
        "id": "jciaBi-P1xIp",
        "outputId": "3abd1a74-5aab-40bc-fdfc-6e0fb88ba4af"
      },
      "source": [
        "rightcheck"
      ],
      "execution_count": null,
      "outputs": [
        {
          "output_type": "execute_result",
          "data": {
            "text/plain": [
              "{'l', 'u', 'y'}"
            ]
          },
          "metadata": {
            "tags": []
          },
          "execution_count": 18
        }
      ]
    },
    {
      "cell_type": "code",
      "metadata": {
        "id": "9hfKG9Gp1zQo",
        "colab": {
          "base_uri": "https://localhost:8080/"
        },
        "outputId": "55cc0660-79f3-4ac0-b20c-0ee40244f94f"
      },
      "source": [
        "sentence = input(\"give me a sentence :\")\n",
        "\n",
        "words = sentence.split()\n",
        "i = 0\n",
        "longest = 0\n",
        "while i < len(words) :\n",
        "    if len(words[i]) > longest :\n",
        "        longest = len(words[i])\n",
        "    i += 1\n",
        "\n",
        "print(\"the lengt of the longest word is :\", longest)"
      ],
      "execution_count": null,
      "outputs": [
        {
          "output_type": "stream",
          "text": [
            "give me a sentence :ben bir  garip öğretmenim yoktur hiç yardım eden öğrencim.\n",
            "the lengt of the longest word is : 10\n"
          ],
          "name": "stdout"
        }
      ]
    },
    {
      "cell_type": "code",
      "metadata": {
        "colab": {
          "base_uri": "https://localhost:8080/"
        },
        "id": "zBwfkTifZFRY",
        "outputId": "b97e9db7-125c-4b8e-d896-67cdf1c36003"
      },
      "source": [
        "\"ben bir cümle girmiş olayım\".split()"
      ],
      "execution_count": null,
      "outputs": [
        {
          "output_type": "execute_result",
          "data": {
            "text/plain": [
              "['ben', 'bir', 'cümle', 'girmiş', 'olayım']"
            ]
          },
          "metadata": {
            "tags": []
          },
          "execution_count": 2
        }
      ]
    },
    {
      "cell_type": "markdown",
      "metadata": {
        "id": "_lkRAvMNdv-M"
      },
      "source": [
        "for LOOP"
      ]
    },
    {
      "cell_type": "code",
      "metadata": {
        "id": "rFgB7h9Pd57v"
      },
      "source": [
        "# for loop yapısı aşaüıdaki gibidir.\n",
        "for variable in iterable :\n",
        "    code block"
      ],
      "execution_count": null,
      "outputs": []
    },
    {
      "cell_type": "code",
      "metadata": {
        "colab": {
          "base_uri": "https://localhost:8080/"
        },
        "id": "E_6Ppmr7emTV",
        "outputId": "9557c2bb-4025-4963-9715-85891e8a3920"
      },
      "source": [
        "for i in [1, 2, 3, 4, 5] :  # for loop iterable sırayla ve teker teker alır ve değişkenin içine atar.\n",
        "    print(i)"
      ],
      "execution_count": null,
      "outputs": [
        {
          "output_type": "stream",
          "text": [
            "1\n",
            "2\n",
            "3\n",
            "4\n",
            "5\n"
          ],
          "name": "stdout"
        }
      ]
    },
    {
      "cell_type": "code",
      "metadata": {
        "colab": {
          "base_uri": "https://localhost:8080/"
        },
        "id": "5HX1M_UKfMye",
        "outputId": "29ba4fa5-6176-4f9c-a9b7-624a25b59665"
      },
      "source": [
        "seasons = ['spring', 'summer', 'autumn', 'winter']\n",
        "\n",
        "for season in seasons :\n",
        "    print(season)"
      ],
      "execution_count": null,
      "outputs": [
        {
          "output_type": "stream",
          "text": [
            "spring\n",
            "summer\n",
            "autumn\n",
            "winter\n"
          ],
          "name": "stdout"
        }
      ]
    },
    {
      "cell_type": "code",
      "metadata": {
        "colab": {
          "base_uri": "https://localhost:8080/"
        },
        "id": "fhkRhU2FfcN3",
        "outputId": "543b5eed-9f0c-4eaa-bbb5-8c0e4c80f404"
      },
      "source": [
        "names = [\"Ahmed\", \"Aisha\", \"Adam\", \"Joseph\", \"Gabriel\"]\n",
        "for i in name:\n",
        "    print(\"Hello! \", i)"
      ],
      "execution_count": null,
      "outputs": [
        {
          "output_type": "stream",
          "text": [
            "Hello!  Ahmed\n",
            "Hello!  Aisha\n",
            "Hello!  Adam\n",
            "Hello!  Joseph\n",
            "Hello!  Gabriel\n"
          ],
          "name": "stdout"
        }
      ]
    },
    {
      "cell_type": "code",
      "metadata": {
        "colab": {
          "base_uri": "https://localhost:8080/"
        },
        "id": "Hiu3XpSSdnIX",
        "outputId": "5ab19265-447e-4c3c-fec4-9321406c3476"
      },
      "source": [
        "sayılar = []\n",
        "\n",
        "for i in range(1,6) :\n",
        "    sayılar.append(i)\n",
        "print(sayılar)"
      ],
      "execution_count": null,
      "outputs": [
        {
          "output_type": "stream",
          "text": [
            "[1, 2, 3, 4, 5]\n"
          ],
          "name": "stdout"
        }
      ]
    },
    {
      "cell_type": "code",
      "metadata": {
        "id": "6J6AlPyXh5cL"
      },
      "source": [
        "eleman = \"ahmet -, clarusway[]\""
      ],
      "execution_count": null,
      "outputs": []
    },
    {
      "cell_type": "code",
      "metadata": {
        "colab": {
          "base_uri": "https://localhost:8080/"
        },
        "id": "P1OPE2HZiyNY",
        "outputId": "2c6e7176-4e18-49db-8c04-33c8d23d0907"
      },
      "source": [
        "for i in eleman :\n",
        "    print(i, end = \"//\")"
      ],
      "execution_count": null,
      "outputs": [
        {
          "output_type": "stream",
          "text": [
            "a//h//m//e//t// //-//,// //c//l//a//r//u//s//w//a//y//[//]//"
          ],
          "name": "stdout"
        }
      ]
    },
    {
      "cell_type": "code",
      "metadata": {
        "colab": {
          "base_uri": "https://localhost:8080/"
        },
        "id": "UgspgDJei3GK",
        "outputId": "042ebfec-8d72-4dea-b597-9c125e897a15"
      },
      "source": [
        "word = input(\"Give me a word :\")\n",
        "\n",
        "count = 0\n",
        "for i in word :\n",
        "    count += 1\n",
        "    if count < len(word) :\n",
        "        i = i + \"-\"\n",
        "    print(i, end = \"\")"
      ],
      "execution_count": null,
      "outputs": [
        {
          "output_type": "stream",
          "text": [
            "Give me a word :clarusway\n",
            "c-l-a-r-u-s-w-a-y"
          ],
          "name": "stdout"
        }
      ]
    },
    {
      "cell_type": "code",
      "metadata": {
        "colab": {
          "base_uri": "https://localhost:8080/"
        },
        "id": "zspvnjSnnG4v",
        "outputId": "e5b84789-dbc2-4ad2-814c-128422efa26f"
      },
      "source": [
        "# Python iterate ettiğimiz divtionary de sadece key'leri alır.\n",
        "user = {\n",
        "    \"name\": \"Daniel\",\n",
        "    \"surname\" : \"Smith\",\n",
        "    \"age\" : 35\n",
        "}\n",
        "for attribute in user :\n",
        "    print(attribute)"
      ],
      "execution_count": null,
      "outputs": [
        {
          "output_type": "stream",
          "text": [
            "name\n",
            "surname\n",
            "age\n"
          ],
          "name": "stdout"
        }
      ]
    },
    {
      "cell_type": "markdown",
      "metadata": {
        "id": "KynENKdSpDzo"
      },
      "source": [
        "Samanlıkta iğne arayalım mı?"
      ]
    },
    {
      "cell_type": "code",
      "metadata": {
        "id": "M81QYlGNo_Lf",
        "colab": {
          "base_uri": "https://localhost:8080/"
        },
        "outputId": "10112481-f914-447d-9f8d-45ccbd6cbc20"
      },
      "source": [
        "samanlık = [\"yumurta\", \"yaba\", \"inek\", \"iğne\", \"saman\", \"tezek\", \"tırmık\" ]\n",
        "print(f\"iğne {samanlık.index('iğne')} numaralı indexte.\")"
      ],
      "execution_count": null,
      "outputs": [
        {
          "output_type": "stream",
          "text": [
            "iğne 3 numaralı indexte.\n"
          ],
          "name": "stdout"
        }
      ]
    },
    {
      "cell_type": "markdown",
      "metadata": {
        "id": "DCYfHuuZK_AW"
      },
      "source": [
        "#### Tuple kullanarak çoklu değer assign etmek\n"
      ]
    },
    {
      "cell_type": "code",
      "metadata": {
        "colab": {
          "base_uri": "https://localhost:8080/"
        },
        "id": "-78EilIeLRij",
        "outputId": "2ac2a7e2-e780-487a-cf6e-34227b1b47fb"
      },
      "source": [
        "v = (\"five\", 5, True)\n",
        "(x,y,z) = v\n",
        "print(x, y, z)"
      ],
      "execution_count": null,
      "outputs": [
        {
          "output_type": "stream",
          "text": [
            "five 5 True\n"
          ],
          "name": "stdout"
        }
      ]
    },
    {
      "cell_type": "code",
      "metadata": {
        "id": "0NGjduoRLvep"
      },
      "source": [
        "a, b, c = 1, 2, 3"
      ],
      "execution_count": null,
      "outputs": []
    },
    {
      "cell_type": "code",
      "metadata": {
        "id": "ORZXLIw4LzJM"
      },
      "source": [
        "(monday, tuesday, wednesday, thursday, friday, saturday, sunday) = tuple(range(1,8))"
      ],
      "execution_count": null,
      "outputs": []
    },
    {
      "cell_type": "code",
      "metadata": {
        "colab": {
          "base_uri": "https://localhost:8080/"
        },
        "id": "JmcqS4wuMAcc",
        "outputId": "6ad5edb7-eb79-4cf0-bf9f-953ac6544e73"
      },
      "source": [
        "sunday"
      ],
      "execution_count": null,
      "outputs": [
        {
          "output_type": "execute_result",
          "data": {
            "text/plain": [
              "7"
            ]
          },
          "metadata": {
            "tags": []
          },
          "execution_count": 6
        }
      ]
    },
    {
      "cell_type": "code",
      "metadata": {
        "id": "L0-DMvRbMB_L"
      },
      "source": [
        "#  BİZE KENDİNİ KAPATAN KETUM DAVRANAN FONKSİYONLARA:\n",
        "#  1. for döngüleriyle\n",
        "#  2. collections larla\n",
        "#  3. * ile görsel hale getirebiliriz."
      ],
      "execution_count": null,
      "outputs": []
    },
    {
      "cell_type": "code",
      "metadata": {
        "colab": {
          "base_uri": "https://localhost:8080/"
        },
        "id": "jRSj4dYJNGzE",
        "outputId": "9fabd217-b9b8-4029-a77e-9291a6f86a87"
      },
      "source": [
        "print([1,2,3,4] + [\"11\", \"22\", 33])"
      ],
      "execution_count": null,
      "outputs": [
        {
          "output_type": "stream",
          "text": [
            "[1, 2, 3, 4, '11', '22', 33]\n"
          ],
          "name": "stdout"
        }
      ]
    },
    {
      "cell_type": "code",
      "metadata": {
        "id": "FfE7PyqBNiD5"
      },
      "source": [
        "tt = (1,2, [1,3,5])"
      ],
      "execution_count": null,
      "outputs": []
    },
    {
      "cell_type": "code",
      "metadata": {
        "id": "xZ00-tQoNujI"
      },
      "source": [
        "tt[2].append(4)"
      ],
      "execution_count": null,
      "outputs": []
    },
    {
      "cell_type": "code",
      "metadata": {
        "colab": {
          "base_uri": "https://localhost:8080/"
        },
        "id": "zqp6WfgzN0Hw",
        "outputId": "55c1595c-3885-44b8-b391-a07610175241"
      },
      "source": [
        "tt"
      ],
      "execution_count": null,
      "outputs": [
        {
          "output_type": "execute_result",
          "data": {
            "text/plain": [
              "(1, 2, [1, 3, 5, 4])"
            ]
          },
          "metadata": {
            "tags": []
          },
          "execution_count": 10
        }
      ]
    },
    {
      "cell_type": "code",
      "metadata": {
        "id": "NL7ytUuzN2NW"
      },
      "source": [
        "x, y = (10, 20)"
      ],
      "execution_count": null,
      "outputs": []
    },
    {
      "cell_type": "code",
      "metadata": {
        "colab": {
          "base_uri": "https://localhost:8080/"
        },
        "id": "0h7A9-o0N8a0",
        "outputId": "29ee3172-689a-44d7-f353-0bf43d7b95e5"
      },
      "source": [
        "print(x)\n",
        "print(y)"
      ],
      "execution_count": null,
      "outputs": [
        {
          "output_type": "stream",
          "text": [
            "10\n",
            "20\n"
          ],
          "name": "stdout"
        }
      ]
    },
    {
      "cell_type": "code",
      "metadata": {
        "id": "4hAcc4R5N_wv"
      },
      "source": [
        "a, b = (10, 20, 30, 40)"
      ],
      "execution_count": null,
      "outputs": []
    },
    {
      "cell_type": "code",
      "metadata": {
        "id": "p8wTl9L1OTiE"
      },
      "source": [
        "a, _, b, _ = (10,20,30,40)"
      ],
      "execution_count": null,
      "outputs": []
    },
    {
      "cell_type": "code",
      "metadata": {
        "colab": {
          "base_uri": "https://localhost:8080/"
        },
        "id": "y7W6nDu2OhtE",
        "outputId": "bc036950-65ed-49aa-df73-8a70093ff09e"
      },
      "source": [
        "print(a,b)"
      ],
      "execution_count": null,
      "outputs": [
        {
          "output_type": "stream",
          "text": [
            "10 30\n"
          ],
          "name": "stdout"
        }
      ]
    },
    {
      "cell_type": "code",
      "metadata": {
        "colab": {
          "base_uri": "https://localhost:8080/",
          "height": 166
        },
        "id": "Fo-5iWvbOj7J",
        "outputId": "a4a66856-0d2c-4100-90d0-1a928f1fca3e"
      },
      "source": [
        "x, y, z =(11,22,33,44,55)"
      ],
      "execution_count": null,
      "outputs": [
        {
          "output_type": "error",
          "ename": "ValueError",
          "evalue": "ignored",
          "traceback": [
            "\u001b[0;31m---------------------------------------------------------------------------\u001b[0m",
            "\u001b[0;31mValueError\u001b[0m                                Traceback (most recent call last)",
            "\u001b[0;32m<ipython-input-16-7b77618a0848>\u001b[0m in \u001b[0;36m<module>\u001b[0;34m()\u001b[0m\n\u001b[0;32m----> 1\u001b[0;31m \u001b[0mx\u001b[0m\u001b[0;34m,\u001b[0m \u001b[0my\u001b[0m\u001b[0;34m,\u001b[0m \u001b[0mz\u001b[0m \u001b[0;34m=\u001b[0m\u001b[0;34m(\u001b[0m\u001b[0;36m11\u001b[0m\u001b[0;34m,\u001b[0m\u001b[0;36m22\u001b[0m\u001b[0;34m,\u001b[0m\u001b[0;36m33\u001b[0m\u001b[0;34m,\u001b[0m\u001b[0;36m44\u001b[0m\u001b[0;34m,\u001b[0m\u001b[0;36m55\u001b[0m\u001b[0;34m)\u001b[0m\u001b[0;34m\u001b[0m\u001b[0;34m\u001b[0m\u001b[0m\n\u001b[0m",
            "\u001b[0;31mValueError\u001b[0m: too many values to unpack (expected 3)"
          ]
        }
      ]
    },
    {
      "cell_type": "code",
      "metadata": {
        "colab": {
          "base_uri": "https://localhost:8080/"
        },
        "id": "AKQOvTC_dA2G",
        "outputId": "19ee92bf-3d76-4223-ffb0-ff1194615ccb"
      },
      "source": [
        "x, y, *z = (11,22,33,44,55,66) # Başına yıldız koyunca diğer tüm değerleri yıldızın altında topluyor.\n",
        "print(x)\n",
        "print(y)\n",
        "print(z)"
      ],
      "execution_count": null,
      "outputs": [
        {
          "output_type": "stream",
          "text": [
            "11\n",
            "22\n",
            "[33, 44, 55, 66]\n"
          ],
          "name": "stdout"
        }
      ]
    },
    {
      "cell_type": "code",
      "metadata": {
        "colab": {
          "base_uri": "https://localhost:8080/"
        },
        "id": "PKdMAu5ldOlg",
        "outputId": "082b20c0-fdda-47f1-d831-75469b6ae950"
      },
      "source": [
        "x, y, *z, t = (11,22,33,44,55,66,77) # Aradakilerin hepsini *z içine atar.\n",
        "print(t)"
      ],
      "execution_count": null,
      "outputs": [
        {
          "output_type": "stream",
          "text": [
            "77\n"
          ],
          "name": "stdout"
        }
      ]
    },
    {
      "cell_type": "code",
      "metadata": {
        "colab": {
          "base_uri": "https://localhost:8080/"
        },
        "id": "UIApy1tnduT1",
        "outputId": "a968b9ff-d108-4c8e-c639-7c4813403f9c"
      },
      "source": [
        "x, y, *_, t, w = (11,22,33,44,55,66,77,88)\n",
        "print(t)"
      ],
      "execution_count": null,
      "outputs": [
        {
          "output_type": "stream",
          "text": [
            "77\n"
          ],
          "name": "stdout"
        }
      ]
    },
    {
      "cell_type": "code",
      "metadata": {
        "id": "MKBJ4wOZd8u3"
      },
      "source": [
        "isimler = {\"ali\" : 33,\n",
        "           \"veli\" : 44,\n",
        "           \"ayşe\" : 2}"
      ],
      "execution_count": null,
      "outputs": []
    },
    {
      "cell_type": "code",
      "metadata": {
        "colab": {
          "base_uri": "https://localhost:8080/"
        },
        "id": "JHZUx8ieeS_2",
        "outputId": "c3b0c63f-1989-4a4c-d25f-b3ef765465ab"
      },
      "source": [
        "isimler.items()"
      ],
      "execution_count": null,
      "outputs": [
        {
          "output_type": "execute_result",
          "data": {
            "text/plain": [
              "dict_items([('ali', 33), ('veli', 44), ('ayşe', 2)])"
            ]
          },
          "metadata": {
            "tags": []
          },
          "execution_count": 23
        }
      ]
    },
    {
      "cell_type": "code",
      "metadata": {
        "colab": {
          "base_uri": "https://localhost:8080/"
        },
        "id": "G0l41dcseT3e",
        "outputId": "1b479bd6-d2e3-474a-9698-5dffb0c81774"
      },
      "source": [
        "for a, b in isimler.items() :\n",
        "    print(a,b)"
      ],
      "execution_count": null,
      "outputs": [
        {
          "output_type": "stream",
          "text": [
            "ali 33\n",
            "veli 44\n",
            "ayşe 2\n"
          ],
          "name": "stdout"
        }
      ]
    },
    {
      "cell_type": "code",
      "metadata": {
        "id": "cw6OIe8YgKUM"
      },
      "source": [
        "times = int(input(\"How many times should I say 'I love you'\"))\n",
        "\n",
        "for i in range(times):\n",
        "    print('I love you')"
      ],
      "execution_count": null,
      "outputs": []
    },
    {
      "cell_type": "code",
      "metadata": {
        "colab": {
          "base_uri": "https://localhost:8080/"
        },
        "id": "lPc5LsZYgU4T",
        "outputId": "92fb90cb-8c6d-429b-9175-f8a5e1de5d48"
      },
      "source": [
        "number = int(input(\"Enter a number betwen 0 - 10 :\"))\n",
        "\n",
        "for i  in range(11) :\n",
        "\n",
        "    print(\"{}x{} = \".format(number, i), number * i)\n"
      ],
      "execution_count": null,
      "outputs": [
        {
          "output_type": "stream",
          "text": [
            "Enter a number betwen 0 - 10 :5\n",
            "5x0 =  0\n",
            "5x1 =  5\n",
            "5x2 =  10\n",
            "5x3 =  15\n",
            "5x4 =  20\n",
            "5x5 =  25\n",
            "5x6 =  30\n",
            "5x7 =  35\n",
            "5x8 =  40\n",
            "5x9 =  45\n",
            "5x10 =  50\n"
          ],
          "name": "stdout"
        }
      ]
    },
    {
      "cell_type": "code",
      "metadata": {
        "colab": {
          "base_uri": "https://localhost:8080/"
        },
        "id": "w9791VwGjxEe",
        "outputId": "e0e2cb5f-fd47-472a-b3b3-86f4517e8826"
      },
      "source": [
        "number = int(input(\"Enter a number between 1-10 :\"))\n",
        "\n",
        "for i in range(11) :\n",
        "    print(\"{}x{} = {}\".format(number, i, number*i))"
      ],
      "execution_count": null,
      "outputs": [
        {
          "output_type": "stream",
          "text": [
            "Enter a number between 1-10 :6\n",
            "6x0 = 0\n",
            "6x1 = 6\n",
            "6x2 = 12\n",
            "6x3 = 18\n",
            "6x4 = 24\n",
            "6x5 = 30\n",
            "6x6 = 36\n",
            "6x7 = 42\n",
            "6x8 = 48\n",
            "6x9 = 54\n",
            "6x10 = 60\n"
          ],
          "name": "stdout"
        }
      ]
    },
    {
      "cell_type": "code",
      "metadata": {
        "id": "JcC9lHPbmwrP"
      },
      "source": [
        "seq = range(5)"
      ],
      "execution_count": null,
      "outputs": []
    },
    {
      "cell_type": "code",
      "metadata": {
        "colab": {
          "base_uri": "https://localhost:8080/"
        },
        "id": "uVLSdV2fm0c4",
        "outputId": "38343a31-1657-43d2-db8b-8225efb5978f"
      },
      "source": [
        "for i in seq :\n",
        "    print(i)"
      ],
      "execution_count": null,
      "outputs": [
        {
          "output_type": "stream",
          "text": [
            "0\n",
            "1\n",
            "2\n",
            "3\n",
            "4\n"
          ],
          "name": "stdout"
        }
      ]
    },
    {
      "cell_type": "code",
      "metadata": {
        "colab": {
          "base_uri": "https://localhost:8080/"
        },
        "id": "RBv5eYi_m_M8",
        "outputId": "8efc5055-6d60-470f-b06b-749f7cac4bfd"
      },
      "source": [
        "print(list(seq))"
      ],
      "execution_count": null,
      "outputs": [
        {
          "output_type": "stream",
          "text": [
            "[0, 1, 2, 3, 4]\n"
          ],
          "name": "stdout"
        }
      ]
    },
    {
      "cell_type": "code",
      "metadata": {
        "colab": {
          "base_uri": "https://localhost:8080/"
        },
        "id": "_cx8Mjx7nDIl",
        "outputId": "85be203a-9a03-49f9-eddf-7fd685242834"
      },
      "source": [
        "print(tuple(seq))"
      ],
      "execution_count": null,
      "outputs": [
        {
          "output_type": "stream",
          "text": [
            "(0, 1, 2, 3, 4)\n"
          ],
          "name": "stdout"
        }
      ]
    },
    {
      "cell_type": "code",
      "metadata": {
        "colab": {
          "base_uri": "https://localhost:8080/"
        },
        "id": "ZieS9QX9nE-V",
        "outputId": "32988aba-7957-44ab-af1a-3b251e2b6009"
      },
      "source": [
        "print(* seq)"
      ],
      "execution_count": null,
      "outputs": [
        {
          "output_type": "stream",
          "text": [
            "0 1 2 3 4\n"
          ],
          "name": "stdout"
        }
      ]
    },
    {
      "cell_type": "code",
      "metadata": {
        "colab": {
          "base_uri": "https://localhost:8080/"
        },
        "id": "R2QfFF-mnI-3",
        "outputId": "4868f445-c1cd-40ac-8d7b-3938270cb158"
      },
      "source": [
        "print(* \"separate\")"
      ],
      "execution_count": null,
      "outputs": [
        {
          "output_type": "stream",
          "text": [
            "s e p a r a t e\n"
          ],
          "name": "stdout"
        }
      ]
    },
    {
      "cell_type": "code",
      "metadata": {
        "id": "WdO59CNUn2yH"
      },
      "source": [
        ""
      ],
      "execution_count": null,
      "outputs": []
    },
    {
      "cell_type": "code",
      "metadata": {
        "id": "bNBGOuUgnSRd"
      },
      "source": [
        "isimler = [\"tarık\", \"sevda\", \"selim\"]\n",
        "yaşlar = [11, 22, 33]"
      ],
      "execution_count": null,
      "outputs": []
    },
    {
      "cell_type": "code",
      "metadata": {
        "id": "q4w6cBQgnbrF"
      },
      "source": [
        "xx = zip(isimler, yaşlar) # zip() fonksiyonu herbir elemanı tuple tuple birleştirir."
      ],
      "execution_count": null,
      "outputs": []
    },
    {
      "cell_type": "code",
      "metadata": {
        "colab": {
          "base_uri": "https://localhost:8080/"
        },
        "id": "rdX0_98NogJi",
        "outputId": "43ad8b1a-574a-4466-fa7b-9a31bfa4d542"
      },
      "source": [
        "print(list(xx)) # Bir kez içini boşaltttıktan sonra artık iterate edemeyiz."
      ],
      "execution_count": null,
      "outputs": [
        {
          "output_type": "stream",
          "text": [
            "[('tarık', 11), ('sevda', 22), ('selim', 33)]\n"
          ],
          "name": "stdout"
        }
      ]
    },
    {
      "cell_type": "code",
      "metadata": {
        "id": "XyIwWMpIBeW5"
      },
      "source": [
        "text = ['one','two','three','four','five']\n",
        "numbers = [1, 2, 3, 4, 5]\n",
        "city = [\"Tokyo\", \"Kiev\", \"Mekke\", \"İstanbul\", \"Washington\"]"
      ],
      "execution_count": null,
      "outputs": []
    },
    {
      "cell_type": "code",
      "metadata": {
        "colab": {
          "base_uri": "https://localhost:8080/"
        },
        "id": "rXpl0jTDCLdM",
        "outputId": "46020e61-da00-43d2-cdb7-8ab6d4c4d8ac"
      },
      "source": [
        "print(zip(text, numbers)) # zip içi görünür değil, 3 yöntem var: collection, * ve for loop ile görünür yapabilirim."
      ],
      "execution_count": null,
      "outputs": [
        {
          "output_type": "stream",
          "text": [
            "<zip object at 0x7f255130aa00>\n"
          ],
          "name": "stdout"
        }
      ]
    },
    {
      "cell_type": "code",
      "metadata": {
        "colab": {
          "base_uri": "https://localhost:8080/"
        },
        "id": "lvPu1535CQU0",
        "outputId": "680c8db2-3506-42c6-ead2-d24c4f3714b9"
      },
      "source": [
        "list(zip(text, numbers))"
      ],
      "execution_count": null,
      "outputs": [
        {
          "output_type": "execute_result",
          "data": {
            "text/plain": [
              "[('one', 1), ('two', 2), ('three', 3), ('four', 4), ('five', 5)]"
            ]
          },
          "metadata": {
            "tags": []
          },
          "execution_count": 4
        }
      ]
    },
    {
      "cell_type": "code",
      "metadata": {
        "colab": {
          "base_uri": "https://localhost:8080/"
        },
        "id": "EcByV1BrC_q1",
        "outputId": "e15f72ec-0191-47c4-d073-adb47ba2009a"
      },
      "source": [
        "print(* zip(text, numbers))"
      ],
      "execution_count": null,
      "outputs": [
        {
          "output_type": "stream",
          "text": [
            "('one', 1) ('two', 2) ('three', 3) ('four', 4) ('five', 5)\n"
          ],
          "name": "stdout"
        }
      ]
    },
    {
      "cell_type": "code",
      "metadata": {
        "colab": {
          "base_uri": "https://localhost:8080/"
        },
        "id": "byOl-vNwDCtC",
        "outputId": "db71fb75-f731-41b7-dd5f-07fe07a43a14"
      },
      "source": [
        "print(* zip(text, numbers, city))"
      ],
      "execution_count": null,
      "outputs": [
        {
          "output_type": "stream",
          "text": [
            "('one', 1, 'Tokyo') ('two', 2, 'Kiev') ('three', 3, 'Mekke') ('four', 4, 'İstanbul') ('five', 5, 'Washington')\n"
          ],
          "name": "stdout"
        }
      ]
    },
    {
      "cell_type": "code",
      "metadata": {
        "colab": {
          "base_uri": "https://localhost:8080/"
        },
        "id": "YLc17KxKDFdZ",
        "outputId": "b5400b7e-a742-422a-9949-2393b067e14e"
      },
      "source": [
        "evens = []\n",
        "odd = []\n",
        "for n in range(10) :\n",
        "    if n%2 == 0 :\n",
        "        evens.append(n)\n",
        "    else :\n",
        "        odd.append(n)\n",
        "print(evens)\n",
        "print(odd)"
      ],
      "execution_count": null,
      "outputs": [
        {
          "output_type": "stream",
          "text": [
            "[0, 2, 4, 6, 8]\n",
            "[1, 3, 5, 7, 9]\n"
          ],
          "name": "stdout"
        }
      ]
    },
    {
      "cell_type": "code",
      "metadata": {
        "id": "sLkd7bDwJVAE"
      },
      "source": [
        "numbers = [11, 36, 33, 66, 89, 21, 32, 16, 10]"
      ],
      "execution_count": null,
      "outputs": []
    },
    {
      "cell_type": "code",
      "metadata": {
        "colab": {
          "base_uri": "https://localhost:8080/"
        },
        "id": "nChI65CeFkSw",
        "outputId": "fd6b7a57-a778-473b-f057-cb58c25ed5f8"
      },
      "source": [
        "evens = 0\n",
        "odds = 0\n",
        "\n",
        "for i in numbers :\n",
        "    if not i%2 :\n",
        "        evens += 1\n",
        "    else:\n",
        "        odds += 1\n",
        "print(\"The count of even numbers : \", evens)\n",
        "print(\"The count of odd numbers : \", odds)"
      ],
      "execution_count": null,
      "outputs": [
        {
          "output_type": "stream",
          "text": [
            "The count of even numbers :  4\n",
            "The count of odd numbers :  6\n"
          ],
          "name": "stdout"
        }
      ]
    },
    {
      "cell_type": "code",
      "metadata": {
        "colab": {
          "base_uri": "https://localhost:8080/"
        },
        "id": "CYzeoszLKkop",
        "outputId": "394fd96e-b488-4ac8-bd15-7c3bcd1432b7"
      },
      "source": [
        "for i in range(9):\n",
        "    i += 1\n",
        "    print(str(i) * i)"
      ],
      "execution_count": null,
      "outputs": [
        {
          "output_type": "stream",
          "text": [
            "1\n",
            "22\n",
            "333\n",
            "4444\n",
            "55555\n",
            "666666\n",
            "7777777\n",
            "88888888\n",
            "999999999\n"
          ],
          "name": "stdout"
        }
      ]
    },
    {
      "cell_type": "code",
      "metadata": {
        "colab": {
          "base_uri": "https://localhost:8080/"
        },
        "id": "rZHPygKOaC3p",
        "outputId": "7ca5aeb7-0208-495f-ceda-b80286d3eef3"
      },
      "source": [
        "toplam = 0\n",
        "\n",
        "for i in range(1, 75) :\n",
        "    toplam = toplam + i\n",
        "toplam"
      ],
      "execution_count": null,
      "outputs": [
        {
          "output_type": "execute_result",
          "data": {
            "text/plain": [
              "2775"
            ]
          },
          "metadata": {
            "tags": []
          },
          "execution_count": 34
        }
      ]
    },
    {
      "cell_type": "markdown",
      "metadata": {
        "id": "Ael2PfbDk68E"
      },
      "source": [
        "NESTED for LOOPS"
      ]
    },
    {
      "cell_type": "code",
      "metadata": {
        "colab": {
          "base_uri": "https://localhost:8080/"
        },
        "id": "oMRwQ4GoWx4W",
        "outputId": "4e6d32c7-06b3-4dab-ef85-1c5865263f4c"
      },
      "source": [
        "who = ['I am ', 'You are ']\n",
        "mood = ['happy', 'confident']\n",
        "for i in who:\n",
        "    for ii in mood:\n",
        "        print(i + ii)"
      ],
      "execution_count": null,
      "outputs": [
        {
          "output_type": "stream",
          "text": [
            "I am happy\n",
            "I am confident\n",
            "You are happy\n",
            "You are confident\n"
          ],
          "name": "stdout"
        }
      ]
    },
    {
      "cell_type": "code",
      "metadata": {
        "colab": {
          "base_uri": "https://localhost:8080/"
        },
        "id": "hWS99oRUk_Eg",
        "outputId": "132284a9-a491-4f78-d811-f81ee0ae6d47"
      },
      "source": [
        "names = [\"susan\", \"tom\", \"edward\"] \n",
        "mood = [\"happy\", \"sad\"]\n",
        "for i in names: \n",
        "    for ii in mood:\n",
        "        print(i+\" is \"+ii)"
      ],
      "execution_count": null,
      "outputs": [
        {
          "output_type": "stream",
          "text": [
            "susan is happy\n",
            "susan is sad\n",
            "tom is happy\n",
            "tom is sad\n",
            "edward is happy\n",
            "edward is sad\n"
          ],
          "name": "stdout"
        }
      ]
    },
    {
      "cell_type": "code",
      "metadata": {
        "id": "fFfY0Zh0m-4d"
      },
      "source": [
        "my_list = [1, 2, 3, 4, 5, 6]"
      ],
      "execution_count": null,
      "outputs": []
    },
    {
      "cell_type": "code",
      "metadata": {
        "id": "jqJVhLcKm_4M"
      },
      "source": [
        "new_list = []"
      ],
      "execution_count": null,
      "outputs": []
    },
    {
      "cell_type": "code",
      "metadata": {
        "colab": {
          "base_uri": "https://localhost:8080/"
        },
        "id": "uoh67a91nEpc",
        "outputId": "4cf37c8d-9ce1-4d36-ce3e-e34c87279270"
      },
      "source": [
        "for i in my_list :\n",
        "    if i % 2 :\n",
        "        new_list.append(i ** 2)\n",
        "new_list"
      ],
      "execution_count": null,
      "outputs": [
        {
          "output_type": "execute_result",
          "data": {
            "text/plain": [
              "[1, 9, 25]"
            ]
          },
          "metadata": {
            "tags": []
          },
          "execution_count": 43
        }
      ]
    },
    {
      "cell_type": "code",
      "metadata": {
        "id": "68zPxtLJs8T4"
      },
      "source": [
        ""
      ],
      "execution_count": null,
      "outputs": []
    },
    {
      "cell_type": "markdown",
      "metadata": {
        "id": "xND5Bm4MBpvC"
      },
      "source": [
        "## list comprehension'ların temel yapısı :\n",
        "\n",
        "```python\n",
        "[expression for item in iterable]\n",
        "\n",
        "\n",
        "for item in iterable :\n",
        "    expression\n",
        "```"
      ]
    },
    {
      "cell_type": "code",
      "metadata": {
        "id": "lb9fk5OyBpvC",
        "outputId": "6e612a3a-ec57-4403-fd7d-c165bc9a330f"
      },
      "source": [
        "listem = []\n",
        "for i in range(5):\n",
        "    listem.append(i)\n",
        "listem"
      ],
      "execution_count": null,
      "outputs": [
        {
          "output_type": "execute_result",
          "data": {
            "text/plain": [
              "[0, 1, 2, 3, 4]"
            ]
          },
          "metadata": {
            "tags": []
          },
          "execution_count": 39
        }
      ]
    },
    {
      "cell_type": "code",
      "metadata": {
        "id": "vfkT5BqVBpvD",
        "outputId": "6d32f65c-3949-49b8-d49b-b3ee46aea205"
      },
      "source": [
        "[i for i in range(5)]"
      ],
      "execution_count": null,
      "outputs": [
        {
          "output_type": "execute_result",
          "data": {
            "text/plain": [
              "[0, 1, 2, 3, 4]"
            ]
          },
          "metadata": {
            "tags": []
          },
          "execution_count": 40
        }
      ]
    },
    {
      "cell_type": "code",
      "metadata": {
        "id": "YGgKgmgpBpvD",
        "outputId": "5746d380-e518-4256-8fb6-9cedc6cd2c8f"
      },
      "source": [
        "listem = []\n",
        "for i in range(5):\n",
        "    listem.append(i**2)\n",
        "listem"
      ],
      "execution_count": null,
      "outputs": [
        {
          "output_type": "execute_result",
          "data": {
            "text/plain": [
              "[0, 1, 4, 9, 16]"
            ]
          },
          "metadata": {
            "tags": []
          },
          "execution_count": 41
        }
      ]
    },
    {
      "cell_type": "code",
      "metadata": {
        "id": "ORTiu5kYBpvD",
        "outputId": "3b72259f-733c-490e-ecb5-b2961fd48b2d"
      },
      "source": [
        "[i**2 for i in range(5)]"
      ],
      "execution_count": null,
      "outputs": [
        {
          "output_type": "execute_result",
          "data": {
            "text/plain": [
              "[0, 1, 4, 9, 16]"
            ]
          },
          "metadata": {
            "tags": []
          },
          "execution_count": 42
        }
      ]
    },
    {
      "cell_type": "code",
      "metadata": {
        "id": "2n-si8sJBpvD",
        "outputId": "b63fb273-ec2b-4ee2-e7ee-b6552841072b"
      },
      "source": [
        "condition = True\n",
        "\n",
        "if condition :\n",
        "    a = 1\n",
        "else :\n",
        "    a = 0\n",
        "    \n",
        "print(a)"
      ],
      "execution_count": null,
      "outputs": [
        {
          "output_type": "stream",
          "text": [
            "1\n"
          ],
          "name": "stdout"
        }
      ]
    },
    {
      "cell_type": "code",
      "metadata": {
        "id": "uIoKdN9sBpvD",
        "outputId": "0babcca1-c5d7-43eb-d584-f464c7dabd4e"
      },
      "source": [
        "a=1 if 2 < 4 else 0\n",
        "print(a)"
      ],
      "execution_count": null,
      "outputs": [
        {
          "output_type": "stream",
          "text": [
            "1\n"
          ],
          "name": "stdout"
        }
      ]
    },
    {
      "cell_type": "code",
      "metadata": {
        "id": "_f2ZYctoBpvE"
      },
      "source": [
        ""
      ],
      "execution_count": null,
      "outputs": []
    },
    {
      "cell_type": "markdown",
      "metadata": {
        "id": "uOiTQsneWmU0"
      },
      "source": [
        "## ternary `if ` condition yapısı\n",
        "\n",
        "```python\n",
        "execute-body1 if condition else execute-body2\n",
        "```"
      ]
    },
    {
      "cell_type": "code",
      "metadata": {
        "id": "cgn7Ozd5WmU0"
      },
      "source": [
        "my_list = [1, 2, 3, 4, 5, 6]"
      ],
      "execution_count": null,
      "outputs": []
    },
    {
      "cell_type": "code",
      "metadata": {
        "id": "w5oFczZ-WmU1",
        "outputId": "e844551d-8687-42f7-9dc1-db05a8fc495e"
      },
      "source": [
        "[i ** 2 for i in my_list if i%2]"
      ],
      "execution_count": null,
      "outputs": [
        {
          "output_type": "execute_result",
          "data": {
            "text/plain": [
              "[1, 9, 25]"
            ]
          },
          "metadata": {
            "tags": []
          },
          "execution_count": 50
        }
      ]
    },
    {
      "cell_type": "code",
      "metadata": {
        "id": "QktCeGYLWmU1",
        "outputId": "901adc92-6684-4208-da03-69bbfca2f1d6"
      },
      "source": [
        "for i in my_list :\n",
        "    if i % 2 :\n",
        "        new_list.append(i ** 2)\n",
        "new_list"
      ],
      "execution_count": null,
      "outputs": [
        {
          "output_type": "execute_result",
          "data": {
            "text/plain": [
              "[1, 9, 25, 1, 9, 25]"
            ]
          },
          "metadata": {
            "tags": []
          },
          "execution_count": 52
        }
      ]
    },
    {
      "cell_type": "code",
      "metadata": {
        "id": "AxIf8xxrWmU2",
        "outputId": "b61f58a0-518d-4eef-a68c-c799f20ced7c"
      },
      "source": [
        "[i ** 2 for i in my_list if not i%2]"
      ],
      "execution_count": null,
      "outputs": [
        {
          "output_type": "execute_result",
          "data": {
            "text/plain": [
              "[4, 16, 36]"
            ]
          },
          "metadata": {
            "tags": []
          },
          "execution_count": 51
        }
      ]
    },
    {
      "cell_type": "code",
      "metadata": {
        "id": "Fx7VTopTWmU3",
        "outputId": "b34d2562-d82f-462e-fc2d-8a27eb520260"
      },
      "source": [
        "a = [i ** 2 for i in my_list if not i%2]\n",
        "a"
      ],
      "execution_count": null,
      "outputs": [
        {
          "output_type": "execute_result",
          "data": {
            "text/plain": [
              "[4, 16, 36]"
            ]
          },
          "metadata": {
            "tags": []
          },
          "execution_count": 53
        }
      ]
    },
    {
      "cell_type": "code",
      "metadata": {
        "id": "77wH-9aRWmU3"
      },
      "source": [
        "a = (i**2 for i in my_list)"
      ],
      "execution_count": null,
      "outputs": []
    },
    {
      "cell_type": "code",
      "metadata": {
        "id": "91rJ57SpWmU3",
        "outputId": "822c4396-bbdf-40d2-ddb0-3595c23cc1fe"
      },
      "source": [
        "a"
      ],
      "execution_count": null,
      "outputs": [
        {
          "output_type": "execute_result",
          "data": {
            "text/plain": [
              "<generator object <genexpr> at 0x000001C88216A048>"
            ]
          },
          "metadata": {
            "tags": []
          },
          "execution_count": 56
        }
      ]
    },
    {
      "cell_type": "code",
      "metadata": {
        "id": "fSbzPGwZWmU4",
        "outputId": "047958a1-3ab8-4822-d7bc-e97123ec8f23"
      },
      "source": [
        "print(*a)"
      ],
      "execution_count": null,
      "outputs": [
        {
          "output_type": "stream",
          "text": [
            "1 4 9 16 25 36\n"
          ],
          "name": "stdout"
        }
      ]
    },
    {
      "cell_type": "code",
      "metadata": {
        "id": "hoO0d8AYWmU4",
        "outputId": "149b468f-0ea8-4bf6-ead7-8a4a5e4d1b31"
      },
      "source": [
        "for i in a:\n",
        "    print(i)"
      ],
      "execution_count": null,
      "outputs": [
        {
          "output_type": "stream",
          "text": [
            "1\n",
            "4\n",
            "9\n",
            "16\n",
            "25\n",
            "36\n"
          ],
          "name": "stdout"
        }
      ]
    },
    {
      "cell_type": "code",
      "metadata": {
        "id": "tgVdK9idWmU5",
        "outputId": "eff14e39-9fea-4722-bdc8-960129cd05a7"
      },
      "source": [
        "a = (i**2 for i in my_list)\n",
        "\n",
        "print(next(a))"
      ],
      "execution_count": null,
      "outputs": [
        {
          "output_type": "stream",
          "text": [
            "1\n"
          ],
          "name": "stdout"
        }
      ]
    },
    {
      "cell_type": "code",
      "metadata": {
        "id": "UqOA6tdvWmU6",
        "outputId": "26037fe1-9dce-458d-a1a2-33ea2897f8cc"
      },
      "source": [
        "print(next(a))"
      ],
      "execution_count": null,
      "outputs": [
        {
          "output_type": "stream",
          "text": [
            "4\n"
          ],
          "name": "stdout"
        }
      ]
    },
    {
      "cell_type": "code",
      "metadata": {
        "id": "4Z0437ZWWmU6",
        "outputId": "7fbfd863-5975-44f7-85a7-ae1778bb13f4"
      },
      "source": [
        "print(next(a))"
      ],
      "execution_count": null,
      "outputs": [
        {
          "output_type": "stream",
          "text": [
            "9\n"
          ],
          "name": "stdout"
        }
      ]
    },
    {
      "cell_type": "code",
      "metadata": {
        "id": "zsJ9qrNEWmU7",
        "outputId": "27994516-a5e3-4ec5-c58f-8a268f68f920"
      },
      "source": [
        "print(next(a))"
      ],
      "execution_count": null,
      "outputs": [
        {
          "output_type": "stream",
          "text": [
            "16\n"
          ],
          "name": "stdout"
        }
      ]
    },
    {
      "cell_type": "code",
      "metadata": {
        "id": "aT9QbJ3CWmU7",
        "outputId": "d36bc928-9c4d-4cbb-e2b5-bbb3ea391464"
      },
      "source": [
        "print(next(a))"
      ],
      "execution_count": null,
      "outputs": [
        {
          "output_type": "stream",
          "text": [
            "25\n"
          ],
          "name": "stdout"
        }
      ]
    },
    {
      "cell_type": "code",
      "metadata": {
        "id": "LY25aQlpWmU8",
        "outputId": "2238c6cd-6701-475d-b1e6-8f13f4bbd253"
      },
      "source": [
        "print(next(a))"
      ],
      "execution_count": null,
      "outputs": [
        {
          "output_type": "stream",
          "text": [
            "36\n"
          ],
          "name": "stdout"
        }
      ]
    },
    {
      "cell_type": "code",
      "metadata": {
        "id": "oPdqSrXTWmU8",
        "outputId": "5acc3cbb-0e37-4ee0-ea5e-7e31072cb27b"
      },
      "source": [
        "print(next(a))"
      ],
      "execution_count": null,
      "outputs": [
        {
          "output_type": "error",
          "ename": "StopIteration",
          "evalue": "",
          "traceback": [
            "\u001b[1;31m---------------------------------------------------------------------------\u001b[0m",
            "\u001b[1;31mStopIteration\u001b[0m                             Traceback (most recent call last)",
            "\u001b[1;32m<ipython-input-69-94b12d3903f7>\u001b[0m in \u001b[0;36m<module>\u001b[1;34m\u001b[0m\n\u001b[1;32m----> 1\u001b[1;33m \u001b[0mprint\u001b[0m\u001b[1;33m(\u001b[0m\u001b[0mnext\u001b[0m\u001b[1;33m(\u001b[0m\u001b[0ma\u001b[0m\u001b[1;33m)\u001b[0m\u001b[1;33m)\u001b[0m\u001b[1;33m\u001b[0m\u001b[1;33m\u001b[0m\u001b[0m\n\u001b[0m",
            "\u001b[1;31mStopIteration\u001b[0m: "
          ]
        }
      ]
    },
    {
      "cell_type": "code",
      "metadata": {
        "id": "LenTb6vVWmU9",
        "outputId": "73fc2316-fb36-4d1e-c5e0-a363f6d76c72"
      },
      "source": [
        "print(*range(5))"
      ],
      "execution_count": null,
      "outputs": [
        {
          "output_type": "stream",
          "text": [
            "0 1 2 3 4\n"
          ],
          "name": "stdout"
        }
      ]
    },
    {
      "cell_type": "code",
      "metadata": {
        "id": "O8veMqaeWmU-"
      },
      "source": [
        "benim()"
      ],
      "execution_count": null,
      "outputs": []
    },
    {
      "cell_type": "code",
      "metadata": {
        "colab": {
          "base_uri": "https://localhost:8080/"
        },
        "id": "7uovcLHRXBY4",
        "outputId": "639d9c98-fdea-4fb6-9111-a4fb6c2623e4"
      },
      "source": [
        " \n",
        "lower = 1  \n",
        "upper = int(input(\"Enter upper range: \"))  \n",
        "  \n",
        "for num in range(lower,upper + 1):  \n",
        "   if num > 1:  \n",
        "       for i in range(2,num):  \n",
        "           if (num % i) == 0:  \n",
        "               break  \n",
        "       else:  \n",
        "           print(num)  "
      ],
      "execution_count": null,
      "outputs": [
        {
          "output_type": "stream",
          "text": [
            "Enter upper range: 5\n",
            "2\n",
            "3\n",
            "5\n"
          ],
          "name": "stdout"
        }
      ]
    },
    {
      "cell_type": "code",
      "metadata": {
        "id": "53p2fN50Zdr8"
      },
      "source": [
        "for fizzbuzz in range(101):\n",
        "    if fizzbuzz % 3 == 0 and fizzbuzz % 5 == 0:\n",
        "        print(\"FizzBuzz\")\n",
        "        continue\n",
        "    elif fizzbuzz % 3 == 0:\n",
        "        print(\"Fizz\")\n",
        "        continue\n",
        "    elif fizzbuzz % 5 == 0:\n",
        "        print(\"Buzz\")\n",
        "        continue\n",
        "    print(fizzbuzz)"
      ],
      "execution_count": null,
      "outputs": []
    },
    {
      "cell_type": "code",
      "metadata": {
        "colab": {
          "base_uri": "https://localhost:8080/"
        },
        "id": "fO9VT6yQcEPx",
        "outputId": "c70df84c-996a-4e3c-f8ba-f03c17e18e1a"
      },
      "source": [
        "terim_say = 55\n",
        "# first two terms\n",
        "n1, n2 = 0, 1\n",
        "count = 0\n",
        "while count < terim_say:\n",
        "       print(n1)\n",
        "       nth = n1 + n2\n",
        "       # update values\n",
        "       n1 = n2\n",
        "       n2 = nth\n",
        "       count += 1"
      ],
      "execution_count": null,
      "outputs": [
        {
          "output_type": "stream",
          "text": [
            "0\n",
            "1\n",
            "1\n",
            "2\n",
            "3\n",
            "5\n",
            "8\n",
            "13\n",
            "21\n",
            "34\n",
            "55\n",
            "89\n",
            "144\n",
            "233\n",
            "377\n",
            "610\n",
            "987\n",
            "1597\n",
            "2584\n",
            "4181\n",
            "6765\n",
            "10946\n",
            "17711\n",
            "28657\n",
            "46368\n",
            "75025\n",
            "121393\n",
            "196418\n",
            "317811\n",
            "514229\n",
            "832040\n",
            "1346269\n",
            "2178309\n",
            "3524578\n",
            "5702887\n",
            "9227465\n",
            "14930352\n",
            "24157817\n",
            "39088169\n",
            "63245986\n",
            "102334155\n",
            "165580141\n",
            "267914296\n",
            "433494437\n",
            "701408733\n",
            "1134903170\n",
            "1836311903\n",
            "2971215073\n",
            "4807526976\n",
            "7778742049\n",
            "12586269025\n",
            "20365011074\n",
            "32951280099\n",
            "53316291173\n",
            "86267571272\n"
          ],
          "name": "stdout"
        }
      ]
    }
  ]
}